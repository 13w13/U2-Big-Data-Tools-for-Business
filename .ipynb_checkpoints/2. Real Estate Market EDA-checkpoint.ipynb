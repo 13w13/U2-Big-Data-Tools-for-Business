{
 "cells": [
  {
   "cell_type": "markdown",
   "metadata": {},
   "source": [
    "# Part 2: Real Estate Market Data Exploration in major French cities"
   ]
  },
  {
   "cell_type": "code",
   "execution_count": 1,
   "metadata": {},
   "outputs": [
    {
     "name": "stdout",
     "output_type": "stream",
     "text": [
      "Collecting datefinder\n",
      "  Downloading datefinder-0.7.1-py2.py3-none-any.whl (10 kB)\n",
      "Requirement already satisfied: python-dateutil>=2.4.2 in /opt/conda/lib/python3.8/site-packages (from datefinder) (2.8.1)\n",
      "Collecting regex>=2017.02.08\n",
      "  Downloading regex-2020.11.13-cp38-cp38-manylinux2014_x86_64.whl (738 kB)\n",
      "\u001b[K     |████████████████████████████████| 738 kB 382 kB/s eta 0:00:01\n",
      "\u001b[?25hRequirement already satisfied: pytz in /opt/conda/lib/python3.8/site-packages (from datefinder) (2020.1)\n",
      "Requirement already satisfied: six>=1.5 in /opt/conda/lib/python3.8/site-packages (from python-dateutil>=2.4.2->datefinder) (1.15.0)\n",
      "Installing collected packages: regex, datefinder\n",
      "Successfully installed datefinder-0.7.1 regex-2020.11.13\n",
      "Note: you may need to restart the kernel to use updated packages.\n"
     ]
    }
   ],
   "source": [
    "pip install datefinder"
   ]
  },
  {
   "cell_type": "code",
   "execution_count": 2,
   "metadata": {},
   "outputs": [],
   "source": [
    "import pyspark\n",
    "import pandas as pd\n",
    "import datefinder\n",
    "import numpy as np\n",
    "import matplotlib.pyplot as plt"
   ]
  },
  {
   "cell_type": "code",
   "execution_count": 3,
   "metadata": {},
   "outputs": [],
   "source": [
    "sc = pyspark.SparkContext(appName=\"Spark RDD\")"
   ]
  },
  {
   "cell_type": "markdown",
   "metadata": {},
   "source": [
    "# Importing the Data "
   ]
  },
  {
   "cell_type": "code",
   "execution_count": 5,
   "metadata": {},
   "outputs": [],
   "source": [
    "df= pd.read_csv('data/real_estate_transactions.csv', sep=';')"
   ]
  },
  {
   "cell_type": "code",
   "execution_count": 6,
   "metadata": {
    "scrolled": false
   },
   "outputs": [
    {
     "data": {
      "text/plain": [
       "11"
      ]
     },
     "execution_count": 6,
     "metadata": {},
     "output_type": "execute_result"
    }
   ],
   "source": [
    "len(df.keys())"
   ]
  },
  {
   "cell_type": "code",
   "execution_count": 7,
   "metadata": {},
   "outputs": [],
   "source": [
    "rdd_estate = sc.textFile('data/real_estate_transactions.csv') \\\n",
    "               .map(lambda line: line.split(\";\")) \\\n",
    "               .filter(lambda line: len(line)>1) \\\n",
    "               .map(lambda line: (line[0:]))"
   ]
  },
  {
   "cell_type": "code",
   "execution_count": 8,
   "metadata": {},
   "outputs": [
    {
     "data": {
      "text/plain": [
       "\"['City',\\n  'Sale Date',\\n  'Sale Type',\\n  'Price',\\n  'Postal Code',\\n  'Commune',\\n  'Number of lots',\\n  'Local Type',\\n  'Living Area',\\n  'Number of rooms',\\n  'Land Area']\""
      ]
     },
     "execution_count": 8,
     "metadata": {},
     "output_type": "execute_result"
    }
   ],
   "source": [
    "'''['City',\n",
    "  'Sale Date',\n",
    "  'Sale Type',\n",
    "  'Price',\n",
    "  'Postal Code',\n",
    "  'Commune',\n",
    "  'Number of lots',\n",
    "  'Local Type',\n",
    "  'Living Area',\n",
    "  'Number of rooms',\n",
    "  'Land Area']'''"
   ]
  },
  {
   "cell_type": "markdown",
   "metadata": {},
   "source": [
    "# Cleaning the Data "
   ]
  },
  {
   "cell_type": "code",
   "execution_count": 9,
   "metadata": {
    "scrolled": true
   },
   "outputs": [],
   "source": [
    "header = rdd_estate.first()\n",
    "#rdd.filter(lambda line: line != header)"
   ]
  },
  {
   "cell_type": "code",
   "execution_count": 10,
   "metadata": {
    "scrolled": true
   },
   "outputs": [
    {
     "data": {
      "text/plain": [
       "[['NICE',\n",
       "  '26/03/2015',\n",
       "  'SALE',\n",
       "  '102000,00',\n",
       "  '6000',\n",
       "  'NICE',\n",
       "  '1',\n",
       "  'APARTMENT',\n",
       "  '29',\n",
       "  '2',\n",
       "  ''],\n",
       " ['NICE',\n",
       "  '07/04/2015',\n",
       "  'SALE',\n",
       "  '32000,00',\n",
       "  '6000',\n",
       "  'NICE',\n",
       "  '1',\n",
       "  'DEPENDENCY',\n",
       "  '0',\n",
       "  '0',\n",
       "  ''],\n",
       " ['NICE',\n",
       "  '10/04/2015',\n",
       "  'SALE',\n",
       "  '239000,00',\n",
       "  '6200',\n",
       "  'NICE',\n",
       "  '1',\n",
       "  'APARTMENT',\n",
       "  '51',\n",
       "  '2',\n",
       "  ''],\n",
       " ['NICE',\n",
       "  '10/04/2015',\n",
       "  'SALE',\n",
       "  '239000,00',\n",
       "  '6200',\n",
       "  'NICE',\n",
       "  '1',\n",
       "  'DEPENDENCY',\n",
       "  '0',\n",
       "  '0',\n",
       "  ''],\n",
       " ['NICE',\n",
       "  '23/03/2015',\n",
       "  'SALE',\n",
       "  '30000,00',\n",
       "  '6000',\n",
       "  'NICE',\n",
       "  '1',\n",
       "  'DEPENDENCY',\n",
       "  '0',\n",
       "  '0',\n",
       "  ''],\n",
       " ['NICE',\n",
       "  '23/03/2015',\n",
       "  'SALE',\n",
       "  '410000,00',\n",
       "  '6200',\n",
       "  'NICE',\n",
       "  '2',\n",
       "  'APARTMENT',\n",
       "  '60',\n",
       "  '3',\n",
       "  ''],\n",
       " ['NICE',\n",
       "  '08/04/2015',\n",
       "  'SALE',\n",
       "  '215000,00',\n",
       "  '6200',\n",
       "  'NICE',\n",
       "  '1',\n",
       "  'DEPENDENCY',\n",
       "  '0',\n",
       "  '0',\n",
       "  ''],\n",
       " ['NICE',\n",
       "  '08/04/2015',\n",
       "  'SALE',\n",
       "  '215000,00',\n",
       "  '6200',\n",
       "  'NICE',\n",
       "  '1',\n",
       "  'APARTMENT',\n",
       "  '67',\n",
       "  '3',\n",
       "  ''],\n",
       " ['NICE',\n",
       "  '20/03/2015',\n",
       "  'SALE',\n",
       "  '625000,00',\n",
       "  '6200',\n",
       "  'NICE',\n",
       "  '0',\n",
       "  'HOUSE',\n",
       "  '160',\n",
       "  '5',\n",
       "  '500'],\n",
       " ['NICE',\n",
       "  '20/03/2015',\n",
       "  'SALE',\n",
       "  '625000,00',\n",
       "  '6200',\n",
       "  'NICE',\n",
       "  '0',\n",
       "  'HOUSE',\n",
       "  '160',\n",
       "  '5',\n",
       "  '1267']]"
      ]
     },
     "execution_count": 10,
     "metadata": {},
     "output_type": "execute_result"
    }
   ],
   "source": [
    "rdd_estate = rdd_estate.filter(lambda line: line != header)\n",
    "\n",
    "rdd_estate.take(10)"
   ]
  },
  {
   "cell_type": "code",
   "execution_count": 11,
   "metadata": {},
   "outputs": [],
   "source": [
    "def find_date(tweet) :\n",
    "    matches = list(datefinder.find_dates(tweet))\n",
    "    if len(matches) > 0:\n",
    "        date_ = matches[0]\n",
    "    else : \n",
    "        date_ = None\n",
    "    return date_"
   ]
  },
  {
   "cell_type": "code",
   "execution_count": 12,
   "metadata": {
    "scrolled": true
   },
   "outputs": [
    {
     "data": {
      "text/plain": [
       "5"
      ]
     },
     "execution_count": 12,
     "metadata": {},
     "output_type": "execute_result"
    }
   ],
   "source": [
    "rdd_estate_nb_year = rdd_estate.map(lambda tuple: find_date(tuple[1]).year) \n",
    "\n",
    "\n",
    "rdd_estate_nb_year.distinct().count()"
   ]
  },
  {
   "cell_type": "markdown",
   "metadata": {},
   "source": [
    "No need to add city for 2019 transactions (already done)"
   ]
  },
  {
   "cell_type": "code",
   "execution_count": 13,
   "metadata": {},
   "outputs": [
    {
     "data": {
      "text/plain": [
       "[['NICE',\n",
       "  '26/03/2015',\n",
       "  'SALE',\n",
       "  '102000,00',\n",
       "  '6000',\n",
       "  'NICE',\n",
       "  '1',\n",
       "  'APARTMENT',\n",
       "  '29',\n",
       "  '2',\n",
       "  ''],\n",
       " ['NICE',\n",
       "  '07/04/2015',\n",
       "  'SALE',\n",
       "  '32000,00',\n",
       "  '6000',\n",
       "  'NICE',\n",
       "  '1',\n",
       "  'DEPENDENCY',\n",
       "  '0',\n",
       "  '0',\n",
       "  ''],\n",
       " ['NICE',\n",
       "  '10/04/2015',\n",
       "  'SALE',\n",
       "  '239000,00',\n",
       "  '6200',\n",
       "  'NICE',\n",
       "  '1',\n",
       "  'APARTMENT',\n",
       "  '51',\n",
       "  '2',\n",
       "  ''],\n",
       " ['NICE',\n",
       "  '10/04/2015',\n",
       "  'SALE',\n",
       "  '239000,00',\n",
       "  '6200',\n",
       "  'NICE',\n",
       "  '1',\n",
       "  'DEPENDENCY',\n",
       "  '0',\n",
       "  '0',\n",
       "  ''],\n",
       " ['NICE',\n",
       "  '23/03/2015',\n",
       "  'SALE',\n",
       "  '30000,00',\n",
       "  '6000',\n",
       "  'NICE',\n",
       "  '1',\n",
       "  'DEPENDENCY',\n",
       "  '0',\n",
       "  '0',\n",
       "  ''],\n",
       " ['NICE',\n",
       "  '23/03/2015',\n",
       "  'SALE',\n",
       "  '410000,00',\n",
       "  '6200',\n",
       "  'NICE',\n",
       "  '2',\n",
       "  'APARTMENT',\n",
       "  '60',\n",
       "  '3',\n",
       "  ''],\n",
       " ['NICE',\n",
       "  '08/04/2015',\n",
       "  'SALE',\n",
       "  '215000,00',\n",
       "  '6200',\n",
       "  'NICE',\n",
       "  '1',\n",
       "  'DEPENDENCY',\n",
       "  '0',\n",
       "  '0',\n",
       "  ''],\n",
       " ['NICE',\n",
       "  '08/04/2015',\n",
       "  'SALE',\n",
       "  '215000,00',\n",
       "  '6200',\n",
       "  'NICE',\n",
       "  '1',\n",
       "  'APARTMENT',\n",
       "  '67',\n",
       "  '3',\n",
       "  ''],\n",
       " ['NICE',\n",
       "  '20/03/2015',\n",
       "  'SALE',\n",
       "  '625000,00',\n",
       "  '6200',\n",
       "  'NICE',\n",
       "  '0',\n",
       "  'HOUSE',\n",
       "  '160',\n",
       "  '5',\n",
       "  '500'],\n",
       " ['NICE',\n",
       "  '20/03/2015',\n",
       "  'SALE',\n",
       "  '625000,00',\n",
       "  '6200',\n",
       "  'NICE',\n",
       "  '0',\n",
       "  'HOUSE',\n",
       "  '160',\n",
       "  '5',\n",
       "  '1267']]"
      ]
     },
     "execution_count": 13,
     "metadata": {},
     "output_type": "execute_result"
    }
   ],
   "source": [
    "rdd_estate.filter(lambda tuple: find_date(tuple[1]).year == 2019)\n",
    "\n",
    "rdd_estate.take(10)"
   ]
  },
  {
   "cell_type": "markdown",
   "metadata": {},
   "source": [
    " keep only sale and sale before completion transactions"
   ]
  },
  {
   "cell_type": "code",
   "execution_count": 14,
   "metadata": {
    "scrolled": true
   },
   "outputs": [
    {
     "data": {
      "text/plain": [
       "6"
      ]
     },
     "execution_count": 14,
     "metadata": {},
     "output_type": "execute_result"
    }
   ],
   "source": [
    "rdd_estate.map(lambda tuple: tuple[2]).distinct().count()"
   ]
  },
  {
   "cell_type": "code",
   "execution_count": 15,
   "metadata": {
    "scrolled": true
   },
   "outputs": [
    {
     "data": {
      "text/plain": [
       "[['NICE',\n",
       "  '26/03/2015',\n",
       "  'SALE',\n",
       "  '102000,00',\n",
       "  '6000',\n",
       "  'NICE',\n",
       "  '1',\n",
       "  'APARTMENT',\n",
       "  '29',\n",
       "  '2',\n",
       "  ''],\n",
       " ['NICE',\n",
       "  '07/04/2015',\n",
       "  'SALE',\n",
       "  '32000,00',\n",
       "  '6000',\n",
       "  'NICE',\n",
       "  '1',\n",
       "  'DEPENDENCY',\n",
       "  '0',\n",
       "  '0',\n",
       "  ''],\n",
       " ['NICE',\n",
       "  '10/04/2015',\n",
       "  'SALE',\n",
       "  '239000,00',\n",
       "  '6200',\n",
       "  'NICE',\n",
       "  '1',\n",
       "  'APARTMENT',\n",
       "  '51',\n",
       "  '2',\n",
       "  ''],\n",
       " ['NICE',\n",
       "  '10/04/2015',\n",
       "  'SALE',\n",
       "  '239000,00',\n",
       "  '6200',\n",
       "  'NICE',\n",
       "  '1',\n",
       "  'DEPENDENCY',\n",
       "  '0',\n",
       "  '0',\n",
       "  ''],\n",
       " ['NICE',\n",
       "  '23/03/2015',\n",
       "  'SALE',\n",
       "  '30000,00',\n",
       "  '6000',\n",
       "  'NICE',\n",
       "  '1',\n",
       "  'DEPENDENCY',\n",
       "  '0',\n",
       "  '0',\n",
       "  ''],\n",
       " ['NICE',\n",
       "  '23/03/2015',\n",
       "  'SALE',\n",
       "  '410000,00',\n",
       "  '6200',\n",
       "  'NICE',\n",
       "  '2',\n",
       "  'APARTMENT',\n",
       "  '60',\n",
       "  '3',\n",
       "  ''],\n",
       " ['NICE',\n",
       "  '08/04/2015',\n",
       "  'SALE',\n",
       "  '215000,00',\n",
       "  '6200',\n",
       "  'NICE',\n",
       "  '1',\n",
       "  'DEPENDENCY',\n",
       "  '0',\n",
       "  '0',\n",
       "  ''],\n",
       " ['NICE',\n",
       "  '08/04/2015',\n",
       "  'SALE',\n",
       "  '215000,00',\n",
       "  '6200',\n",
       "  'NICE',\n",
       "  '1',\n",
       "  'APARTMENT',\n",
       "  '67',\n",
       "  '3',\n",
       "  ''],\n",
       " ['NICE',\n",
       "  '20/03/2015',\n",
       "  'SALE',\n",
       "  '625000,00',\n",
       "  '6200',\n",
       "  'NICE',\n",
       "  '0',\n",
       "  'HOUSE',\n",
       "  '160',\n",
       "  '5',\n",
       "  '500'],\n",
       " ['NICE',\n",
       "  '20/03/2015',\n",
       "  'SALE',\n",
       "  '625000,00',\n",
       "  '6200',\n",
       "  'NICE',\n",
       "  '0',\n",
       "  'HOUSE',\n",
       "  '160',\n",
       "  '5',\n",
       "  '1267']]"
      ]
     },
     "execution_count": 15,
     "metadata": {},
     "output_type": "execute_result"
    }
   ],
   "source": [
    "rdd_estate.take(10)"
   ]
  },
  {
   "cell_type": "code",
   "execution_count": 16,
   "metadata": {
    "scrolled": true
   },
   "outputs": [
    {
     "data": {
      "text/plain": [
       "[('SALE', 754464), ('SALE BEFORE COMPLETION', 147708)]"
      ]
     },
     "execution_count": 16,
     "metadata": {},
     "output_type": "execute_result"
    }
   ],
   "source": [
    "rdd_estate_clean = rdd_estate.filter(lambda tuple: tuple[2] == 'SALE' or tuple[2] == 'SALE BEFORE COMPLETION')\n",
    "\n",
    "rdd_estate_clean.map(lambda tuple: (tuple[2],1))\\\n",
    "                .reduceByKey(lambda x,y : x+y)\\\n",
    "                .sortBy(lambda tuple: tuple[1], ascending=False)\\\n",
    "                .take(2)"
   ]
  },
  {
   "cell_type": "code",
   "execution_count": 17,
   "metadata": {},
   "outputs": [
    {
     "data": {
      "text/plain": [
       "902172"
      ]
     },
     "execution_count": 17,
     "metadata": {},
     "output_type": "execute_result"
    }
   ],
   "source": [
    "rdd_estate_clean.count()"
   ]
  },
  {
   "cell_type": "code",
   "execution_count": 18,
   "metadata": {},
   "outputs": [
    {
     "data": {
      "text/plain": [
       "2"
      ]
     },
     "execution_count": 18,
     "metadata": {},
     "output_type": "execute_result"
    }
   ],
   "source": [
    "rdd_estate_clean.map(lambda tuple: tuple[2]).distinct().count()"
   ]
  },
  {
   "cell_type": "markdown",
   "metadata": {},
   "source": [
    "keep only apartment and house transactions"
   ]
  },
  {
   "cell_type": "code",
   "execution_count": 19,
   "metadata": {},
   "outputs": [
    {
     "data": {
      "text/plain": [
       "5"
      ]
     },
     "execution_count": 19,
     "metadata": {},
     "output_type": "execute_result"
    }
   ],
   "source": [
    "rdd_estate.map(lambda tuple: tuple[7]).distinct().count()"
   ]
  },
  {
   "cell_type": "code",
   "execution_count": 20,
   "metadata": {},
   "outputs": [
    {
     "data": {
      "text/plain": [
       "[('APARTMENT', 445686), ('HOUSE', 37619)]"
      ]
     },
     "execution_count": 20,
     "metadata": {},
     "output_type": "execute_result"
    }
   ],
   "source": [
    "rdd_estate_clean = rdd_estate_clean.filter(lambda tuple: tuple[7] == 'APARTMENT' or tuple[7] == 'HOUSE')\n",
    "\n",
    "rdd_estate_clean.map(lambda tuple: (tuple[7],1))\\\n",
    "                .reduceByKey(lambda x,y : x+y)\\\n",
    "                .sortBy(lambda tuple: tuple[1], ascending=False)\\\n",
    "                .take(2)"
   ]
  },
  {
   "cell_type": "code",
   "execution_count": 21,
   "metadata": {},
   "outputs": [
    {
     "data": {
      "text/plain": [
       "483305"
      ]
     },
     "execution_count": 21,
     "metadata": {},
     "output_type": "execute_result"
    }
   ],
   "source": [
    "rdd_estate_clean.count()"
   ]
  },
  {
   "cell_type": "markdown",
   "metadata": {},
   "source": [
    "remove transactions without prices, postal code, rooms, or living area"
   ]
  },
  {
   "cell_type": "code",
   "execution_count": 22,
   "metadata": {},
   "outputs": [
    {
     "data": {
      "text/plain": [
       "[('30', 10280),\n",
       " ('40', 10195),\n",
       " ('60', 9155),\n",
       " ('50', 9020),\n",
       " ('45', 8614),\n",
       " ('35', 8074),\n",
       " ('70', 7895),\n",
       " ('25', 7722),\n",
       " ('65', 7694),\n",
       " ('20', 7663),\n",
       " ('42', 7312),\n",
       " ('18', 7245),\n",
       " ('32', 7099),\n",
       " ('48', 6552),\n",
       " ('55', 6453),\n",
       " ('28', 6451),\n",
       " ('38', 6345),\n",
       " ('63', 6262),\n",
       " ('68', 6247),\n",
       " ('80', 6138),\n",
       " ('43', 6107),\n",
       " ('67', 6034),\n",
       " ('64', 6032),\n",
       " ('46', 5950),\n",
       " ('66', 5905),\n",
       " ('36', 5858),\n",
       " ('62', 5824),\n",
       " ('44', 5788),\n",
       " ('47', 5730),\n",
       " ('33', 5582),\n",
       " ('52', 5553),\n",
       " ('27', 5475),\n",
       " ('26', 5374),\n",
       " ('41', 5322),\n",
       " ('34', 5308),\n",
       " ('39', 5285),\n",
       " ('56', 5282),\n",
       " ('22', 5210),\n",
       " ('37', 5176),\n",
       " ('24', 5148),\n",
       " ('31', 5115),\n",
       " ('61', 5002),\n",
       " ('29', 4993),\n",
       " ('49', 4966),\n",
       " ('58', 4876),\n",
       " ('57', 4860),\n",
       " ('75', 4808),\n",
       " ('19', 4802),\n",
       " ('23', 4716),\n",
       " ('54', 4627),\n",
       " ('53', 4576),\n",
       " ('72', 4557),\n",
       " ('69', 4419),\n",
       " ('90', 4358),\n",
       " ('51', 4338),\n",
       " ('21', 4329),\n",
       " ('59', 4301),\n",
       " ('17', 3787),\n",
       " ('15', 3780),\n",
       " ('85', 3657),\n",
       " ('16', 3611),\n",
       " ('73', 3572),\n",
       " ('78', 3552),\n",
       " ('71', 3476),\n",
       " ('76', 3457),\n",
       " ('74', 3451),\n",
       " ('82', 3398),\n",
       " ('100', 3389),\n",
       " ('77', 3077),\n",
       " ('84', 2938),\n",
       " ('81', 2858),\n",
       " ('83', 2803),\n",
       " ('79', 2743),\n",
       " ('86', 2717),\n",
       " ('12', 2654),\n",
       " ('14', 2628),\n",
       " ('88', 2405),\n",
       " ('110', 2333),\n",
       " ('87', 2321),\n",
       " ('95', 2162),\n",
       " ('89', 2072),\n",
       " ('120', 2024),\n",
       " ('92', 1999),\n",
       " ('13', 1818),\n",
       " ('98', 1806),\n",
       " ('96', 1724),\n",
       " ('10', 1667),\n",
       " ('91', 1653),\n",
       " ('93', 1639),\n",
       " ('105', 1562),\n",
       " ('94', 1560),\n",
       " ('97', 1390),\n",
       " ('130', 1356),\n",
       " ('99', 1257),\n",
       " ('102', 1231),\n",
       " ('11', 1172),\n",
       " ('106', 1163),\n",
       " ('104', 1157),\n",
       " ('115', 1130),\n",
       " ('9', 1108),\n",
       " ('103', 1089),\n",
       " ('140', 1077),\n",
       " ('108', 1070),\n",
       " ('150', 961),\n",
       " ('107', 942),\n",
       " ('101', 920),\n",
       " ('112', 885),\n",
       " ('125', 862),\n",
       " ('109', 824),\n",
       " ('160', 741),\n",
       " ('8', 725),\n",
       " ('116', 719),\n",
       " ('113', 704),\n",
       " ('114', 679),\n",
       " ('118', 661),\n",
       " ('135', 650),\n",
       " ('111', 629),\n",
       " ('117', 622),\n",
       " ('119', 553),\n",
       " ('128', 542),\n",
       " ('180', 539),\n",
       " ('124', 534),\n",
       " ('122', 531),\n",
       " ('126', 528),\n",
       " ('145', 489),\n",
       " ('123', 485),\n",
       " ('170', 475),\n",
       " ('121', 462),\n",
       " ('127', 431),\n",
       " ('200', 422),\n",
       " ('7', 416),\n",
       " ('132', 388),\n",
       " ('134', 375),\n",
       " ('138', 371),\n",
       " ('129', 369),\n",
       " ('133', 369),\n",
       " ('136', 367),\n",
       " ('137', 337),\n",
       " ('131', 335),\n",
       " ('165', 322),\n",
       " ('6', 316),\n",
       " ('142', 303),\n",
       " ('155', 290),\n",
       " ('144', 280),\n",
       " ('190', 277),\n",
       " ('141', 261),\n",
       " ('146', 260),\n",
       " ('148', 252),\n",
       " ('143', 250),\n",
       " ('175', 249),\n",
       " ('139', 236),\n",
       " ('149', 235),\n",
       " ('156', 224),\n",
       " ('158', 223),\n",
       " ('168', 208),\n",
       " ('220', 208),\n",
       " ('152', 207),\n",
       " ('210', 203),\n",
       " ('147', 195),\n",
       " ('154', 193),\n",
       " ('151', 176),\n",
       " ('162', 171),\n",
       " ('1', 167),\n",
       " ('157', 166),\n",
       " ('240', 166),\n",
       " ('153', 164),\n",
       " ('164', 158),\n",
       " ('250', 156),\n",
       " ('159', 154),\n",
       " ('167', 151),\n",
       " ('169', 149),\n",
       " ('172', 147),\n",
       " ('185', 146),\n",
       " ('5', 143),\n",
       " ('166', 141),\n",
       " ('163', 137),\n",
       " ('161', 127),\n",
       " ('230', 123),\n",
       " ('195', 121),\n",
       " ('173', 115),\n",
       " ('177', 115),\n",
       " ('196', 115),\n",
       " ('176', 114),\n",
       " ('171', 113),\n",
       " ('174', 111),\n",
       " ('187', 107),\n",
       " ('178', 104),\n",
       " ('182', 103),\n",
       " ('198', 96),\n",
       " ('188', 94),\n",
       " ('193', 93),\n",
       " ('184', 90),\n",
       " ('192', 88),\n",
       " ('260', 86),\n",
       " ('300', 85),\n",
       " ('179', 84),\n",
       " ('186', 84),\n",
       " ('208', 83),\n",
       " ('205', 81),\n",
       " ('181', 80),\n",
       " ('215', 78),\n",
       " ('270', 78),\n",
       " ('189', 75),\n",
       " ('183', 72),\n",
       " ('2', 67),\n",
       " ('194', 67),\n",
       " ('197', 65),\n",
       " ('204', 63),\n",
       " ('280', 61),\n",
       " ('4', 61),\n",
       " ('245', 60),\n",
       " ('191', 59),\n",
       " ('199', 57),\n",
       " ('225', 55),\n",
       " ('203', 54),\n",
       " ('216', 50),\n",
       " ('206', 49),\n",
       " ('236', 49),\n",
       " ('202', 48),\n",
       " ('228', 48),\n",
       " ('201', 47),\n",
       " ('217', 46),\n",
       " ('209', 46),\n",
       " ('212', 46),\n",
       " ('207', 44),\n",
       " ('218', 44),\n",
       " ('227', 43),\n",
       " ('214', 42),\n",
       " ('235', 42),\n",
       " ('232', 41),\n",
       " ('221', 40),\n",
       " ('211', 38),\n",
       " ('213', 36),\n",
       " ('219', 36),\n",
       " ('223', 36),\n",
       " ('', 35),\n",
       " ('255', 34),\n",
       " ('290', 34),\n",
       " ('320', 34),\n",
       " ('265', 32),\n",
       " ('246', 32),\n",
       " ('239', 32),\n",
       " ('229', 31),\n",
       " ('350', 31),\n",
       " ('226', 29),\n",
       " ('248', 28),\n",
       " ('222', 27),\n",
       " ('258', 27),\n",
       " ('224', 27),\n",
       " ('360', 26),\n",
       " ('254', 26),\n",
       " ('234', 25),\n",
       " ('275', 25),\n",
       " ('247', 25),\n",
       " ('237', 24),\n",
       " ('244', 23),\n",
       " ('238', 23),\n",
       " ('310', 23),\n",
       " ('233', 23),\n",
       " ('3', 23),\n",
       " ('274', 22),\n",
       " ('285', 22),\n",
       " ('277', 21),\n",
       " ('252', 21),\n",
       " ('249', 21),\n",
       " ('340', 21),\n",
       " ('276', 21),\n",
       " ('283', 20),\n",
       " ('263', 20),\n",
       " ('251', 20),\n",
       " ('231', 19),\n",
       " ('253', 19),\n",
       " ('242', 19),\n",
       " ('256', 18),\n",
       " ('268', 18),\n",
       " ('262', 17),\n",
       " ('243', 16),\n",
       " ('241', 16),\n",
       " ('330', 16),\n",
       " ('400', 16),\n",
       " ('266', 15),\n",
       " ('278', 14),\n",
       " ('279', 14),\n",
       " ('288', 14),\n",
       " ('272', 13),\n",
       " ('326', 13),\n",
       " ('257', 13),\n",
       " ('264', 13),\n",
       " ('295', 13),\n",
       " ('273', 13),\n",
       " ('259', 12),\n",
       " ('363', 12),\n",
       " ('325', 11),\n",
       " ('296', 11),\n",
       " ('282', 11),\n",
       " ('269', 11),\n",
       " ('289', 11),\n",
       " ('370', 10),\n",
       " ('286', 10),\n",
       " ('315', 10),\n",
       " ('298', 10),\n",
       " ('650', 10),\n",
       " ('299', 9),\n",
       " ('328', 9),\n",
       " ('500', 9),\n",
       " ('261', 9),\n",
       " ('305', 8),\n",
       " ('271', 8),\n",
       " ('267', 8),\n",
       " ('281', 8),\n",
       " ('324', 8),\n",
       " ('336', 7),\n",
       " ('307', 7),\n",
       " ('338', 7),\n",
       " ('293', 7),\n",
       " ('292', 7),\n",
       " ('297', 7),\n",
       " ('331', 6),\n",
       " ('380', 6),\n",
       " ('354', 6),\n",
       " ('341', 6),\n",
       " ('346', 6),\n",
       " ('386', 6),\n",
       " ('335', 6),\n",
       " ('375', 6),\n",
       " ('440', 6),\n",
       " ('365', 6),\n",
       " ('348', 6),\n",
       " ('311', 6),\n",
       " ('302', 6),\n",
       " ('309', 6),\n",
       " ('430', 6),\n",
       " ('366', 6),\n",
       " ('368', 6),\n",
       " ('352', 6),\n",
       " ('314', 6),\n",
       " ('287', 6),\n",
       " ('460', 6),\n",
       " ('410', 5),\n",
       " ('319', 5),\n",
       " ('284', 5),\n",
       " ('317', 5),\n",
       " ('390', 5),\n",
       " ('344', 5),\n",
       " ('468', 5),\n",
       " ('522', 5),\n",
       " ('308', 5),\n",
       " ('291', 5),\n",
       " ('294', 5),\n",
       " ('318', 5),\n",
       " ('395', 5),\n",
       " ('332', 5),\n",
       " ('408', 4),\n",
       " ('351', 4),\n",
       " ('304', 4),\n",
       " ('342', 4),\n",
       " ('347', 4),\n",
       " ('301', 4),\n",
       " ('426', 4),\n",
       " ('405', 4),\n",
       " ('399', 4),\n",
       " ('322', 4),\n",
       " ('357', 4),\n",
       " ('321', 4),\n",
       " ('362', 4),\n",
       " ('312', 4),\n",
       " ('306', 4),\n",
       " ('480', 4),\n",
       " ('329', 4),\n",
       " ('416', 4),\n",
       " ('420', 4),\n",
       " ('407', 4),\n",
       " ('388', 4),\n",
       " ('337', 4),\n",
       " ('481', 3),\n",
       " ('387', 3),\n",
       " ('316', 3),\n",
       " ('345', 3),\n",
       " ('411', 3),\n",
       " ('414', 3),\n",
       " ('449', 3),\n",
       " ('485', 3),\n",
       " ('359', 3),\n",
       " ('570', 3),\n",
       " ('303', 3),\n",
       " ('643', 3),\n",
       " ('504', 3),\n",
       " ('533', 3),\n",
       " ('377', 3),\n",
       " ('349', 3),\n",
       " ('404', 3),\n",
       " ('444', 3),\n",
       " ('367', 3),\n",
       " ('402', 3),\n",
       " ('392', 3),\n",
       " ('454', 3),\n",
       " ('323', 3),\n",
       " ('391', 3),\n",
       " ('423', 3),\n",
       " ('419', 2),\n",
       " ('447', 2),\n",
       " ('530', 2),\n",
       " ('389', 2),\n",
       " ('540', 2),\n",
       " ('456', 2),\n",
       " ('477', 2),\n",
       " ('435', 2),\n",
       " ('453', 2),\n",
       " ('356', 2),\n",
       " ('446', 2),\n",
       " ('588', 2),\n",
       " ('372', 2),\n",
       " ('422', 2),\n",
       " ('442', 2),\n",
       " ('542', 2),\n",
       " ('376', 2),\n",
       " ('452', 2),\n",
       " ('595', 2),\n",
       " ('508', 2),\n",
       " ('590', 2),\n",
       " ('493', 2),\n",
       " ('379', 2),\n",
       " ('450', 2),\n",
       " ('428', 2),\n",
       " ('436', 2),\n",
       " ('397', 2),\n",
       " ('393', 2),\n",
       " ('343', 2),\n",
       " ('371', 2),\n",
       " ('374', 2),\n",
       " ('847', 2),\n",
       " ('701', 2),\n",
       " ('550', 2),\n",
       " ('358', 2),\n",
       " ('437', 2),\n",
       " ('524', 2),\n",
       " ('398', 2),\n",
       " ('556', 2),\n",
       " ('418', 2),\n",
       " ('665', 2),\n",
       " ('415', 2),\n",
       " ('479', 2),\n",
       " ('888', 2),\n",
       " ('339', 2),\n",
       " ('313', 2),\n",
       " ('458', 1),\n",
       " ('720', 1),\n",
       " ('727', 1),\n",
       " ('598', 1),\n",
       " ('780', 1),\n",
       " ('520', 1),\n",
       " ('584', 1),\n",
       " ('560', 1),\n",
       " ('486', 1),\n",
       " ('743', 1),\n",
       " ('616', 1),\n",
       " ('474', 1),\n",
       " ('700', 1),\n",
       " ('461', 1),\n",
       " ('545', 1),\n",
       " ('465', 1),\n",
       " ('667', 1),\n",
       " ('610', 1),\n",
       " ('417', 1),\n",
       " ('716', 1),\n",
       " ('385', 1),\n",
       " ('585', 1),\n",
       " ('562', 1),\n",
       " ('353', 1),\n",
       " ('334', 1),\n",
       " ('495', 1),\n",
       " ('499', 1),\n",
       " ('515', 1),\n",
       " ('512', 1),\n",
       " ('383', 1),\n",
       " ('451', 1),\n",
       " ('583', 1),\n",
       " ('659', 1),\n",
       " ('333', 1),\n",
       " ('467', 1),\n",
       " ('537', 1),\n",
       " ('682', 1),\n",
       " ('631', 1),\n",
       " ('412', 1),\n",
       " ('566', 1),\n",
       " ('679', 1),\n",
       " ('835', 1),\n",
       " ('490', 1),\n",
       " ('660', 1),\n",
       " ('854', 1),\n",
       " ('608', 1),\n",
       " ('445', 1),\n",
       " ('488', 1),\n",
       " ('630', 1),\n",
       " ('898', 1),\n",
       " ('644', 1),\n",
       " ('881', 1),\n",
       " ('889', 1),\n",
       " ('526', 1),\n",
       " ('697', 1),\n",
       " ('840', 1),\n",
       " ('671', 1),\n",
       " ('735', 1),\n",
       " ('769', 1),\n",
       " ('355', 1),\n",
       " ('364', 1),\n",
       " ('646', 1),\n",
       " ('431', 1),\n",
       " ('394', 1),\n",
       " ('620', 1),\n",
       " ('1500', 1),\n",
       " ('327', 1),\n",
       " ('384', 1),\n",
       " ('719', 1),\n",
       " ('409', 1),\n",
       " ('636', 1),\n",
       " ('475', 1),\n",
       " ('484', 1),\n",
       " ('432', 1),\n",
       " ('855', 1),\n",
       " ('904', 1),\n",
       " ('551', 1),\n",
       " ('472', 1),\n",
       " ('529', 1),\n",
       " ('680', 1),\n",
       " ('498', 1),\n",
       " ('511', 1),\n",
       " ('510', 1),\n",
       " ('591', 1),\n",
       " ('373', 1),\n",
       " ('672', 1),\n",
       " ('569', 1),\n",
       " ('544', 1),\n",
       " ('844', 1),\n",
       " ('421', 1),\n",
       " ('874', 1),\n",
       " ('750', 1),\n",
       " ('740', 1),\n",
       " ('497', 1),\n",
       " ('856', 1),\n",
       " ('1052', 1),\n",
       " ('476', 1),\n",
       " ('594', 1),\n",
       " ('455', 1),\n",
       " ('1469', 1),\n",
       " ('491', 1),\n",
       " ('746', 1),\n",
       " ('764', 1),\n",
       " ('878', 1),\n",
       " ('890', 1),\n",
       " ('891', 1),\n",
       " ('895', 1),\n",
       " ('775', 1),\n",
       " ('528', 1),\n",
       " ('381', 1),\n",
       " ('466', 1),\n",
       " ('439', 1),\n",
       " ('369', 1),\n",
       " ('396', 1)]"
      ]
     },
     "execution_count": 22,
     "metadata": {},
     "output_type": "execute_result"
    }
   ],
   "source": [
    "rdd_estate_clean.map(lambda tuple: (tuple[8],1))\\\n",
    "                .reduceByKey(lambda x,y : x+y)\\\n",
    "                .sortBy(lambda tuple: tuple[1], ascending=False)\\\n",
    "                .filter(lambda tuple: tuple[1])\\\n",
    "                .collect()"
   ]
  },
  {
   "cell_type": "code",
   "execution_count": 23,
   "metadata": {},
   "outputs": [
    {
     "data": {
      "text/plain": [
       "[['NICE',\n",
       "  '26/03/2015',\n",
       "  'SALE',\n",
       "  '102000,00',\n",
       "  '6000',\n",
       "  'NICE',\n",
       "  '1',\n",
       "  'APARTMENT',\n",
       "  '29',\n",
       "  '2',\n",
       "  ''],\n",
       " ['NICE',\n",
       "  '10/04/2015',\n",
       "  'SALE',\n",
       "  '239000,00',\n",
       "  '6200',\n",
       "  'NICE',\n",
       "  '1',\n",
       "  'APARTMENT',\n",
       "  '51',\n",
       "  '2',\n",
       "  ''],\n",
       " ['NICE',\n",
       "  '23/03/2015',\n",
       "  'SALE',\n",
       "  '410000,00',\n",
       "  '6200',\n",
       "  'NICE',\n",
       "  '2',\n",
       "  'APARTMENT',\n",
       "  '60',\n",
       "  '3',\n",
       "  ''],\n",
       " ['NICE',\n",
       "  '08/04/2015',\n",
       "  'SALE',\n",
       "  '215000,00',\n",
       "  '6200',\n",
       "  'NICE',\n",
       "  '1',\n",
       "  'APARTMENT',\n",
       "  '67',\n",
       "  '3',\n",
       "  ''],\n",
       " ['NICE',\n",
       "  '20/03/2015',\n",
       "  'SALE',\n",
       "  '625000,00',\n",
       "  '6200',\n",
       "  'NICE',\n",
       "  '0',\n",
       "  'HOUSE',\n",
       "  '160',\n",
       "  '5',\n",
       "  '500'],\n",
       " ['NICE',\n",
       "  '20/03/2015',\n",
       "  'SALE',\n",
       "  '625000,00',\n",
       "  '6200',\n",
       "  'NICE',\n",
       "  '0',\n",
       "  'HOUSE',\n",
       "  '160',\n",
       "  '5',\n",
       "  '1267'],\n",
       " ['NICE',\n",
       "  '02/04/2015',\n",
       "  'SALE',\n",
       "  '130000,00',\n",
       "  '6200',\n",
       "  'NICE',\n",
       "  '1',\n",
       "  'APARTMENT',\n",
       "  '31',\n",
       "  '1',\n",
       "  ''],\n",
       " ['NICE',\n",
       "  '24/03/2015',\n",
       "  'SALE',\n",
       "  '115000,00',\n",
       "  '6000',\n",
       "  'NICE',\n",
       "  '2',\n",
       "  'APARTMENT',\n",
       "  '50',\n",
       "  '2',\n",
       "  ''],\n",
       " ['NICE',\n",
       "  '03/04/2015',\n",
       "  'SALE',\n",
       "  '172500,00',\n",
       "  '6100',\n",
       "  'NICE',\n",
       "  '2',\n",
       "  'APARTMENT',\n",
       "  '63',\n",
       "  '4',\n",
       "  ''],\n",
       " ['NICE',\n",
       "  '09/04/2015',\n",
       "  'SALE',\n",
       "  '360000,00',\n",
       "  '6200',\n",
       "  'NICE',\n",
       "  '0',\n",
       "  'HOUSE',\n",
       "  '109',\n",
       "  '5',\n",
       "  '502']]"
      ]
     },
     "execution_count": 23,
     "metadata": {},
     "output_type": "execute_result"
    }
   ],
   "source": [
    "rdd_estate_clean = rdd_estate_clean.filter(lambda tuple: tuple[3] != '')\\\n",
    "                                   .filter(lambda tuple: tuple[4] != '')\\\n",
    "                                   .filter(lambda tuple: tuple[9] != '')\\\n",
    "                                   .filter(lambda tuple: tuple[8] != '')\n",
    "\n",
    "rdd_estate_clean.take(10)            "
   ]
  },
  {
   "cell_type": "code",
   "execution_count": 24,
   "metadata": {},
   "outputs": [
    {
     "data": {
      "text/plain": [
       "478005"
      ]
     },
     "execution_count": 24,
     "metadata": {},
     "output_type": "execute_result"
    }
   ],
   "source": [
    "rdd_estate_clean.count()"
   ]
  },
  {
   "cell_type": "code",
   "execution_count": 25,
   "metadata": {},
   "outputs": [],
   "source": [
    "def replaceNullValueByZero(tup):\n",
    "    if tup[10] != '': \n",
    "        return tup\n",
    "    else: \n",
    "        tup[10] = 0\n",
    "        return tup"
   ]
  },
  {
   "cell_type": "code",
   "execution_count": 26,
   "metadata": {
    "scrolled": false
   },
   "outputs": [
    {
     "data": {
      "text/plain": [
       "[['NICE',\n",
       "  '26/03/2015',\n",
       "  'SALE',\n",
       "  '102000,00',\n",
       "  '6000',\n",
       "  'NICE',\n",
       "  '1',\n",
       "  'APARTMENT',\n",
       "  '29',\n",
       "  '2',\n",
       "  '']]"
      ]
     },
     "execution_count": 26,
     "metadata": {},
     "output_type": "execute_result"
    }
   ],
   "source": [
    "rdd_estate_clean.take(1)"
   ]
  },
  {
   "cell_type": "code",
   "execution_count": 27,
   "metadata": {},
   "outputs": [
    {
     "data": {
      "text/plain": [
       "[['NICE',\n",
       "  '26/03/2015',\n",
       "  'SALE',\n",
       "  '102000,00',\n",
       "  '6000',\n",
       "  'NICE',\n",
       "  '1',\n",
       "  'APARTMENT',\n",
       "  '29',\n",
       "  '2',\n",
       "  0],\n",
       " ['NICE',\n",
       "  '10/04/2015',\n",
       "  'SALE',\n",
       "  '239000,00',\n",
       "  '6200',\n",
       "  'NICE',\n",
       "  '1',\n",
       "  'APARTMENT',\n",
       "  '51',\n",
       "  '2',\n",
       "  0],\n",
       " ['NICE',\n",
       "  '23/03/2015',\n",
       "  'SALE',\n",
       "  '410000,00',\n",
       "  '6200',\n",
       "  'NICE',\n",
       "  '2',\n",
       "  'APARTMENT',\n",
       "  '60',\n",
       "  '3',\n",
       "  0],\n",
       " ['NICE',\n",
       "  '08/04/2015',\n",
       "  'SALE',\n",
       "  '215000,00',\n",
       "  '6200',\n",
       "  'NICE',\n",
       "  '1',\n",
       "  'APARTMENT',\n",
       "  '67',\n",
       "  '3',\n",
       "  0],\n",
       " ['NICE',\n",
       "  '20/03/2015',\n",
       "  'SALE',\n",
       "  '625000,00',\n",
       "  '6200',\n",
       "  'NICE',\n",
       "  '0',\n",
       "  'HOUSE',\n",
       "  '160',\n",
       "  '5',\n",
       "  '500'],\n",
       " ['NICE',\n",
       "  '20/03/2015',\n",
       "  'SALE',\n",
       "  '625000,00',\n",
       "  '6200',\n",
       "  'NICE',\n",
       "  '0',\n",
       "  'HOUSE',\n",
       "  '160',\n",
       "  '5',\n",
       "  '1267'],\n",
       " ['NICE',\n",
       "  '02/04/2015',\n",
       "  'SALE',\n",
       "  '130000,00',\n",
       "  '6200',\n",
       "  'NICE',\n",
       "  '1',\n",
       "  'APARTMENT',\n",
       "  '31',\n",
       "  '1',\n",
       "  0],\n",
       " ['NICE',\n",
       "  '24/03/2015',\n",
       "  'SALE',\n",
       "  '115000,00',\n",
       "  '6000',\n",
       "  'NICE',\n",
       "  '2',\n",
       "  'APARTMENT',\n",
       "  '50',\n",
       "  '2',\n",
       "  0],\n",
       " ['NICE',\n",
       "  '03/04/2015',\n",
       "  'SALE',\n",
       "  '172500,00',\n",
       "  '6100',\n",
       "  'NICE',\n",
       "  '2',\n",
       "  'APARTMENT',\n",
       "  '63',\n",
       "  '4',\n",
       "  0],\n",
       " ['NICE',\n",
       "  '09/04/2015',\n",
       "  'SALE',\n",
       "  '360000,00',\n",
       "  '6200',\n",
       "  'NICE',\n",
       "  '0',\n",
       "  'HOUSE',\n",
       "  '109',\n",
       "  '5',\n",
       "  '502']]"
      ]
     },
     "execution_count": 27,
     "metadata": {},
     "output_type": "execute_result"
    }
   ],
   "source": [
    "rdd_estate_clean = rdd_estate_clean.map(lambda tup: replaceNullValueByZero(tup))\n",
    "\n",
    "rdd_estate_clean.take(10)"
   ]
  },
  {
   "cell_type": "code",
   "execution_count": 28,
   "metadata": {},
   "outputs": [
    {
     "data": {
      "text/plain": [
       "478005"
      ]
     },
     "execution_count": 28,
     "metadata": {},
     "output_type": "execute_result"
    }
   ],
   "source": [
    "rdd_estate_clean.count()"
   ]
  },
  {
   "cell_type": "markdown",
   "metadata": {},
   "source": [
    "fix price : int transformation"
   ]
  },
  {
   "cell_type": "code",
   "execution_count": 29,
   "metadata": {},
   "outputs": [
    {
     "data": {
      "text/plain": [
       "[('150000,00', 3715),\n",
       " ('200000,00', 3577),\n",
       " ('120000,00', 3380),\n",
       " ('100000,00', 3198),\n",
       " ('130000,00', 3190),\n",
       " ('160000,00', 3110),\n",
       " ('110000,00', 3087),\n",
       " ('140000,00', 3018),\n",
       " ('180000,00', 2986),\n",
       " ('170000,00', 2856),\n",
       " ('300000,00', 2855),\n",
       " ('250000,00', 2822),\n",
       " ('220000,00', 2811),\n",
       " ('210000,00', 2694),\n",
       " ('230000,00', 2573),\n",
       " ('90000,00', 2549),\n",
       " ('190000,00', 2499),\n",
       " ('240000,00', 2425),\n",
       " ('115000,00', 2362),\n",
       " ('80000,00', 2361),\n",
       " ('125000,00', 2350),\n",
       " ('165000,00', 2321),\n",
       " ('135000,00', 2265),\n",
       " ('145000,00', 2236),\n",
       " ('105000,00', 2113),\n",
       " ('155000,00', 2106),\n",
       " ('175000,00', 2097),\n",
       " ('280000,00', 2094),\n",
       " ('350000,00', 2069),\n",
       " ('260000,00', 2057),\n",
       " ('400000,00', 2027),\n",
       " ('185000,00', 1924),\n",
       " ('70000,00', 1914),\n",
       " ('270000,00', 1902),\n",
       " ('95000,00', 1878),\n",
       " ('85000,00', 1835),\n",
       " ('215000,00', 1768),\n",
       " ('320000,00', 1722),\n",
       " ('290000,00', 1714),\n",
       " ('75000,00', 1700),\n",
       " ('195000,00', 1688),\n",
       " ('235000,00', 1677),\n",
       " ('205000,00', 1673),\n",
       " ('225000,00', 1609),\n",
       " ('450000,00', 1608),\n",
       " ('310000,00', 1590),\n",
       " ('500000,00', 1558),\n",
       " ('330000,00', 1522),\n",
       " ('380000,00', 1506),\n",
       " ('60000,00', 1502),\n",
       " ('340000,00', 1478),\n",
       " ('360000,00', 1435),\n",
       " ('245000,00', 1363),\n",
       " ('255000,00', 1358),\n",
       " ('265000,00', 1354),\n",
       " ('370000,00', 1352),\n",
       " ('285000,00', 1307),\n",
       " ('420000,00', 1293),\n",
       " ('65000,00', 1264),\n",
       " ('275000,00', 1261),\n",
       " ('315000,00', 1257),\n",
       " ('600000,00', 1206),\n",
       " ('50000,00', 1172),\n",
       " ('390000,00', 1143),\n",
       " ('430000,00', 1102),\n",
       " ('295000,00', 1069),\n",
       " ('410000,00', 1052),\n",
       " ('550000,00', 1018),\n",
       " ('480000,00', 1002),\n",
       " ('305000,00', 1000),\n",
       " ('325000,00', 993),\n",
       " ('700000,00', 961),\n",
       " ('335000,00', 948),\n",
       " ('55000,00', 934),\n",
       " ('440000,00', 921),\n",
       " ('460000,00', 908),\n",
       " ('118000,00', 867),\n",
       " ('530000,00', 854),\n",
       " ('128000,00', 850),\n",
       " ('520000,00', 848),\n",
       " ('138000,00', 847),\n",
       " ('365000,00', 842),\n",
       " ('1000000,00', 839),\n",
       " ('345000,00', 833),\n",
       " ('108000,00', 832),\n",
       " ('470000,00', 829),\n",
       " ('375000,00', 828),\n",
       " ('168000,00', 812),\n",
       " ('148000,00', 800),\n",
       " ('158000,00', 797),\n",
       " ('650000,00', 788),\n",
       " ('152000,00', 777),\n",
       " ('800000,00', 777),\n",
       " ('112000,00', 773),\n",
       " ('1,00', 764),\n",
       " ('490000,00', 762),\n",
       " ('162000,00', 758),\n",
       " ('92000,00', 758),\n",
       " ('132000,00', 751),\n",
       " ('395000,00', 748),\n",
       " ('142000,00', 731),\n",
       " ('172000,00', 726),\n",
       " ('78000,00', 726),\n",
       " ('98000,00', 719),\n",
       " ('5500000,00', 717),\n",
       " ('122000,00', 714),\n",
       " ('540000,00', 714),\n",
       " ('133000,00', 710),\n",
       " ('129000,00', 709),\n",
       " ('123000,00', 705),\n",
       " ('355000,00', 705),\n",
       " ('178000,00', 693),\n",
       " ('88000,00', 690),\n",
       " ('385000,00', 690),\n",
       " ('127000,00', 690),\n",
       " ('147000,00', 685),\n",
       " ('415000,00', 682),\n",
       " ('167000,00', 679),\n",
       " ('82000,00', 678),\n",
       " ('117000,00', 676),\n",
       " ('113000,00', 672),\n",
       " ('107000,00', 667),\n",
       " ('137000,00', 664),\n",
       " ('72000,00', 661),\n",
       " ('157000,00', 661),\n",
       " ('45000,00', 658),\n",
       " ('750000,00', 656),\n",
       " ('102000,00', 655),\n",
       " ('83000,00', 650),\n",
       " ('143000,00', 649),\n",
       " ('620000,00', 649),\n",
       " ('149000,00', 647),\n",
       " ('77000,00', 640),\n",
       " ('425000,00', 635),\n",
       " ('510000,00', 635),\n",
       " ('93000,00', 634),\n",
       " ('610000,00', 630),\n",
       " ('126000,00', 630),\n",
       " ('173000,00', 628),\n",
       " ('900000,00', 628),\n",
       " ('139000,00', 620),\n",
       " ('580000,00', 620),\n",
       " ('124000,00', 619),\n",
       " ('169000,00', 619),\n",
       " ('630000,00', 615),\n",
       " ('87000,00', 614),\n",
       " ('153000,00', 614),\n",
       " ('119000,00', 611),\n",
       " ('103000,00', 611),\n",
       " ('40000,00', 607),\n",
       " ('182000,00', 607),\n",
       " ('159000,00', 604),\n",
       " ('475000,00', 602),\n",
       " ('163000,00', 600),\n",
       " ('208000,00', 591),\n",
       " ('192000,00', 591),\n",
       " ('435000,00', 588),\n",
       " ('560000,00', 588),\n",
       " ('570000,00', 582),\n",
       " ('850000,00', 580),\n",
       " ('1100000,00', 578),\n",
       " ('68000,00', 575),\n",
       " ('188000,00', 573),\n",
       " ('97000,00', 570),\n",
       " ('156000,00', 568),\n",
       " ('198000,00', 568),\n",
       " ('96000,00', 567),\n",
       " ('99000,00', 565),\n",
       " ('116000,00', 565),\n",
       " ('228000,00', 561),\n",
       " ('134000,00', 559),\n",
       " ('154000,00', 554),\n",
       " ('405000,00', 554),\n",
       " ('114000,00', 551),\n",
       " ('183000,00', 551),\n",
       " ('144000,00', 545),\n",
       " ('177000,00', 544),\n",
       " ('136000,00', 543),\n",
       " ('445000,00', 536),\n",
       " ('179000,00', 534),\n",
       " ('84000,00', 532),\n",
       " ('465000,00', 530),\n",
       " ('212000,00', 526),\n",
       " ('89000,00', 525),\n",
       " ('73000,00', 524),\n",
       " ('176000,00', 523),\n",
       " ('104000,00', 522),\n",
       " ('189000,00', 520),\n",
       " ('109000,00', 518),\n",
       " ('218000,00', 517),\n",
       " ('106000,00', 513),\n",
       " ('146000,00', 513),\n",
       " ('187000,00', 509),\n",
       " ('86000,00', 499),\n",
       " ('79000,00', 497),\n",
       " ('94000,00', 496),\n",
       " ('485000,00', 491),\n",
       " ('76000,00', 489),\n",
       " ('197000,00', 482),\n",
       " ('62000,00', 478),\n",
       " ('166000,00', 477),\n",
       " ('1200000,00', 475),\n",
       " ('174000,00', 473),\n",
       " ('2500000,00', 472),\n",
       " ('495000,00', 471),\n",
       " ('164000,00', 470),\n",
       " ('30000,00', 466),\n",
       " ('184000,00', 465),\n",
       " ('74000,00', 464),\n",
       " ('515000,00', 457),\n",
       " ('680000,00', 454),\n",
       " ('455000,00', 452),\n",
       " ('238000,00', 450),\n",
       " ('121000,00', 450),\n",
       " ('590000,00', 449),\n",
       " ('199000,00', 449),\n",
       " ('171000,00', 448),\n",
       " ('63000,00', 447),\n",
       " ('670000,00', 446),\n",
       " ('222000,00', 442),\n",
       " ('69000,00', 438),\n",
       " ('193000,00', 437),\n",
       " ('207000,00', 434),\n",
       " ('525000,00', 433),\n",
       " ('217000,00', 433),\n",
       " ('232000,00', 431),\n",
       " ('67000,00', 431),\n",
       " ('1050000,00', 430),\n",
       " ('213000,00', 430),\n",
       " ('186000,00', 430),\n",
       " ('640000,00', 430),\n",
       " ('202000,00', 426),\n",
       " ('237000,00', 418),\n",
       " ('950000,00', 416),\n",
       " ('214000,00', 416),\n",
       " ('141000,00', 414),\n",
       " ('248000,00', 414),\n",
       " ('242000,00', 409),\n",
       " ('660000,00', 409),\n",
       " ('91000,00', 408),\n",
       " ('194000,00', 407),\n",
       " ('58000,00', 405),\n",
       " ('252000,00', 405),\n",
       " ('720000,00', 403),\n",
       " ('227000,00', 402),\n",
       " ('233000,00', 400),\n",
       " ('161000,00', 399),\n",
       " ('66000,00', 399),\n",
       " ('219000,00', 394),\n",
       " ('209000,00', 393),\n",
       " ('216000,00', 392),\n",
       " ('81000,00', 387),\n",
       " ('64000,00', 386),\n",
       " ('1300000,00', 386),\n",
       " ('535000,00', 383),\n",
       " ('111000,00', 380),\n",
       " ('247000,00', 380),\n",
       " ('181000,00', 374),\n",
       " ('203000,00', 374),\n",
       " ('224000,00', 373),\n",
       " ('1500000,00', 367),\n",
       " ('131000,00', 367),\n",
       " ('71000,00', 365),\n",
       " ('151000,00', 364),\n",
       " ('2000000,00', 363),\n",
       " ('223000,00', 362),\n",
       " ('730000,00', 360),\n",
       " ('575000,00', 359),\n",
       " ('229000,00', 358),\n",
       " ('196000,00', 352),\n",
       " ('278000,00', 351),\n",
       " ('268000,00', 350),\n",
       " ('101000,00', 350),\n",
       " ('226000,00', 348),\n",
       " ('545000,00', 347),\n",
       " ('206000,00', 347),\n",
       " ('35000,00', 346),\n",
       " ('262000,00', 344),\n",
       " ('239000,00', 343),\n",
       " ('204000,00', 343),\n",
       " ('690000,00', 343),\n",
       " ('258000,00', 343),\n",
       " ('760000,00', 342),\n",
       " ('1250000,00', 342),\n",
       " ('147780,00', 342),\n",
       " ('243000,00', 339),\n",
       " ('57000,00', 338),\n",
       " ('253000,00', 335),\n",
       " ('625000,00', 334),\n",
       " ('234000,00', 333),\n",
       " ('780000,00', 333),\n",
       " ('54889512,00', 333),\n",
       " ('11300000,00', 331),\n",
       " ('249000,00', 328),\n",
       " ('3000000,00', 328),\n",
       " ('288000,00', 326),\n",
       " ('595000,00', 326),\n",
       " ('710000,00', 321),\n",
       " ('505000,00', 321),\n",
       " ('15804374,00', 320),\n",
       " ('740000,00', 316),\n",
       " ('257000,00', 314),\n",
       " ('59000,00', 310),\n",
       " ('11336638,00', 310),\n",
       " ('52000,00', 309),\n",
       " ('565000,00', 302),\n",
       " ('830000,00', 299),\n",
       " ('820000,00', 299),\n",
       " ('272000,00', 298),\n",
       " ('1400000,00', 295),\n",
       " ('263000,00', 294),\n",
       " ('555000,00', 294),\n",
       " ('585000,00', 293),\n",
       " ('236000,00', 292),\n",
       " ('1350000,00', 292),\n",
       " ('267000,00', 291),\n",
       " ('244000,00', 290),\n",
       " ('48000,00', 290),\n",
       " ('840000,00', 289),\n",
       " ('56000,00', 289),\n",
       " ('282000,00', 289),\n",
       " ('770000,00', 289),\n",
       " ('1000,00', 286),\n",
       " ('133852728,00', 284),\n",
       " ('1150000,00', 283),\n",
       " ('273000,00', 281),\n",
       " ('299000,00', 281),\n",
       " ('53000,00', 280),\n",
       " ('1600000,00', 280),\n",
       " ('23020226,00', 279),\n",
       " ('231000,00', 274),\n",
       " ('246000,00', 274),\n",
       " ('54000,00', 273),\n",
       " ('61000,00', 273),\n",
       " ('615000,00', 273),\n",
       " ('191000,00', 272),\n",
       " ('30350000,00', 269),\n",
       " ('292000,00', 268),\n",
       " ('287000,00', 267),\n",
       " ('810000,00', 266),\n",
       " ('266000,00', 266),\n",
       " ('283000,00', 264),\n",
       " ('318000,00', 263),\n",
       " ('211000,00', 262),\n",
       " ('259000,00', 261),\n",
       " ('870000,00', 259),\n",
       " ('312000,00', 257),\n",
       " ('298000,00', 256),\n",
       " ('8500000,00', 255),\n",
       " ('675000,00', 254),\n",
       " ('254000,00', 254),\n",
       " ('264000,00', 254),\n",
       " ('2700000,00', 254),\n",
       " ('5000,00', 251),\n",
       " ('790000,00', 250),\n",
       " ('1900000,00', 248),\n",
       " ('860000,00', 247),\n",
       " ('715000,00', 246),\n",
       " ('269000,00', 243),\n",
       " ('256000,00', 243),\n",
       " ('297000,00', 242),\n",
       " ('277000,00', 241),\n",
       " ('294000,00', 239),\n",
       " ('635000,00', 239),\n",
       " ('25000,00', 238),\n",
       " ('0,00', 236),\n",
       " ('308000,00', 236),\n",
       " ('33427218,00', 235),\n",
       " ('221000,00', 235),\n",
       " ('20000,00', 232),\n",
       " ('655000,00', 228),\n",
       " ('665000,00', 226),\n",
       " ('1700000,00', 226),\n",
       " ('279000,00', 225),\n",
       " ('332000,00', 223),\n",
       " ('293000,00', 223),\n",
       " ('605000,00', 223),\n",
       " ('201000,00', 218),\n",
       " ('317000,00', 218),\n",
       " ('10000,00', 217),\n",
       " ('342000,00', 216),\n",
       " ('241000,00', 213),\n",
       " ('322000,00', 212),\n",
       " ('307000,00', 212),\n",
       " ('284000,00', 211),\n",
       " ('3600000,00', 211),\n",
       " ('286000,00', 210),\n",
       " ('142500,00', 210),\n",
       " ('930000,00', 208),\n",
       " ('2200000,00', 208),\n",
       " ('303000,00', 207),\n",
       " ('3000,00', 206),\n",
       " ('980000,00', 205),\n",
       " ('1650000,00', 204),\n",
       " ('645000,00', 204),\n",
       " ('685000,00', 204),\n",
       " ('9200000,00', 203),\n",
       " ('15000,00', 202),\n",
       " ('960000,00', 202),\n",
       " ('289000,00', 202),\n",
       " ('276000,00', 201),\n",
       " ('313000,00', 199),\n",
       " ('328000,00', 199),\n",
       " ('880000,00', 196),\n",
       " ('333000,00', 195),\n",
       " ('352000,00', 194),\n",
       " ('302000,00', 194),\n",
       " ('47000,00', 194),\n",
       " ('323000,00', 192),\n",
       " ('920000,00', 192),\n",
       " ('9052959,00', 192),\n",
       " ('1450000,00', 191),\n",
       " ('1550000,00', 190),\n",
       " ('49000,00', 188),\n",
       " ('261000,00', 187),\n",
       " ('357000,00', 187),\n",
       " ('825000,00', 187),\n",
       " ('271000,00', 185),\n",
       " ('725000,00', 185),\n",
       " ('2556421,00', 183),\n",
       " ('338000,00', 181),\n",
       " ('12680000,00', 181),\n",
       " ('304000,00', 181),\n",
       " ('14000000,00', 181),\n",
       " ('378000,00', 180),\n",
       " ('735000,00', 180),\n",
       " ('251000,00', 180),\n",
       " ('274000,00', 180),\n",
       " ('695000,00', 180),\n",
       " ('336000,00', 179),\n",
       " ('890000,00', 179),\n",
       " ('11800000,00', 179),\n",
       " ('358000,00', 179),\n",
       " ('343000,00', 178),\n",
       " ('7720914,00', 177),\n",
       " ('152300,00', 174),\n",
       " ('6812991,00', 172),\n",
       " ('296000,00', 171),\n",
       " ('51000,00', 170),\n",
       " ('92500,00', 170),\n",
       " ('367000,00', 169),\n",
       " ('362000,00', 169),\n",
       " ('348000,00', 169),\n",
       " ('82500,00', 168),\n",
       " ('431360,00', 168),\n",
       " ('87500,00', 167),\n",
       " ('337000,00', 165),\n",
       " ('42000,00', 165),\n",
       " ('2000,00', 165),\n",
       " ('112500,00', 164),\n",
       " ('327000,00', 163),\n",
       " ('940000,00', 162),\n",
       " ('775000,00', 162),\n",
       " ('11600000,00', 161),\n",
       " ('347000,00', 160),\n",
       " ('1800000,00', 160),\n",
       " ('127500,00', 160),\n",
       " ('132500,00', 159),\n",
       " ('46000,00', 159),\n",
       " ('122500,00', 158),\n",
       " ('4000000,00', 158),\n",
       " ('2827168,20', 158),\n",
       " ('7004214,00', 157),\n",
       " ('705000,00', 156),\n",
       " ('392000,00', 156),\n",
       " ('399000,00', 156),\n",
       " ('349000,00', 155),\n",
       " ('44000,00', 155),\n",
       " ('4000,00', 155),\n",
       " ('398000,00', 154),\n",
       " ('199100,00', 154),\n",
       " ('353267,00', 153),\n",
       " ('1180000,00', 152),\n",
       " ('910000,00', 151),\n",
       " ('316000,00', 151),\n",
       " ('43000,00', 151),\n",
       " ('815000,00', 151),\n",
       " ('311000,00', 150),\n",
       " ('339000,00', 149),\n",
       " ('147500,00', 149),\n",
       " ('1249132030,00', 149),\n",
       " ('309000,00', 148),\n",
       " ('137500,00', 148),\n",
       " ('281000,00', 147),\n",
       " ('329000,00', 147),\n",
       " ('372000,00', 146),\n",
       " ('314000,00', 145),\n",
       " ('368000,00', 145),\n",
       " ('418000,00', 145),\n",
       " ('152500,00', 143),\n",
       " ('291000,00', 143),\n",
       " ('306000,00', 142),\n",
       " ('157500,00', 141),\n",
       " ('38000,00', 141),\n",
       " ('346000,00', 141),\n",
       " ('209100,00', 141),\n",
       " ('12210000,00', 141),\n",
       " ('123500,00', 140),\n",
       " ('11880932,00', 140),\n",
       " ('374000,00', 139),\n",
       " ('8050000,00', 138),\n",
       " ('1070000,00', 137),\n",
       " ('72500,00', 136),\n",
       " ('990000,00', 136),\n",
       " ('2100000,00', 136),\n",
       " ('1020000,00', 136),\n",
       " ('1040000,00', 136),\n",
       " ('15800000,00', 134),\n",
       " ('319000,00', 133),\n",
       " ('102500,00', 133),\n",
       " ('970000,00', 133),\n",
       " ('107500,00', 133),\n",
       " ('324000,00', 133),\n",
       " ('765000,00', 132),\n",
       " ('77500,00', 132),\n",
       " ('18429000,00', 132),\n",
       " ('795000,00', 132),\n",
       " ('117500,00', 131),\n",
       " ('353000,00', 131),\n",
       " ('162500,00', 130),\n",
       " ('133500,00', 130),\n",
       " ('387000,00', 130),\n",
       " ('17760092,00', 130),\n",
       " ('7600000,00', 130),\n",
       " ('97500,00', 129),\n",
       " ('172500,00', 128),\n",
       " ('2250000,00', 128),\n",
       " ('377000,00', 127),\n",
       " ('62500,00', 127),\n",
       " ('845000,00', 127),\n",
       " ('187500,00', 127),\n",
       " ('383000,00', 127),\n",
       " ('432000,00', 126),\n",
       " ('326000,00', 126),\n",
       " ('855000,00', 126),\n",
       " ('397000,00', 126),\n",
       " ('373000,00', 126),\n",
       " ('67500,00', 125),\n",
       " ('6035140,00', 125),\n",
       " ('42668992,00', 125),\n",
       " ('321000,00', 125),\n",
       " ('412000,00', 125),\n",
       " ('500,00', 125),\n",
       " ('437000,00', 124),\n",
       " ('468000,00', 124),\n",
       " ('2600000,00', 124),\n",
       " ('382000,00', 124),\n",
       " ('39000,00', 124),\n",
       " ('835000,00', 123),\n",
       " ('408000,00', 123),\n",
       " ('1080000,00', 123),\n",
       " ('5900000,00', 122),\n",
       " ('100394,00', 122),\n",
       " ('1140000,00', 122),\n",
       " ('376000,00', 121),\n",
       " ('384000,00', 120),\n",
       " ('334000,00', 120),\n",
       " ('388000,00', 120),\n",
       " ('76500,00', 120),\n",
       " ('745000,00', 119),\n",
       " ('237500,00', 119),\n",
       " ('125500,00', 119),\n",
       " ('32000,00', 118),\n",
       " ('4500000,00', 118),\n",
       " ('975000,00', 118),\n",
       " ('166500,00', 117),\n",
       " ('1260000,00', 117),\n",
       " ('3400000,00', 117),\n",
       " ('755000,00', 116),\n",
       " ('363000,00', 116),\n",
       " ('359000,00', 115),\n",
       " ('167500,00', 115),\n",
       " ('108500,00', 115),\n",
       " ('785000,00', 115),\n",
       " ('161500,00', 115),\n",
       " ('413000,00', 114),\n",
       " ('407000,00', 114),\n",
       " ('1850000,00', 114),\n",
       " ('364000,00', 114),\n",
       " ('103500,00', 113),\n",
       " ('126500,00', 113),\n",
       " ('1280000,00', 112),\n",
       " ('10000000,00', 112),\n",
       " ('5200000,00', 112),\n",
       " ('428000,00', 112),\n",
       " ('178500,00', 111),\n",
       " ('222500,00', 111),\n",
       " ('182500,00', 111),\n",
       " ('2400000,00', 111),\n",
       " ('88500,00', 111),\n",
       " ('202500,00', 110),\n",
       " ('442000,00', 110),\n",
       " ('1380000,00', 110),\n",
       " ('1060000,00', 110),\n",
       " ('369000,00', 110),\n",
       " ('448000,00', 109),\n",
       " ('423000,00', 109),\n",
       " ('8000000,00', 109),\n",
       " ('55244924,00', 109),\n",
       " ('361000,00', 109),\n",
       " ('149500,00', 109),\n",
       " ('148500,00', 109),\n",
       " ('136500,00', 109),\n",
       " ('6990763,00', 109),\n",
       " ('131500,00', 108),\n",
       " ('10500000,00', 108),\n",
       " ('192500,00', 108),\n",
       " ('36000,00', 108),\n",
       " ('393000,00', 108),\n",
       " ('113500,00', 107),\n",
       " ('7485710,00', 107),\n",
       " ('93500,00', 106),\n",
       " ('37000,00', 106),\n",
       " ('232500,00', 106),\n",
       " ('301000,00', 106),\n",
       " ('1750000,00', 106),\n",
       " ('22388534,00', 106),\n",
       " ('143500,00', 106),\n",
       " ('1030000,00', 106),\n",
       " ('356000,00', 106),\n",
       " ('2350000,00', 106),\n",
       " ('94500,00', 105),\n",
       " ('138500,00', 105),\n",
       " ('417000,00', 105),\n",
       " ('331000,00', 104),\n",
       " ('371000,00', 104),\n",
       " ('78500,00', 104),\n",
       " ('1220000,00', 104),\n",
       " ('134500,00', 104),\n",
       " ('875000,00', 103),\n",
       " ('885000,00', 103),\n",
       " ('478000,00', 103),\n",
       " ('354000,00', 103),\n",
       " ('1090000,00', 103),\n",
       " ('118500,00', 103),\n",
       " ('366000,00', 103),\n",
       " ('402000,00', 102),\n",
       " ('99500,00', 102),\n",
       " ('389000,00', 102),\n",
       " ('121500,00', 101),\n",
       " ('379000,00', 101),\n",
       " ('139500,00', 101),\n",
       " ('212500,00', 101),\n",
       " ('173500,00', 101),\n",
       " ('33000,00', 101),\n",
       " ('171500,00', 101),\n",
       " ('403000,00', 100),\n",
       " ('1130000,00', 100),\n",
       " ('6000,00', 100),\n",
       " ('20337240,00', 100),\n",
       " ('427000,00', 100),\n",
       " ('438000,00', 100),\n",
       " ('1025000,00', 100),\n",
       " ('3200000,00', 100),\n",
       " ('124500,00', 99),\n",
       " ('394000,00', 99),\n",
       " ('452000,00', 99),\n",
       " ('1500,00', 99),\n",
       " ('925000,00', 99),\n",
       " ('135500,00', 99),\n",
       " ('128500,00', 98),\n",
       " ('199500,00', 98),\n",
       " ('98500,00', 98),\n",
       " ('422000,00', 98),\n",
       " ('456000,00', 97),\n",
       " ('180500,00', 97),\n",
       " ('163500,00', 97),\n",
       " ('2800000,00', 97),\n",
       " ('177500,00', 97),\n",
       " ('68500,00', 97),\n",
       " ('73500,00', 97),\n",
       " ('458000,00', 96),\n",
       " ('176500,00', 96),\n",
       " ('91500,00', 96),\n",
       " ('119500,00', 96),\n",
       " ('1950000,00', 96),\n",
       " ('3500000,00', 95),\n",
       " ('1110000,00', 95),\n",
       " ('85500,00', 95),\n",
       " ('89400,00', 95),\n",
       " ('12000000,00', 95),\n",
       " ('6165698,00', 95),\n",
       " ('391000,00', 94),\n",
       " ('86500,00', 94),\n",
       " ('81500,00', 94),\n",
       " ('482000,00', 94),\n",
       " ('2450000,00', 94),\n",
       " ('90500,00', 93),\n",
       " ('159500,00', 93),\n",
       " ('426000,00', 93),\n",
       " ('344000,00', 92),\n",
       " ('153500,00', 92),\n",
       " ('447000,00', 92),\n",
       " ('154500,00', 92),\n",
       " ('1230000,00', 92),\n",
       " ('462000,00', 91),\n",
       " ('341000,00', 91),\n",
       " ('945000,00', 91),\n",
       " ('1170000,00', 91),\n",
       " ('30000000,00', 91),\n",
       " ('5135162,00', 91),\n",
       " ('386000,00', 90),\n",
       " ('2050000,00', 90),\n",
       " ('106500,00', 90),\n",
       " ('227500,00', 90),\n",
       " ('915000,00', 89),\n",
       " ('181500,00', 89),\n",
       " ('129500,00', 89),\n",
       " ('257500,00', 89),\n",
       " ('207500,00', 89),\n",
       " ('160500,00', 88),\n",
       " ('4826329,00', 88),\n",
       " ('197500,00', 88),\n",
       " ('247500,00', 88),\n",
       " ('351000,00', 88),\n",
       " ('175500,00', 88),\n",
       " ('396000,00', 88),\n",
       " ('165500,00', 88),\n",
       " ('7958599,00', 88),\n",
       " ('217500,00', 87),\n",
       " ('104500,00', 87),\n",
       " ('472000,00', 87),\n",
       " ('79500,00', 87),\n",
       " ('805000,00', 87),\n",
       " ('89500,00', 87),\n",
       " ('498000,00', 87),\n",
       " ('443000,00', 87),\n",
       " ('141500,00', 87),\n",
       " ('457000,00', 86),\n",
       " ('1010000,00', 86),\n",
       " ('429000,00', 86),\n",
       " ('158500,00', 86),\n",
       " ('52500,00', 86),\n",
       " ('146500,00', 86),\n",
       " ('6000000,00', 86),\n",
       " ('865000,00', 85),\n",
       " ('116500,00', 85),\n",
       " ('51340000,00', 85),\n",
       " ('2521500,00', 85),\n",
       " ('84500,00', 85),\n",
       " ('3900000,00', 85),\n",
       " ('83500,00', 85),\n",
       " ('3800000,00', 85),\n",
       " ('57500,00', 84),\n",
       " ('151500,00', 84),\n",
       " ('404000,00', 84),\n",
       " ('144500,00', 84),\n",
       " ('8000,00', 84),\n",
       " ('553000,00', 84),\n",
       " ('419000,00', 84),\n",
       " ('1160000,00', 84),\n",
       " ('130500,00', 84),\n",
       " ('1120000,00', 84),\n",
       " ('7000,00', 84),\n",
       " ('156500,00', 83),\n",
       " ('488000,00', 83),\n",
       " ('242500,00', 83),\n",
       " ('179500,00', 83),\n",
       " ('66500,00', 83),\n",
       " ('20500000,00', 83),\n",
       " ('477000,00', 83),\n",
       " ('28000,00', 82),\n",
       " ('1330000,00', 82),\n",
       " ('2750000,00', 82),\n",
       " ('114500,00', 82),\n",
       " ('168500,00', 82),\n",
       " ('63500,00', 82),\n",
       " ('126000000,00', 82),\n",
       " ('252500,00', 81),\n",
       " ('439000,00', 81),\n",
       " ('186500,00', 81),\n",
       " ('1190000,00', 81),\n",
       " ('164500,00', 81),\n",
       " ('64500,00', 81),\n",
       " ('499000,00', 81),\n",
       " ('502000,00', 81),\n",
       " ('31400000,00', 81),\n",
       " ('2139218,00', 81),\n",
       " ('169500,00', 81),\n",
       " ('5000000,00', 81),\n",
       " ('96500,00', 80),\n",
       " ('71500,00', 80),\n",
       " ('267500,00', 79),\n",
       " ('95500,00', 79),\n",
       " ('416000,00', 79),\n",
       " ('1480000,00', 79),\n",
       " ('2300000,00', 79),\n",
       " ('433000,00', 79),\n",
       " ('256500,00', 79),\n",
       " ('492000,00', 79),\n",
       " ('2625,00', 79),\n",
       " ('211500,00', 78),\n",
       " ('155500,00', 78),\n",
       " ('70500,00', 78),\n",
       " ('41000,00', 78),\n",
       " ('486000,00', 78),\n",
       " ('185500,00', 78),\n",
       " ('3507777,00', 78),\n",
       " ('174500,00', 78),\n",
       " ('218500,00', 77),\n",
       " ('262500,00', 77),\n",
       " ('453000,00', 77),\n",
       " ('467000,00', 77),\n",
       " ('219500,00', 77),\n",
       " ('2850000,00', 77),\n",
       " ('6900000,00', 77),\n",
       " ('4076699,00', 77),\n",
       " ('170500,00', 76),\n",
       " ('120500,00', 76),\n",
       " ('1320000,00', 75),\n",
       " ('406000,00', 75),\n",
       " ('1360000,00', 75),\n",
       " ('184500,00', 75),\n",
       " ('100500,00', 75),\n",
       " ('74500,00', 75),\n",
       " ('183500,00', 75),\n",
       " ('2500,00', 75),\n",
       " ('12000,00', 75),\n",
       " ('409000,00', 75),\n",
       " ('1240000,00', 74),\n",
       " ('1680000,00', 74),\n",
       " ('24000,00', 74),\n",
       " ('105500,00', 74),\n",
       " ('101500,00', 74),\n",
       " ('116900,00', 74),\n",
       " ('9089354,00', 74),\n",
       " ('61500,00', 73),\n",
       " ('100,00', 73),\n",
       " ('454000,00', 73),\n",
       " ('69500,00', 73),\n",
       " ('2573844,00', 73),\n",
       " ('190500,00', 73),\n",
       " ('206500,00', 73),\n",
       " ('223500,00', 73),\n",
       " ('466000,00', 73),\n",
       " ('193500,00', 73),\n",
       " ('4300000,00', 73),\n",
       " ('3124156,00', 73),\n",
       " ('145500,00', 72),\n",
       " ('332500,00', 72),\n",
       " ('436000,00', 72),\n",
       " ('287500,00', 72),\n",
       " ('995000,00', 72),\n",
       " ('6500000,00', 72),\n",
       " ('1716924,00', 72),\n",
       " ('115500,00', 72),\n",
       " ('463000,00', 72),\n",
       " ('2007031,00', 72),\n",
       " ('449000,00', 71),\n",
       " ('424000,00', 71),\n",
       " ('1290000,00', 71),\n",
       " ('523000,00', 71),\n",
       " ('150100,00', 71),\n",
       " ('150500,00', 71),\n",
       " ('513000,00', 71),\n",
       " ('5897800,00', 71),\n",
       " ('208500,00', 70),\n",
       " ('58500,00', 70),\n",
       " ('277500,00', 70),\n",
       " ('895000,00', 70),\n",
       " ('140500,00', 70),\n",
       " ('2550000,00', 70),\n",
       " ('233500,00', 70),\n",
       " ('201500,00', 70),\n",
       " ('18000,00', 70),\n",
       " ('4300309,00', 70),\n",
       " ('3572888,00', 70),\n",
       " ('109500,00', 69),\n",
       " ('357500,00', 69),\n",
       " ('292500,00', 69),\n",
       " ('22000,00', 69),\n",
       " ('528000,00', 69),\n",
       " ('2735000,00', 69),\n",
       " ('900360,60', 69),\n",
       " ('935000,00', 68),\n",
       " ('572000,00', 68),\n",
       " ('434000,00', 68),\n",
       " ('489000,00', 68),\n",
       " ('446000,00', 67),\n",
       " ('537000,00', 67),\n",
       " ('1520000,00', 67),\n",
       " ('1270000,00', 67),\n",
       " ('1210000,00', 67),\n",
       " ('5996088,00', 67),\n",
       " ('1340000,00', 67),\n",
       " ('14200000,00', 67),\n",
       " ('6989021,00', 67),\n",
       " ('27000,00', 66),\n",
       " ('214500,00', 66),\n",
       " ('65500,00', 66),\n",
       " ('401000,00', 66),\n",
       " ('24410000,00', 66),\n",
       " ('216500,00', 66),\n",
       " ('31000,00', 66),\n",
       " ('6437344,00', 66),\n",
       " ('191500,00', 65),\n",
       " ('245500,00', 65),\n",
       " ('188500,00', 65),\n",
       " ('3154900,00', 65),\n",
       " ('267660,00', 65),\n",
       " ('955000,00', 65),\n",
       " ('512000,00', 65),\n",
       " ('381000,00', 65),\n",
       " ('568000,00', 65),\n",
       " ('1575000,00', 65),\n",
       " ('51010000,00', 65),\n",
       " ('483000,00', 64),\n",
       " ('236500,00', 64),\n",
       " ('2030000,00', 64),\n",
       " ('7500000,00', 64),\n",
       " ('4050000,00', 64),\n",
       " ('272500,00', 64),\n",
       " ('248500,00', 64),\n",
       " ('7800000,00', 64),\n",
       " ('275500,00', 63),\n",
       " ('1125000,00', 63),\n",
       " ('441000,00', 63),\n",
       " ('23000,00', 63),\n",
       " ('557000,00', 63),\n",
       " ('198500,00', 63),\n",
       " ('414000,00', 63),\n",
       " ('474000,00', 63),\n",
       " ('203500,00', 63),\n",
       " ('226500,00', 63),\n",
       " ('200500,00', 63),\n",
       " ('9000,00', 63),\n",
       " ('44440000,00', 63),\n",
       " ('15300000,00', 63),\n",
       " ('195500,00', 62),\n",
       " ('1310000,00', 62),\n",
       " ('7250000,00', 62),\n",
       " ('14600000,00', 62),\n",
       " ('522000,00', 62),\n",
       " ('8600000,00', 62),\n",
       " ('2499879,00', 62),\n",
       " ('9011679,00', 62),\n",
       " ('159300,00', 61),\n",
       " ('307500,00', 61),\n",
       " ('905000,00', 61),\n",
       " ('3700000,00', 61),\n",
       " ('469000,00', 61),\n",
       " ('461000,00', 61),\n",
       " ('1630000,00', 61),\n",
       " ('194500,00', 61),\n",
       " ('110500,00', 61),\n",
       " ('204500,00', 60),\n",
       " ('75500,00', 60),\n",
       " ('279500,00', 60),\n",
       " ('215500,00', 60),\n",
       " ('9360000,00', 60),\n",
       " ('5899535,00', 60),\n",
       " ('12735785,00', 60),\n",
       " ('135000000,00', 60),\n",
       " ('31345598,00', 60),\n",
       " ('473000,00', 60),\n",
       " ('493000,00', 60),\n",
       " ('239500,00', 60),\n",
       " ('527000,00', 60),\n",
       " ('238500,00', 60),\n",
       " ('3100000,00', 60),\n",
       " ('8860017,00', 60),\n",
       " ('6496030,00', 60),\n",
       " ('21820000,00', 60),\n",
       " ('965000,00', 59),\n",
       " ('294500,00', 59),\n",
       " ('229500,00', 59),\n",
       " ('431000,00', 59),\n",
       " ('1442212,00', 59),\n",
       " ('7633980,00', 59),\n",
       " ('1470000,00', 59),\n",
       " ('2650000,00', 59),\n",
       " ('182760,00', 59),\n",
       " ('18600,00', 59),\n",
       " ('209500,00', 58),\n",
       " ('507000,00', 58),\n",
       " ('228500,00', 58),\n",
       " ('302500,00', 58),\n",
       " ('221500,00', 58),\n",
       " ('1390000,00', 58),\n",
       " ('538000,00', 58),\n",
       " ('297500,00', 58),\n",
       " ('4100000,00', 58),\n",
       " ('1085000,00', 58),\n",
       " ('1165000,00', 58),\n",
       " ('111500,00', 58),\n",
       " ('205500,00', 58),\n",
       " ('582000,00', 58),\n",
       " ('487000,00', 58),\n",
       " ('612000,00', 57),\n",
       " ('985000,00', 57),\n",
       " ('55500,00', 57),\n",
       " ('80500,00', 57),\n",
       " ('1410000,00', 57),\n",
       " ('518000,00', 57),\n",
       " ('484000,00', 57),\n",
       " ('213500,00', 57),\n",
       " ('542000,00', 57),\n",
       " ('189500,00', 57),\n",
       " ('411000,00', 57),\n",
       " ('588000,00', 57),\n",
       " ...]"
      ]
     },
     "execution_count": 29,
     "metadata": {},
     "output_type": "execute_result"
    }
   ],
   "source": [
    "rdd_estate_clean.map(lambda tuple: (tuple[3],1))\\\n",
    "                .reduceByKey(lambda x,y : x+y)\\\n",
    "                .sortBy(lambda tuple: tuple[1], ascending=False)\\\n",
    "                .filter(lambda tuple: tuple[1])\\\n",
    "                .collect()"
   ]
  },
  {
   "cell_type": "code",
   "execution_count": 30,
   "metadata": {},
   "outputs": [],
   "source": [
    "def replaceStringToInt(tup):\n",
    "        tup[3] = tup[3].split(',')[0]\n",
    "        tup[3] = int(tup[3])\n",
    "        \n",
    "        tup[6] = int(tup[6])\n",
    "        tup[8] = float(tup[8])\n",
    "        tup[9] = int(tup[9])\n",
    "        tup[10] = float(tup[10])\n",
    "        \n",
    "        return tup"
   ]
  },
  {
   "cell_type": "code",
   "execution_count": 31,
   "metadata": {},
   "outputs": [],
   "source": [
    "rdd_estate_clean = rdd_estate_clean.map(lambda tup: replaceStringToInt(tup))"
   ]
  },
  {
   "cell_type": "code",
   "execution_count": 32,
   "metadata": {
    "scrolled": true
   },
   "outputs": [
    {
     "data": {
      "text/plain": [
       "[['NICE',\n",
       "  '26/03/2015',\n",
       "  'SALE',\n",
       "  102000,\n",
       "  '6000',\n",
       "  'NICE',\n",
       "  1,\n",
       "  'APARTMENT',\n",
       "  29.0,\n",
       "  2,\n",
       "  0.0]]"
      ]
     },
     "execution_count": 32,
     "metadata": {},
     "output_type": "execute_result"
    }
   ],
   "source": [
    "rdd_estate_clean.take(1)"
   ]
  },
  {
   "cell_type": "code",
   "execution_count": 33,
   "metadata": {},
   "outputs": [
    {
     "data": {
      "text/plain": [
       "478005"
      ]
     },
     "execution_count": 33,
     "metadata": {},
     "output_type": "execute_result"
    }
   ],
   "source": [
    "rdd_estate_clean.count()"
   ]
  },
  {
   "cell_type": "markdown",
   "metadata": {},
   "source": [
    "M² Price Filter per City"
   ]
  },
  {
   "cell_type": "code",
   "execution_count": 34,
   "metadata": {},
   "outputs": [
    {
     "data": {
      "text/plain": [
       "[['NICE',\n",
       "  '26/03/2015',\n",
       "  'SALE',\n",
       "  102000,\n",
       "  '6000',\n",
       "  'NICE',\n",
       "  1,\n",
       "  'APARTMENT',\n",
       "  29.0,\n",
       "  2,\n",
       "  0.0],\n",
       " ['NICE',\n",
       "  '10/04/2015',\n",
       "  'SALE',\n",
       "  239000,\n",
       "  '6200',\n",
       "  'NICE',\n",
       "  1,\n",
       "  'APARTMENT',\n",
       "  51.0,\n",
       "  2,\n",
       "  0.0],\n",
       " ['NICE',\n",
       "  '23/03/2015',\n",
       "  'SALE',\n",
       "  410000,\n",
       "  '6200',\n",
       "  'NICE',\n",
       "  2,\n",
       "  'APARTMENT',\n",
       "  60.0,\n",
       "  3,\n",
       "  0.0],\n",
       " ['NICE',\n",
       "  '08/04/2015',\n",
       "  'SALE',\n",
       "  215000,\n",
       "  '6200',\n",
       "  'NICE',\n",
       "  1,\n",
       "  'APARTMENT',\n",
       "  67.0,\n",
       "  3,\n",
       "  0.0],\n",
       " ['NICE',\n",
       "  '20/03/2015',\n",
       "  'SALE',\n",
       "  625000,\n",
       "  '6200',\n",
       "  'NICE',\n",
       "  0,\n",
       "  'HOUSE',\n",
       "  160.0,\n",
       "  5,\n",
       "  500.0],\n",
       " ['NICE',\n",
       "  '20/03/2015',\n",
       "  'SALE',\n",
       "  625000,\n",
       "  '6200',\n",
       "  'NICE',\n",
       "  0,\n",
       "  'HOUSE',\n",
       "  160.0,\n",
       "  5,\n",
       "  1267.0],\n",
       " ['NICE',\n",
       "  '02/04/2015',\n",
       "  'SALE',\n",
       "  130000,\n",
       "  '6200',\n",
       "  'NICE',\n",
       "  1,\n",
       "  'APARTMENT',\n",
       "  31.0,\n",
       "  1,\n",
       "  0.0],\n",
       " ['NICE',\n",
       "  '24/03/2015',\n",
       "  'SALE',\n",
       "  115000,\n",
       "  '6000',\n",
       "  'NICE',\n",
       "  2,\n",
       "  'APARTMENT',\n",
       "  50.0,\n",
       "  2,\n",
       "  0.0],\n",
       " ['NICE',\n",
       "  '03/04/2015',\n",
       "  'SALE',\n",
       "  172500,\n",
       "  '6100',\n",
       "  'NICE',\n",
       "  2,\n",
       "  'APARTMENT',\n",
       "  63.0,\n",
       "  4,\n",
       "  0.0],\n",
       " ['NICE',\n",
       "  '09/04/2015',\n",
       "  'SALE',\n",
       "  360000,\n",
       "  '6200',\n",
       "  'NICE',\n",
       "  0,\n",
       "  'HOUSE',\n",
       "  109.0,\n",
       "  5,\n",
       "  502.0]]"
      ]
     },
     "execution_count": 34,
     "metadata": {},
     "output_type": "execute_result"
    }
   ],
   "source": [
    "rdd_estate_clean = rdd_estate_clean.map(lambda tuple: list(tuple))\n",
    "\n",
    "rdd_estate_clean.take(10)"
   ]
  },
  {
   "cell_type": "code",
   "execution_count": 35,
   "metadata": {},
   "outputs": [],
   "source": [
    "def priceperM2(tup):\n",
    "        tup.append(int(tup[3])/int(tup[8]))\n",
    "        return tup"
   ]
  },
  {
   "cell_type": "code",
   "execution_count": 36,
   "metadata": {},
   "outputs": [
    {
     "data": {
      "text/plain": [
       "[['NICE',\n",
       "  '26/03/2015',\n",
       "  'SALE',\n",
       "  102000,\n",
       "  '6000',\n",
       "  'NICE',\n",
       "  1,\n",
       "  'APARTMENT',\n",
       "  29.0,\n",
       "  2,\n",
       "  0.0,\n",
       "  3517.2413793103447],\n",
       " ['NICE',\n",
       "  '10/04/2015',\n",
       "  'SALE',\n",
       "  239000,\n",
       "  '6200',\n",
       "  'NICE',\n",
       "  1,\n",
       "  'APARTMENT',\n",
       "  51.0,\n",
       "  2,\n",
       "  0.0,\n",
       "  4686.274509803921],\n",
       " ['NICE',\n",
       "  '23/03/2015',\n",
       "  'SALE',\n",
       "  410000,\n",
       "  '6200',\n",
       "  'NICE',\n",
       "  2,\n",
       "  'APARTMENT',\n",
       "  60.0,\n",
       "  3,\n",
       "  0.0,\n",
       "  6833.333333333333],\n",
       " ['NICE',\n",
       "  '08/04/2015',\n",
       "  'SALE',\n",
       "  215000,\n",
       "  '6200',\n",
       "  'NICE',\n",
       "  1,\n",
       "  'APARTMENT',\n",
       "  67.0,\n",
       "  3,\n",
       "  0.0,\n",
       "  3208.955223880597],\n",
       " ['NICE',\n",
       "  '20/03/2015',\n",
       "  'SALE',\n",
       "  625000,\n",
       "  '6200',\n",
       "  'NICE',\n",
       "  0,\n",
       "  'HOUSE',\n",
       "  160.0,\n",
       "  5,\n",
       "  500.0,\n",
       "  3906.25],\n",
       " ['NICE',\n",
       "  '20/03/2015',\n",
       "  'SALE',\n",
       "  625000,\n",
       "  '6200',\n",
       "  'NICE',\n",
       "  0,\n",
       "  'HOUSE',\n",
       "  160.0,\n",
       "  5,\n",
       "  1267.0,\n",
       "  3906.25],\n",
       " ['NICE',\n",
       "  '02/04/2015',\n",
       "  'SALE',\n",
       "  130000,\n",
       "  '6200',\n",
       "  'NICE',\n",
       "  1,\n",
       "  'APARTMENT',\n",
       "  31.0,\n",
       "  1,\n",
       "  0.0,\n",
       "  4193.548387096775],\n",
       " ['NICE',\n",
       "  '24/03/2015',\n",
       "  'SALE',\n",
       "  115000,\n",
       "  '6000',\n",
       "  'NICE',\n",
       "  2,\n",
       "  'APARTMENT',\n",
       "  50.0,\n",
       "  2,\n",
       "  0.0,\n",
       "  2300.0],\n",
       " ['NICE',\n",
       "  '03/04/2015',\n",
       "  'SALE',\n",
       "  172500,\n",
       "  '6100',\n",
       "  'NICE',\n",
       "  2,\n",
       "  'APARTMENT',\n",
       "  63.0,\n",
       "  4,\n",
       "  0.0,\n",
       "  2738.095238095238],\n",
       " ['NICE',\n",
       "  '09/04/2015',\n",
       "  'SALE',\n",
       "  360000,\n",
       "  '6200',\n",
       "  'NICE',\n",
       "  0,\n",
       "  'HOUSE',\n",
       "  109.0,\n",
       "  5,\n",
       "  502.0,\n",
       "  3302.7522935779816]]"
      ]
     },
     "execution_count": 36,
     "metadata": {},
     "output_type": "execute_result"
    }
   ],
   "source": [
    "#list[11] = price per m²\n",
    "\n",
    "rdd_estate_clean = rdd_estate_clean.map(lambda tup: priceperM2(tup))\n",
    "\n",
    "rdd_estate_clean.take(10)"
   ]
  },
  {
   "cell_type": "code",
   "execution_count": 37,
   "metadata": {
    "scrolled": false
   },
   "outputs": [
    {
     "data": {
      "text/plain": [
       "478005"
      ]
     },
     "execution_count": 37,
     "metadata": {},
     "output_type": "execute_result"
    }
   ],
   "source": [
    "rdd_estate_clean.count()"
   ]
  },
  {
   "cell_type": "code",
   "execution_count": 38,
   "metadata": {},
   "outputs": [],
   "source": [
    "def filterPricePerM2PerCity(tup):\n",
    "    if tup[0] == 'NANTES' and 0 <= tup[11] <= 10000: \n",
    "        return tup\n",
    "    elif tup[0] == 'TOULOUSE' and 0 <= tup[11] <= 10000:\n",
    "        return tup\n",
    "    elif tup[0] == 'MONTPELLIER' and 0 <= tup[11] <= 12000:\n",
    "        return tup \n",
    "    elif tup[0] == 'LILLE' and 0 <= tup[11] <= 9000:\n",
    "        return tup\n",
    "    elif tup[0] == 'BORDEAUX' and 0 <= tup[11] <= 12000:\n",
    "        return tup \n",
    "    elif tup[0] == 'PARIS' and 0 <= tup[11] <= 49000:\n",
    "        return tup \n",
    "    elif tup[0] == 'LYON' and 0 <= tup[11] <= 15000:\n",
    "        return tup \n",
    "    elif tup[0] == 'MARSEILLE' and 0 <= tup[11] <= 12000:\n",
    "        return tup \n",
    "    elif tup[0] == 'NICE' and 0 <= tup[11] <= 15000:\n",
    "        return tup\n",
    "    "
   ]
  },
  {
   "cell_type": "code",
   "execution_count": 39,
   "metadata": {},
   "outputs": [
    {
     "data": {
      "text/plain": [
       "[['NICE',\n",
       "  '26/03/2015',\n",
       "  'SALE',\n",
       "  102000,\n",
       "  '6000',\n",
       "  'NICE',\n",
       "  1,\n",
       "  'APARTMENT',\n",
       "  29.0,\n",
       "  2,\n",
       "  0.0,\n",
       "  3517.2413793103447],\n",
       " ['NICE',\n",
       "  '10/04/2015',\n",
       "  'SALE',\n",
       "  239000,\n",
       "  '6200',\n",
       "  'NICE',\n",
       "  1,\n",
       "  'APARTMENT',\n",
       "  51.0,\n",
       "  2,\n",
       "  0.0,\n",
       "  4686.274509803921],\n",
       " ['NICE',\n",
       "  '23/03/2015',\n",
       "  'SALE',\n",
       "  410000,\n",
       "  '6200',\n",
       "  'NICE',\n",
       "  2,\n",
       "  'APARTMENT',\n",
       "  60.0,\n",
       "  3,\n",
       "  0.0,\n",
       "  6833.333333333333],\n",
       " ['NICE',\n",
       "  '08/04/2015',\n",
       "  'SALE',\n",
       "  215000,\n",
       "  '6200',\n",
       "  'NICE',\n",
       "  1,\n",
       "  'APARTMENT',\n",
       "  67.0,\n",
       "  3,\n",
       "  0.0,\n",
       "  3208.955223880597],\n",
       " ['NICE',\n",
       "  '20/03/2015',\n",
       "  'SALE',\n",
       "  625000,\n",
       "  '6200',\n",
       "  'NICE',\n",
       "  0,\n",
       "  'HOUSE',\n",
       "  160.0,\n",
       "  5,\n",
       "  500.0,\n",
       "  3906.25],\n",
       " ['NICE',\n",
       "  '20/03/2015',\n",
       "  'SALE',\n",
       "  625000,\n",
       "  '6200',\n",
       "  'NICE',\n",
       "  0,\n",
       "  'HOUSE',\n",
       "  160.0,\n",
       "  5,\n",
       "  1267.0,\n",
       "  3906.25],\n",
       " ['NICE',\n",
       "  '02/04/2015',\n",
       "  'SALE',\n",
       "  130000,\n",
       "  '6200',\n",
       "  'NICE',\n",
       "  1,\n",
       "  'APARTMENT',\n",
       "  31.0,\n",
       "  1,\n",
       "  0.0,\n",
       "  4193.548387096775],\n",
       " ['NICE',\n",
       "  '24/03/2015',\n",
       "  'SALE',\n",
       "  115000,\n",
       "  '6000',\n",
       "  'NICE',\n",
       "  2,\n",
       "  'APARTMENT',\n",
       "  50.0,\n",
       "  2,\n",
       "  0.0,\n",
       "  2300.0],\n",
       " ['NICE',\n",
       "  '03/04/2015',\n",
       "  'SALE',\n",
       "  172500,\n",
       "  '6100',\n",
       "  'NICE',\n",
       "  2,\n",
       "  'APARTMENT',\n",
       "  63.0,\n",
       "  4,\n",
       "  0.0,\n",
       "  2738.095238095238],\n",
       " ['NICE',\n",
       "  '09/04/2015',\n",
       "  'SALE',\n",
       "  360000,\n",
       "  '6200',\n",
       "  'NICE',\n",
       "  0,\n",
       "  'HOUSE',\n",
       "  109.0,\n",
       "  5,\n",
       "  502.0,\n",
       "  3302.7522935779816]]"
      ]
     },
     "execution_count": 39,
     "metadata": {},
     "output_type": "execute_result"
    }
   ],
   "source": [
    "rdd_estate_clean = rdd_estate_clean.map(lambda tup : filterPricePerM2PerCity(tup))\\\n",
    "                                   .filter(lambda tup : tup != None)\n",
    "\n",
    "rdd_estate_clean.take(10)"
   ]
  },
  {
   "cell_type": "markdown",
   "metadata": {},
   "source": [
    "Price Filtering (20000 - 11 999 999)"
   ]
  },
  {
   "cell_type": "code",
   "execution_count": 40,
   "metadata": {},
   "outputs": [
    {
     "data": {
      "text/plain": [
       "428261"
      ]
     },
     "execution_count": 40,
     "metadata": {},
     "output_type": "execute_result"
    }
   ],
   "source": [
    "rdd_estate_clean = rdd_estate_clean.filter(lambda tup : 20000 <= tup[3] <= 11999999)\n",
    "\n",
    "rdd_estate_clean.count()"
   ]
  },
  {
   "cell_type": "markdown",
   "metadata": {},
   "source": [
    "Number of rooms filtering "
   ]
  },
  {
   "cell_type": "code",
   "execution_count": 41,
   "metadata": {
    "scrolled": false
   },
   "outputs": [
    {
     "data": {
      "text/plain": [
       "428253"
      ]
     },
     "execution_count": 41,
     "metadata": {},
     "output_type": "execute_result"
    }
   ],
   "source": [
    "rdd_estate_clean = rdd_estate_clean.filter(lambda tup : 0 <= int(tup[9]) <= 25)\n",
    "\n",
    "rdd_estate_clean.count()"
   ]
  },
  {
   "cell_type": "code",
   "execution_count": 42,
   "metadata": {},
   "outputs": [
    {
     "data": {
      "text/plain": [
       "[]"
      ]
     },
     "execution_count": 42,
     "metadata": {},
     "output_type": "execute_result"
    }
   ],
   "source": [
    "rdd_estate_clean.filter(lambda tup: tup[11] == None or tup[11] == '').collect()"
   ]
  },
  {
   "cell_type": "markdown",
   "metadata": {},
   "source": [
    "# Data Visualization "
   ]
  },
  {
   "cell_type": "code",
   "execution_count": 43,
   "metadata": {},
   "outputs": [],
   "source": [
    "def cluster(tup):\n",
    "    if tup[0] == 'NANTES' or tup[0] == 'TOULOUSE' or tup[0] == 'MONTPELLIER' or tup[0] == 'LILLE' or tup[0] == 'MARSEILLE':\n",
    "        tup.append(2); \n",
    "        return tup\n",
    "    elif tup[0] == 'LYON' or tup[0] == 'BORDEAUX' or tup[0]=='NICE':\n",
    "        tup.append(1); \n",
    "        return tup\n",
    "    elif tup[0] == 'PARIS': \n",
    "        tup.append(0); \n",
    "        return tup"
   ]
  },
  {
   "cell_type": "code",
   "execution_count": 44,
   "metadata": {},
   "outputs": [],
   "source": [
    "rdd_estate_clean = rdd_estate_clean.map(lambda tup : cluster(tup))"
   ]
  },
  {
   "cell_type": "code",
   "execution_count": 45,
   "metadata": {},
   "outputs": [
    {
     "data": {
      "text/plain": [
       "PythonRDD[88] at RDD at PythonRDD.scala:53"
      ]
     },
     "execution_count": 45,
     "metadata": {},
     "output_type": "execute_result"
    }
   ],
   "source": [
    "rdd_estate_clean"
   ]
  },
  {
   "cell_type": "code",
   "execution_count": 46,
   "metadata": {},
   "outputs": [],
   "source": [
    "spark = pyspark.sql.SparkSession.builder.appName(\"Spark-Dataframe-SQL\").getOrCreate()"
   ]
  },
  {
   "cell_type": "markdown",
   "metadata": {},
   "source": [
    "with an implicit schema"
   ]
  },
  {
   "cell_type": "code",
   "execution_count": 47,
   "metadata": {
    "scrolled": true
   },
   "outputs": [
    {
     "name": "stdout",
     "output_type": "stream",
     "text": [
      "+----+----------+--------------------+------+-----------+-------+--------------+----------+-----------+---------------+---------+------------------+-------+\n",
      "|City| Sale Date|           Sale Type| Price|Postal Code|Commune|Number of lots|Local Type|Living Area|Number of rooms|Land Area|      Price per M²|Cluster|\n",
      "+----+----------+--------------------+------+-----------+-------+--------------+----------+-----------+---------------+---------+------------------+-------+\n",
      "|NICE|26/03/2015|                SALE|102000|       6000|   NICE|             1| APARTMENT|       29.0|              2|      0.0|3517.2413793103447|      1|\n",
      "|NICE|10/04/2015|                SALE|239000|       6200|   NICE|             1| APARTMENT|       51.0|              2|      0.0| 4686.274509803921|      1|\n",
      "|NICE|23/03/2015|                SALE|410000|       6200|   NICE|             2| APARTMENT|       60.0|              3|      0.0| 6833.333333333333|      1|\n",
      "|NICE|08/04/2015|                SALE|215000|       6200|   NICE|             1| APARTMENT|       67.0|              3|      0.0| 3208.955223880597|      1|\n",
      "|NICE|20/03/2015|                SALE|625000|       6200|   NICE|             0|     HOUSE|      160.0|              5|    500.0|           3906.25|      1|\n",
      "|NICE|20/03/2015|                SALE|625000|       6200|   NICE|             0|     HOUSE|      160.0|              5|   1267.0|           3906.25|      1|\n",
      "|NICE|02/04/2015|                SALE|130000|       6200|   NICE|             1| APARTMENT|       31.0|              1|      0.0| 4193.548387096775|      1|\n",
      "|NICE|24/03/2015|                SALE|115000|       6000|   NICE|             2| APARTMENT|       50.0|              2|      0.0|            2300.0|      1|\n",
      "|NICE|03/04/2015|                SALE|172500|       6100|   NICE|             2| APARTMENT|       63.0|              4|      0.0| 2738.095238095238|      1|\n",
      "|NICE|09/04/2015|                SALE|360000|       6200|   NICE|             0|     HOUSE|      109.0|              5|    502.0|3302.7522935779816|      1|\n",
      "|NICE|07/04/2015|                SALE|249000|       6200|   NICE|             1| APARTMENT|       66.0|              3|      0.0|3772.7272727272725|      1|\n",
      "|NICE|23/03/2015|                SALE|223000|       6000|   NICE|             2| APARTMENT|       73.0|              3|      0.0| 3054.794520547945|      1|\n",
      "|NICE|24/03/2015|                SALE|108000|       6200|   NICE|             1| APARTMENT|       22.0|              1|      0.0| 4909.090909090909|      1|\n",
      "|NICE|08/04/2015|                SALE|142000|       6200|   NICE|             1| APARTMENT|       75.0|              3|      0.0|1893.3333333333333|      1|\n",
      "|NICE|07/04/2015|                SALE|283000|       6000|   NICE|             1| APARTMENT|       76.0|              3|      0.0| 3723.684210526316|      1|\n",
      "|NICE|26/03/2015|                SALE|173000|       6200|   NICE|             2| APARTMENT|       74.0|              3|      0.0| 2337.837837837838|      1|\n",
      "|NICE|17/04/2015|                SALE|660000|       6200|   NICE|             2| APARTMENT|      125.0|              5|      0.0|            5280.0|      1|\n",
      "|NICE|12/03/2015|SALE BEFORE COMPL...|126000|       6200|   NICE|             1| APARTMENT|       28.0|              1|      0.0|            4500.0|      1|\n",
      "|NICE|31/03/2015|                SALE|252030|       6000|   NICE|             2| APARTMENT|       79.0|              3|      0.0| 3190.253164556962|      1|\n",
      "|NICE|23/03/2015|                SALE|151000|       6200|   NICE|             1| APARTMENT|       34.0|              1|      0.0| 4441.176470588235|      1|\n",
      "+----+----------+--------------------+------+-----------+-------+--------------+----------+-----------+---------------+---------+------------------+-------+\n",
      "only showing top 20 rows\n",
      "\n"
     ]
    }
   ],
   "source": [
    "estate_clean_df = rdd_estate_clean.toDF(['City',\n",
    "  'Sale Date',\n",
    "  'Sale Type',\n",
    "  'Price',\n",
    "  'Postal Code',\n",
    "  'Commune',\n",
    "  'Number of lots',\n",
    "  'Local Type',\n",
    "  'Living Area',\n",
    "  'Number of rooms',\n",
    "  'Land Area', \n",
    " 'Price per M²', \n",
    " 'Cluster'])\n",
    "\n",
    "estate_clean_df.show()"
   ]
  },
  {
   "cell_type": "code",
   "execution_count": 48,
   "metadata": {
    "scrolled": true
   },
   "outputs": [
    {
     "name": "stdout",
     "output_type": "stream",
     "text": [
      "root\n",
      " |-- City: string (nullable = true)\n",
      " |-- Sale Date: string (nullable = true)\n",
      " |-- Sale Type: string (nullable = true)\n",
      " |-- Price: long (nullable = true)\n",
      " |-- Postal Code: string (nullable = true)\n",
      " |-- Commune: string (nullable = true)\n",
      " |-- Number of lots: long (nullable = true)\n",
      " |-- Local Type: string (nullable = true)\n",
      " |-- Living Area: double (nullable = true)\n",
      " |-- Number of rooms: long (nullable = true)\n",
      " |-- Land Area: double (nullable = true)\n",
      " |-- Price per M²: double (nullable = true)\n",
      " |-- Cluster: long (nullable = true)\n",
      "\n"
     ]
    }
   ],
   "source": [
    "estate_clean_df.printSchema()"
   ]
  },
  {
   "cell_type": "markdown",
   "metadata": {},
   "source": [
    "with an explicit schema"
   ]
  },
  {
   "cell_type": "code",
   "execution_count": 49,
   "metadata": {},
   "outputs": [],
   "source": [
    "# we first need to import types (e.g. StructType, StructField, IntegerType, etc.)\n",
    "from pyspark.sql.types import *"
   ]
  },
  {
   "cell_type": "code",
   "execution_count": 50,
   "metadata": {
    "scrolled": true
   },
   "outputs": [
    {
     "name": "stdout",
     "output_type": "stream",
     "text": [
      "+----+----------+--------------------+------+-----------+-------+--------------+----------+-----------+---------------+---------+------------------+-------+\n",
      "|City| Sale Date|           Sale Type| Price|Postal Code|Commune|Number of lots|Local Type|Living Area|Number of rooms|Land Area|      Price per M²|Cluster|\n",
      "+----+----------+--------------------+------+-----------+-------+--------------+----------+-----------+---------------+---------+------------------+-------+\n",
      "|NICE|26/03/2015|                SALE|102000|       6000|   NICE|             1| APARTMENT|       29.0|              2|      0.0|3517.2413793103447|      1|\n",
      "|NICE|10/04/2015|                SALE|239000|       6200|   NICE|             1| APARTMENT|       51.0|              2|      0.0| 4686.274509803921|      1|\n",
      "|NICE|23/03/2015|                SALE|410000|       6200|   NICE|             2| APARTMENT|       60.0|              3|      0.0| 6833.333333333333|      1|\n",
      "|NICE|08/04/2015|                SALE|215000|       6200|   NICE|             1| APARTMENT|       67.0|              3|      0.0| 3208.955223880597|      1|\n",
      "|NICE|20/03/2015|                SALE|625000|       6200|   NICE|             0|     HOUSE|      160.0|              5|    500.0|           3906.25|      1|\n",
      "|NICE|20/03/2015|                SALE|625000|       6200|   NICE|             0|     HOUSE|      160.0|              5|   1267.0|           3906.25|      1|\n",
      "|NICE|02/04/2015|                SALE|130000|       6200|   NICE|             1| APARTMENT|       31.0|              1|      0.0| 4193.548387096775|      1|\n",
      "|NICE|24/03/2015|                SALE|115000|       6000|   NICE|             2| APARTMENT|       50.0|              2|      0.0|            2300.0|      1|\n",
      "|NICE|03/04/2015|                SALE|172500|       6100|   NICE|             2| APARTMENT|       63.0|              4|      0.0| 2738.095238095238|      1|\n",
      "|NICE|09/04/2015|                SALE|360000|       6200|   NICE|             0|     HOUSE|      109.0|              5|    502.0|3302.7522935779816|      1|\n",
      "|NICE|07/04/2015|                SALE|249000|       6200|   NICE|             1| APARTMENT|       66.0|              3|      0.0|3772.7272727272725|      1|\n",
      "|NICE|23/03/2015|                SALE|223000|       6000|   NICE|             2| APARTMENT|       73.0|              3|      0.0| 3054.794520547945|      1|\n",
      "|NICE|24/03/2015|                SALE|108000|       6200|   NICE|             1| APARTMENT|       22.0|              1|      0.0| 4909.090909090909|      1|\n",
      "|NICE|08/04/2015|                SALE|142000|       6200|   NICE|             1| APARTMENT|       75.0|              3|      0.0|1893.3333333333333|      1|\n",
      "|NICE|07/04/2015|                SALE|283000|       6000|   NICE|             1| APARTMENT|       76.0|              3|      0.0| 3723.684210526316|      1|\n",
      "|NICE|26/03/2015|                SALE|173000|       6200|   NICE|             2| APARTMENT|       74.0|              3|      0.0| 2337.837837837838|      1|\n",
      "|NICE|17/04/2015|                SALE|660000|       6200|   NICE|             2| APARTMENT|      125.0|              5|      0.0|            5280.0|      1|\n",
      "|NICE|12/03/2015|SALE BEFORE COMPL...|126000|       6200|   NICE|             1| APARTMENT|       28.0|              1|      0.0|            4500.0|      1|\n",
      "|NICE|31/03/2015|                SALE|252030|       6000|   NICE|             2| APARTMENT|       79.0|              3|      0.0| 3190.253164556962|      1|\n",
      "|NICE|23/03/2015|                SALE|151000|       6200|   NICE|             1| APARTMENT|       34.0|              1|      0.0| 4441.176470588235|      1|\n",
      "+----+----------+--------------------+------+-----------+-------+--------------+----------+-----------+---------------+---------+------------------+-------+\n",
      "only showing top 20 rows\n",
      "\n"
     ]
    }
   ],
   "source": [
    "# schema creation\n",
    "\n",
    "estateSchema =StructType ( [StructField(\"City\", StringType(), False),\n",
    "                              StructField(\"Sale Date\", StringType(), False),\n",
    "                              StructField(\"Sale Type\", StringType(), False),\n",
    "                              StructField(\"Price\", LongType(), False),\n",
    "                              StructField(\"Postal Code\", StringType(), False),\n",
    "                              StructField(\"Commune\", StringType(), False),\n",
    "                              StructField(\"Number of lots\", LongType(), False),\n",
    "                              StructField(\"Local Type\", StringType(), False),\n",
    "                              StructField(\"Living Area\", DoubleType(), False),\n",
    "                              StructField(\"Number of rooms\", LongType(), False),\n",
    "                              StructField(\"Land Area\", DoubleType(), False),\n",
    "                              StructField(\"Price per M²\", DoubleType(), False),\n",
    "                              StructField(\"Cluster\", IntegerType(), False),\n",
    "                             ] )\n",
    "\n",
    "estate_clean_df_explicit = spark.createDataFrame(rdd_estate_clean, estateSchema)\n",
    "\n",
    "estate_clean_df_explicit.show()"
   ]
  },
  {
   "cell_type": "code",
   "execution_count": 51,
   "metadata": {},
   "outputs": [
    {
     "name": "stdout",
     "output_type": "stream",
     "text": [
      "root\n",
      " |-- City: string (nullable = false)\n",
      " |-- Sale Date: string (nullable = false)\n",
      " |-- Sale Type: string (nullable = false)\n",
      " |-- Price: long (nullable = false)\n",
      " |-- Postal Code: string (nullable = false)\n",
      " |-- Commune: string (nullable = false)\n",
      " |-- Number of lots: long (nullable = false)\n",
      " |-- Local Type: string (nullable = false)\n",
      " |-- Living Area: double (nullable = false)\n",
      " |-- Number of rooms: long (nullable = false)\n",
      " |-- Land Area: double (nullable = false)\n",
      " |-- Price per M²: double (nullable = false)\n",
      " |-- Cluster: integer (nullable = false)\n",
      "\n"
     ]
    }
   ],
   "source": [
    "estate_clean_df_explicit.printSchema()"
   ]
  },
  {
   "cell_type": "markdown",
   "metadata": {},
   "source": [
    "Spark SQL queries on DataFrames"
   ]
  },
  {
   "cell_type": "code",
   "execution_count": 52,
   "metadata": {},
   "outputs": [],
   "source": [
    "#Creating the temporary view from the DataFrame\n",
    "\n",
    "estate_clean_df_explicit.createOrReplaceTempView('estate')"
   ]
  },
  {
   "cell_type": "code",
   "execution_count": 53,
   "metadata": {
    "scrolled": false
   },
   "outputs": [
    {
     "name": "stdout",
     "output_type": "stream",
     "text": [
      "+----+----------+--------------------+------+-----------+-------+--------------+----------+-----------+---------------+---------+------------------+-------+\n",
      "|City| Sale Date|           Sale Type| Price|Postal Code|Commune|Number of lots|Local Type|Living Area|Number of rooms|Land Area|      Price per M²|Cluster|\n",
      "+----+----------+--------------------+------+-----------+-------+--------------+----------+-----------+---------------+---------+------------------+-------+\n",
      "|NICE|26/03/2015|                SALE|102000|       6000|   NICE|             1| APARTMENT|       29.0|              2|      0.0|3517.2413793103447|      1|\n",
      "|NICE|10/04/2015|                SALE|239000|       6200|   NICE|             1| APARTMENT|       51.0|              2|      0.0| 4686.274509803921|      1|\n",
      "|NICE|23/03/2015|                SALE|410000|       6200|   NICE|             2| APARTMENT|       60.0|              3|      0.0| 6833.333333333333|      1|\n",
      "|NICE|08/04/2015|                SALE|215000|       6200|   NICE|             1| APARTMENT|       67.0|              3|      0.0| 3208.955223880597|      1|\n",
      "|NICE|20/03/2015|                SALE|625000|       6200|   NICE|             0|     HOUSE|      160.0|              5|    500.0|           3906.25|      1|\n",
      "|NICE|20/03/2015|                SALE|625000|       6200|   NICE|             0|     HOUSE|      160.0|              5|   1267.0|           3906.25|      1|\n",
      "|NICE|02/04/2015|                SALE|130000|       6200|   NICE|             1| APARTMENT|       31.0|              1|      0.0| 4193.548387096775|      1|\n",
      "|NICE|24/03/2015|                SALE|115000|       6000|   NICE|             2| APARTMENT|       50.0|              2|      0.0|            2300.0|      1|\n",
      "|NICE|03/04/2015|                SALE|172500|       6100|   NICE|             2| APARTMENT|       63.0|              4|      0.0| 2738.095238095238|      1|\n",
      "|NICE|09/04/2015|                SALE|360000|       6200|   NICE|             0|     HOUSE|      109.0|              5|    502.0|3302.7522935779816|      1|\n",
      "|NICE|07/04/2015|                SALE|249000|       6200|   NICE|             1| APARTMENT|       66.0|              3|      0.0|3772.7272727272725|      1|\n",
      "|NICE|23/03/2015|                SALE|223000|       6000|   NICE|             2| APARTMENT|       73.0|              3|      0.0| 3054.794520547945|      1|\n",
      "|NICE|24/03/2015|                SALE|108000|       6200|   NICE|             1| APARTMENT|       22.0|              1|      0.0| 4909.090909090909|      1|\n",
      "|NICE|08/04/2015|                SALE|142000|       6200|   NICE|             1| APARTMENT|       75.0|              3|      0.0|1893.3333333333333|      1|\n",
      "|NICE|07/04/2015|                SALE|283000|       6000|   NICE|             1| APARTMENT|       76.0|              3|      0.0| 3723.684210526316|      1|\n",
      "|NICE|26/03/2015|                SALE|173000|       6200|   NICE|             2| APARTMENT|       74.0|              3|      0.0| 2337.837837837838|      1|\n",
      "|NICE|17/04/2015|                SALE|660000|       6200|   NICE|             2| APARTMENT|      125.0|              5|      0.0|            5280.0|      1|\n",
      "|NICE|12/03/2015|SALE BEFORE COMPL...|126000|       6200|   NICE|             1| APARTMENT|       28.0|              1|      0.0|            4500.0|      1|\n",
      "|NICE|31/03/2015|                SALE|252030|       6000|   NICE|             2| APARTMENT|       79.0|              3|      0.0| 3190.253164556962|      1|\n",
      "|NICE|23/03/2015|                SALE|151000|       6200|   NICE|             1| APARTMENT|       34.0|              1|      0.0| 4441.176470588235|      1|\n",
      "+----+----------+--------------------+------+-----------+-------+--------------+----------+-----------+---------------+---------+------------------+-------+\n",
      "only showing top 20 rows\n",
      "\n"
     ]
    }
   ],
   "source": [
    "spark.sql(\"SELECT * FROM estate\").show()"
   ]
  },
  {
   "cell_type": "code",
   "execution_count": 54,
   "metadata": {
    "scrolled": true
   },
   "outputs": [
    {
     "name": "stdout",
     "output_type": "stream",
     "text": [
      "+--------+\n",
      "|count(1)|\n",
      "+--------+\n",
      "|  428253|\n",
      "+--------+\n",
      "\n"
     ]
    }
   ],
   "source": [
    "spark.sql(\"SELECT COUNT(*) FROM estate\").show()"
   ]
  },
  {
   "cell_type": "code",
   "execution_count": 55,
   "metadata": {
    "scrolled": true
   },
   "outputs": [
    {
     "name": "stdout",
     "output_type": "stream",
     "text": [
      "+-----------+--------------------+\n",
      "|       CITY|round(avg(Price), 0)|\n",
      "+-----------+--------------------+\n",
      "|       NICE|            245600.0|\n",
      "|      LILLE|            184828.0|\n",
      "|      PARIS|            540937.0|\n",
      "|   BORDEAUX|            289528.0|\n",
      "|       LYON|            256841.0|\n",
      "|  MARSEILLE|            197480.0|\n",
      "|MONTPELLIER|            181678.0|\n",
      "|     NANTES|            211405.0|\n",
      "|   TOULOUSE|            196595.0|\n",
      "+-----------+--------------------+\n",
      "\n"
     ]
    }
   ],
   "source": [
    "spark.sql(\"SELECT CITY, round(AVG(Price)) \\\n",
    "          FROM estate \\\n",
    "          GROUP BY CITY\").show()"
   ]
  },
  {
   "cell_type": "code",
   "execution_count": 56,
   "metadata": {
    "scrolled": true
   },
   "outputs": [
    {
     "name": "stdout",
     "output_type": "stream",
     "text": [
      "+-----------+\n",
      "|       CITY|\n",
      "+-----------+\n",
      "|       NICE|\n",
      "|      LILLE|\n",
      "|      PARIS|\n",
      "|   BORDEAUX|\n",
      "|       LYON|\n",
      "|  MARSEILLE|\n",
      "|MONTPELLIER|\n",
      "|     NANTES|\n",
      "|   TOULOUSE|\n",
      "+-----------+\n",
      "\n"
     ]
    }
   ],
   "source": [
    "spark.sql(\"SELECT DISTINCT CITY FROM estate\").show()"
   ]
  },
  {
   "cell_type": "markdown",
   "metadata": {},
   "source": [
    "# # Colors"
   ]
  },
  {
   "cell_type": "code",
   "execution_count": 59,
   "metadata": {},
   "outputs": [],
   "source": [
    "colors = {0 : '#FF0000', 1 : '#E48619', 2 : '#19DAE4'}"
   ]
  },
  {
   "cell_type": "markdown",
   "metadata": {},
   "source": [
    "## Graph 1 : Price per m² per city "
   ]
  },
  {
   "cell_type": "code",
   "execution_count": 60,
   "metadata": {},
   "outputs": [
    {
     "name": "stdout",
     "output_type": "stream",
     "text": [
      "+-----------+------------+-------+\n",
      "|       CITY|PRICE PER M²|CLUSTER|\n",
      "+-----------+------------+-------+\n",
      "|      PARIS|        9982|      0|\n",
      "|   BORDEAUX|        4250|      1|\n",
      "|       NICE|        4146|      1|\n",
      "|       LYON|        3962|      1|\n",
      "|   TOULOUSE|        3220|      2|\n",
      "|      LILLE|        3196|      2|\n",
      "|     NANTES|        3191|      2|\n",
      "|MONTPELLIER|        3162|      2|\n",
      "|  MARSEILLE|        3123|      2|\n",
      "+-----------+------------+-------+\n",
      "\n"
     ]
    }
   ],
   "source": [
    "spark.sql(\"SELECT CITY, int(round(AVG(`Price per M²`))) \\\n",
    "          AS `PRICE PER M²`, CLUSTER \\\n",
    "          FROM estate \\\n",
    "          GROUP BY CITY, CLUSTER \\\n",
    "          ORDER BY `PRICE PER M²` DESC\").show()"
   ]
  },
  {
   "cell_type": "code",
   "execution_count": 61,
   "metadata": {},
   "outputs": [
    {
     "data": {
      "text/plain": [
       "pyspark.sql.dataframe.DataFrame"
      ]
     },
     "execution_count": 61,
     "metadata": {},
     "output_type": "execute_result"
    }
   ],
   "source": [
    "type(spark.sql(\"SELECT CITY, int(AVG(`Price per M²`)) \\\n",
    "          AS `PRICE PER M²`, CLUSTER \\\n",
    "          FROM estate \\\n",
    "          GROUP BY CITY, CLUSTER \\\n",
    "          ORDER BY `PRICE PER M²` DESC\"))"
   ]
  },
  {
   "cell_type": "code",
   "execution_count": 62,
   "metadata": {},
   "outputs": [],
   "source": [
    "df_1 = spark.sql(\"SELECT CITY, int(round(AVG(`Price per M²`))) \\\n",
    "          AS `PRICE PER M²`, CLUSTER \\\n",
    "          FROM estate \\\n",
    "          GROUP BY CITY, CLUSTER \\\n",
    "          ORDER BY `PRICE PER M²` DESC\").toPandas()"
   ]
  },
  {
   "cell_type": "code",
   "execution_count": 63,
   "metadata": {
    "scrolled": true
   },
   "outputs": [
    {
     "data": {
      "text/plain": [
       "0    0\n",
       "1    1\n",
       "2    1\n",
       "3    1\n",
       "4    2\n",
       "5    2\n",
       "6    2\n",
       "7    2\n",
       "8    2\n",
       "Name: CLUSTER, dtype: int32"
      ]
     },
     "execution_count": 63,
     "metadata": {},
     "output_type": "execute_result"
    }
   ],
   "source": [
    "df_1[\"CLUSTER\"]"
   ]
  },
  {
   "cell_type": "code",
   "execution_count": 64,
   "metadata": {},
   "outputs": [],
   "source": [
    "#colors = tuple(np.where(df_1[\"PRICE PER M²\"]>5000, 'r', \n",
    "#         (np.where(df_1[\"PRICE PER M²\"]>3500, '#E48619', '#19DAE4'))))"
   ]
  },
  {
   "cell_type": "code",
   "execution_count": 65,
   "metadata": {
    "scrolled": false
   },
   "outputs": [
    {
     "data": {
      "image/png": "[encoded data removed]",
      "text/plain": [
       "<Figure size 432x288 with 1 Axes>"
      ]
     },
     "metadata": {
      "needs_background": "light"
     },
     "output_type": "display_data"
    }
   ],
   "source": [
    "barplot = df_1.plot.bar(x='CITY', y='PRICE PER M²', color=df_1[\"CLUSTER\"].map(colors))\n",
    "\n",
    "barplot.set_ylabel(\"Average price per m² (€)\")\n",
    "\n",
    "for p in barplot.patches:\n",
    "    barplot.annotate(str(p.get_height()), (p.get_x() * 1.005, p.get_height() * 1.005))"
   ]
  },
  {
   "cell_type": "markdown",
   "metadata": {},
   "source": [
    "## Graph 2 : Price per m² per city (MAP)"
   ]
  },
  {
   "cell_type": "code",
   "execution_count": 67,
   "metadata": {},
   "outputs": [
    {
     "name": "stdout",
     "output_type": "stream",
     "text": [
      "Collecting folium\n",
      "  Downloading folium-0.11.0-py2.py3-none-any.whl (93 kB)\n",
      "\u001b[K     |████████████████████████████████| 93 kB 344 kB/s eta 0:00:01\n",
      "\u001b[?25hRequirement already satisfied: jinja2>=2.9 in /opt/conda/lib/python3.8/site-packages (from folium) (2.11.2)\n",
      "Collecting branca>=0.3.0\n",
      "  Downloading branca-0.4.1-py3-none-any.whl (24 kB)\n",
      "Requirement already satisfied: numpy in /opt/conda/lib/python3.8/site-packages (from folium) (1.19.2)\n",
      "Requirement already satisfied: requests in /opt/conda/lib/python3.8/site-packages (from folium) (2.24.0)\n",
      "Requirement already satisfied: MarkupSafe>=0.23 in /opt/conda/lib/python3.8/site-packages (from jinja2>=2.9->folium) (1.1.1)\n",
      "Requirement already satisfied: urllib3!=1.25.0,!=1.25.1,<1.26,>=1.21.1 in /opt/conda/lib/python3.8/site-packages (from requests->folium) (1.25.11)\n",
      "Requirement already satisfied: chardet<4,>=3.0.2 in /opt/conda/lib/python3.8/site-packages (from requests->folium) (3.0.4)\n",
      "Requirement already satisfied: certifi>=2017.4.17 in /opt/conda/lib/python3.8/site-packages (from requests->folium) (2020.6.20)\n",
      "Requirement already satisfied: idna<3,>=2.5 in /opt/conda/lib/python3.8/site-packages (from requests->folium) (2.10)\n",
      "Installing collected packages: branca, folium\n",
      "Successfully installed branca-0.4.1 folium-0.11.0\n",
      "Note: you may need to restart the kernel to use updated packages.\n"
     ]
    }
   ],
   "source": [
    "pip install folium"
   ]
  },
  {
   "cell_type": "code",
   "execution_count": 74,
   "metadata": {},
   "outputs": [
    {
     "data": {
      "text/html": [
       "<div style=\"width:100%;\"><div style=\"position:relative;width:100%;height:0;padding-bottom:60%;\"><span style=\"color:#565656\">Make this Notebook Trusted to load map: File -> Trust Notebook</span><iframe src=\"about:blank\" style=\"position:absolute;width:100%;height:100%;left:0;top:0;border:none !important;\" data-html=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 onload=\"this.contentDocument.open();this.contentDocument.write(atob(this.getAttribute('data-html')));this.contentDocument.close();\" allowfullscreen webkitallowfullscreen mozallowfullscreen></iframe></div></div>"
      ],
      "text/plain": [
       "<folium.folium.Map at 0x7f8190fb5c70>"
      ]
     },
     "execution_count": 74,
     "metadata": {},
     "output_type": "execute_result"
    }
   ],
   "source": [
    "df_1['lon'] = [48.85,44.83,43.70,45.75,43.60,50.63,47.21,43.6,43.3]\n",
    "df_1['lat'] = [2.3488,-0.56,7.26,4.85, 1.44,3.06,-1.55, 3.88,5.4]\n",
    "df_1\n",
    "\n",
    "\n",
    "# import the library\n",
    "import folium\n",
    "import pandas as pd\n",
    " \n",
    "\n",
    "data = df_1\n",
    "data['value'] = data['PRICE PER M²']\n",
    "data['value']=data.value.astype(float)\n",
    "data['name']  = data['CITY']\n",
    "# Make an empty map\n",
    "m = folium.Map(location=[50,2], tiles='OpenStreetMap', zoom_start=5)\n",
    " \n",
    "# I can add marker one by one on the map\n",
    "for i in range(0,len(data)):\n",
    "       folium.Circle(\n",
    "          location=[data.iloc[i]['lon'], data.iloc[i]['lat']],\n",
    "          popup= data['name'][i] + ': '+ str(data['value'][i])+'euros le m2',\n",
    "          radius=data.iloc[i]['value']*10,\n",
    "          color= df_1['CLUSTER'].map(colors)[i],\n",
    "          fill=True,\n",
    "          fill_color=df_1['CLUSTER'].map(colors)[i]).add_to(m)\n",
    "m\n",
    "\n"
   ]
  },
  {
   "cell_type": "markdown",
   "metadata": {},
   "source": [
    "## Graph 3 : Price per m² per commune"
   ]
  },
  {
   "cell_type": "code",
   "execution_count": 743,
   "metadata": {},
   "outputs": [
    {
     "name": "stdout",
     "output_type": "stream",
     "text": [
      "root\n",
      " |-- City: string (nullable = false)\n",
      " |-- Sale Date: string (nullable = false)\n",
      " |-- Sale Type: string (nullable = false)\n",
      " |-- Price: long (nullable = false)\n",
      " |-- Postal Code: string (nullable = false)\n",
      " |-- Commune: string (nullable = false)\n",
      " |-- Number of lots: long (nullable = false)\n",
      " |-- Local Type: string (nullable = false)\n",
      " |-- Living Area: double (nullable = false)\n",
      " |-- Number of rooms: long (nullable = false)\n",
      " |-- Land Area: double (nullable = false)\n",
      " |-- Price per M²: double (nullable = false)\n",
      " |-- Cluster: integer (nullable = false)\n",
      "\n"
     ]
    }
   ],
   "source": [
    "estate_clean_df_explicit.printSchema()"
   ]
  },
  {
   "cell_type": "code",
   "execution_count": 744,
   "metadata": {
    "scrolled": true
   },
   "outputs": [
    {
     "name": "stdout",
     "output_type": "stream",
     "text": [
      "+-----+--------+------------+-------+\n",
      "| CITY| COMMUNE|PRICE PER M²|CLUSTER|\n",
      "+-----+--------+------------+-------+\n",
      "|PARIS|PARIS 06|       13923|      0|\n",
      "|PARIS|PARIS 07|       13485|      0|\n",
      "|PARIS|PARIS 04|       12806|      0|\n",
      "|PARIS|PARIS 01|       12647|      0|\n",
      "|PARIS|PARIS 05|       11919|      0|\n",
      "|PARIS|PARIS 08|       11566|      0|\n",
      "|PARIS|PARIS 03|       11556|      0|\n",
      "|PARIS|PARIS 02|       10712|      0|\n",
      "|PARIS|PARIS 16|       10521|      0|\n",
      "|PARIS|PARIS 09|       10400|      0|\n",
      "|PARIS|PARIS 14|       10055|      0|\n",
      "|PARIS|PARIS 17|        9911|      0|\n",
      "|PARIS|PARIS 10|        9793|      0|\n",
      "|PARIS|PARIS 11|        9580|      0|\n",
      "|PARIS|PARIS 15|        9483|      0|\n",
      "|PARIS|PARIS 18|        9058|      0|\n",
      "|PARIS|PARIS 12|        8880|      0|\n",
      "|PARIS|PARIS 13|        8796|      0|\n",
      "|PARIS|PARIS 20|        8693|      0|\n",
      "|PARIS|PARIS 19|        8609|      0|\n",
      "+-----+--------+------------+-------+\n",
      "only showing top 20 rows\n",
      "\n"
     ]
    }
   ],
   "source": [
    "spark.sql(\"SELECT CITY, COMMUNE, int(round(AVG(`Price per M²`))) \\\n",
    "          AS `PRICE PER M²`, CLUSTER \\\n",
    "          FROM estate \\\n",
    "          GROUP BY CITY, COMMUNE, CLUSTER \\\n",
    "          ORDER BY `PRICE PER M²` DESC\").show()"
   ]
  },
  {
   "cell_type": "code",
   "execution_count": 76,
   "metadata": {},
   "outputs": [
    {
     "data": {
      "text/html": [
       "<div>\n",
       "<style scoped>\n",
       "    .dataframe tbody tr th:only-of-type {\n",
       "        vertical-align: middle;\n",
       "    }\n",
       "\n",
       "    .dataframe tbody tr th {\n",
       "        vertical-align: top;\n",
       "    }\n",
       "\n",
       "    .dataframe thead th {\n",
       "        text-align: right;\n",
       "    }\n",
       "</style>\n",
       "<table border=\"1\" class=\"dataframe\">\n",
       "  <thead>\n",
       "    <tr style=\"text-align: right;\">\n",
       "      <th></th>\n",
       "      <th>CITY</th>\n",
       "      <th>COMMUNE</th>\n",
       "      <th>PRICE PER M²</th>\n",
       "      <th>CLUSTER</th>\n",
       "    </tr>\n",
       "  </thead>\n",
       "  <tbody>\n",
       "    <tr>\n",
       "      <th>0</th>\n",
       "      <td>PARIS</td>\n",
       "      <td>PARIS 06</td>\n",
       "      <td>13923</td>\n",
       "      <td>0</td>\n",
       "    </tr>\n",
       "    <tr>\n",
       "      <th>1</th>\n",
       "      <td>PARIS</td>\n",
       "      <td>PARIS 07</td>\n",
       "      <td>13485</td>\n",
       "      <td>0</td>\n",
       "    </tr>\n",
       "    <tr>\n",
       "      <th>2</th>\n",
       "      <td>PARIS</td>\n",
       "      <td>PARIS 04</td>\n",
       "      <td>12806</td>\n",
       "      <td>0</td>\n",
       "    </tr>\n",
       "    <tr>\n",
       "      <th>3</th>\n",
       "      <td>PARIS</td>\n",
       "      <td>PARIS 01</td>\n",
       "      <td>12647</td>\n",
       "      <td>0</td>\n",
       "    </tr>\n",
       "    <tr>\n",
       "      <th>4</th>\n",
       "      <td>PARIS</td>\n",
       "      <td>PARIS 05</td>\n",
       "      <td>11919</td>\n",
       "      <td>0</td>\n",
       "    </tr>\n",
       "    <tr>\n",
       "      <th>5</th>\n",
       "      <td>PARIS</td>\n",
       "      <td>PARIS 08</td>\n",
       "      <td>11566</td>\n",
       "      <td>0</td>\n",
       "    </tr>\n",
       "    <tr>\n",
       "      <th>6</th>\n",
       "      <td>PARIS</td>\n",
       "      <td>PARIS 03</td>\n",
       "      <td>11556</td>\n",
       "      <td>0</td>\n",
       "    </tr>\n",
       "    <tr>\n",
       "      <th>7</th>\n",
       "      <td>PARIS</td>\n",
       "      <td>PARIS 02</td>\n",
       "      <td>10712</td>\n",
       "      <td>0</td>\n",
       "    </tr>\n",
       "    <tr>\n",
       "      <th>8</th>\n",
       "      <td>PARIS</td>\n",
       "      <td>PARIS 16</td>\n",
       "      <td>10521</td>\n",
       "      <td>0</td>\n",
       "    </tr>\n",
       "    <tr>\n",
       "      <th>9</th>\n",
       "      <td>PARIS</td>\n",
       "      <td>PARIS 09</td>\n",
       "      <td>10400</td>\n",
       "      <td>0</td>\n",
       "    </tr>\n",
       "    <tr>\n",
       "      <th>10</th>\n",
       "      <td>PARIS</td>\n",
       "      <td>PARIS 14</td>\n",
       "      <td>10055</td>\n",
       "      <td>0</td>\n",
       "    </tr>\n",
       "    <tr>\n",
       "      <th>11</th>\n",
       "      <td>PARIS</td>\n",
       "      <td>PARIS 17</td>\n",
       "      <td>9911</td>\n",
       "      <td>0</td>\n",
       "    </tr>\n",
       "    <tr>\n",
       "      <th>12</th>\n",
       "      <td>PARIS</td>\n",
       "      <td>PARIS 10</td>\n",
       "      <td>9793</td>\n",
       "      <td>0</td>\n",
       "    </tr>\n",
       "    <tr>\n",
       "      <th>13</th>\n",
       "      <td>PARIS</td>\n",
       "      <td>PARIS 11</td>\n",
       "      <td>9580</td>\n",
       "      <td>0</td>\n",
       "    </tr>\n",
       "    <tr>\n",
       "      <th>14</th>\n",
       "      <td>PARIS</td>\n",
       "      <td>PARIS 15</td>\n",
       "      <td>9483</td>\n",
       "      <td>0</td>\n",
       "    </tr>\n",
       "    <tr>\n",
       "      <th>15</th>\n",
       "      <td>PARIS</td>\n",
       "      <td>PARIS 18</td>\n",
       "      <td>9058</td>\n",
       "      <td>0</td>\n",
       "    </tr>\n",
       "    <tr>\n",
       "      <th>16</th>\n",
       "      <td>PARIS</td>\n",
       "      <td>PARIS 12</td>\n",
       "      <td>8880</td>\n",
       "      <td>0</td>\n",
       "    </tr>\n",
       "    <tr>\n",
       "      <th>17</th>\n",
       "      <td>PARIS</td>\n",
       "      <td>PARIS 13</td>\n",
       "      <td>8796</td>\n",
       "      <td>0</td>\n",
       "    </tr>\n",
       "    <tr>\n",
       "      <th>18</th>\n",
       "      <td>PARIS</td>\n",
       "      <td>PARIS 20</td>\n",
       "      <td>8693</td>\n",
       "      <td>0</td>\n",
       "    </tr>\n",
       "    <tr>\n",
       "      <th>19</th>\n",
       "      <td>PARIS</td>\n",
       "      <td>PARIS 19</td>\n",
       "      <td>8609</td>\n",
       "      <td>0</td>\n",
       "    </tr>\n",
       "    <tr>\n",
       "      <th>20</th>\n",
       "      <td>LYON</td>\n",
       "      <td>LYON 2EME</td>\n",
       "      <td>4671</td>\n",
       "      <td>1</td>\n",
       "    </tr>\n",
       "    <tr>\n",
       "      <th>21</th>\n",
       "      <td>LYON</td>\n",
       "      <td>LYON 6EME</td>\n",
       "      <td>4587</td>\n",
       "      <td>1</td>\n",
       "    </tr>\n",
       "    <tr>\n",
       "      <th>22</th>\n",
       "      <td>LYON</td>\n",
       "      <td>LYON 1ER</td>\n",
       "      <td>4464</td>\n",
       "      <td>1</td>\n",
       "    </tr>\n",
       "    <tr>\n",
       "      <th>23</th>\n",
       "      <td>LYON</td>\n",
       "      <td>LYON 4EME</td>\n",
       "      <td>4359</td>\n",
       "      <td>1</td>\n",
       "    </tr>\n",
       "    <tr>\n",
       "      <th>24</th>\n",
       "      <td>BORDEAUX</td>\n",
       "      <td>BORDEAUX</td>\n",
       "      <td>4250</td>\n",
       "      <td>1</td>\n",
       "    </tr>\n",
       "    <tr>\n",
       "      <th>25</th>\n",
       "      <td>NICE</td>\n",
       "      <td>NICE</td>\n",
       "      <td>4146</td>\n",
       "      <td>1</td>\n",
       "    </tr>\n",
       "    <tr>\n",
       "      <th>26</th>\n",
       "      <td>MARSEILLE</td>\n",
       "      <td>MARSEILLE 7EME</td>\n",
       "      <td>3977</td>\n",
       "      <td>2</td>\n",
       "    </tr>\n",
       "    <tr>\n",
       "      <th>27</th>\n",
       "      <td>LYON</td>\n",
       "      <td>LYON 7EME</td>\n",
       "      <td>3921</td>\n",
       "      <td>1</td>\n",
       "    </tr>\n",
       "    <tr>\n",
       "      <th>28</th>\n",
       "      <td>LYON</td>\n",
       "      <td>LYON 3EME</td>\n",
       "      <td>3877</td>\n",
       "      <td>1</td>\n",
       "    </tr>\n",
       "    <tr>\n",
       "      <th>29</th>\n",
       "      <td>MARSEILLE</td>\n",
       "      <td>MARSEILLE 8EME</td>\n",
       "      <td>3748</td>\n",
       "      <td>2</td>\n",
       "    </tr>\n",
       "    <tr>\n",
       "      <th>30</th>\n",
       "      <td>LYON</td>\n",
       "      <td>LYON 8EME</td>\n",
       "      <td>3641</td>\n",
       "      <td>1</td>\n",
       "    </tr>\n",
       "    <tr>\n",
       "      <th>31</th>\n",
       "      <td>LYON</td>\n",
       "      <td>LYON 5EME</td>\n",
       "      <td>3538</td>\n",
       "      <td>1</td>\n",
       "    </tr>\n",
       "    <tr>\n",
       "      <th>32</th>\n",
       "      <td>LYON</td>\n",
       "      <td>LYON 9EME</td>\n",
       "      <td>3516</td>\n",
       "      <td>1</td>\n",
       "    </tr>\n",
       "    <tr>\n",
       "      <th>33</th>\n",
       "      <td>MARSEILLE</td>\n",
       "      <td>MARSEILLE 12EME</td>\n",
       "      <td>3451</td>\n",
       "      <td>2</td>\n",
       "    </tr>\n",
       "    <tr>\n",
       "      <th>34</th>\n",
       "      <td>MARSEILLE</td>\n",
       "      <td>MARSEILLE 16EME</td>\n",
       "      <td>3386</td>\n",
       "      <td>2</td>\n",
       "    </tr>\n",
       "    <tr>\n",
       "      <th>35</th>\n",
       "      <td>MARSEILLE</td>\n",
       "      <td>MARSEILLE 11EME</td>\n",
       "      <td>3321</td>\n",
       "      <td>2</td>\n",
       "    </tr>\n",
       "    <tr>\n",
       "      <th>36</th>\n",
       "      <td>MARSEILLE</td>\n",
       "      <td>MARSEILLE 6EME</td>\n",
       "      <td>3296</td>\n",
       "      <td>2</td>\n",
       "    </tr>\n",
       "    <tr>\n",
       "      <th>37</th>\n",
       "      <td>TOULOUSE</td>\n",
       "      <td>TOULOUSE</td>\n",
       "      <td>3220</td>\n",
       "      <td>2</td>\n",
       "    </tr>\n",
       "    <tr>\n",
       "      <th>38</th>\n",
       "      <td>LILLE</td>\n",
       "      <td>LILLE</td>\n",
       "      <td>3196</td>\n",
       "      <td>2</td>\n",
       "    </tr>\n",
       "    <tr>\n",
       "      <th>39</th>\n",
       "      <td>NANTES</td>\n",
       "      <td>NANTES</td>\n",
       "      <td>3191</td>\n",
       "      <td>2</td>\n",
       "    </tr>\n",
       "    <tr>\n",
       "      <th>40</th>\n",
       "      <td>MONTPELLIER</td>\n",
       "      <td>MONTPELLIER</td>\n",
       "      <td>3162</td>\n",
       "      <td>2</td>\n",
       "    </tr>\n",
       "    <tr>\n",
       "      <th>41</th>\n",
       "      <td>MARSEILLE</td>\n",
       "      <td>MARSEILLE 9EME</td>\n",
       "      <td>3155</td>\n",
       "      <td>2</td>\n",
       "    </tr>\n",
       "    <tr>\n",
       "      <th>42</th>\n",
       "      <td>MARSEILLE</td>\n",
       "      <td>MARSEILLE 1ER</td>\n",
       "      <td>3151</td>\n",
       "      <td>2</td>\n",
       "    </tr>\n",
       "    <tr>\n",
       "      <th>43</th>\n",
       "      <td>MARSEILLE</td>\n",
       "      <td>MARSEILLE 2EME</td>\n",
       "      <td>3095</td>\n",
       "      <td>2</td>\n",
       "    </tr>\n",
       "    <tr>\n",
       "      <th>44</th>\n",
       "      <td>MARSEILLE</td>\n",
       "      <td>MARSEILLE 5EME</td>\n",
       "      <td>2957</td>\n",
       "      <td>2</td>\n",
       "    </tr>\n",
       "    <tr>\n",
       "      <th>45</th>\n",
       "      <td>MARSEILLE</td>\n",
       "      <td>MARSEILLE 13EME</td>\n",
       "      <td>2908</td>\n",
       "      <td>2</td>\n",
       "    </tr>\n",
       "    <tr>\n",
       "      <th>46</th>\n",
       "      <td>MARSEILLE</td>\n",
       "      <td>MARSEILLE 10EME</td>\n",
       "      <td>2786</td>\n",
       "      <td>2</td>\n",
       "    </tr>\n",
       "    <tr>\n",
       "      <th>47</th>\n",
       "      <td>MARSEILLE</td>\n",
       "      <td>MARSEILLE 4EME</td>\n",
       "      <td>2721</td>\n",
       "      <td>2</td>\n",
       "    </tr>\n",
       "    <tr>\n",
       "      <th>48</th>\n",
       "      <td>MARSEILLE</td>\n",
       "      <td>MARSEILLE 15EME</td>\n",
       "      <td>2636</td>\n",
       "      <td>2</td>\n",
       "    </tr>\n",
       "    <tr>\n",
       "      <th>49</th>\n",
       "      <td>MARSEILLE</td>\n",
       "      <td>MARSEILLE 3EME</td>\n",
       "      <td>2620</td>\n",
       "      <td>2</td>\n",
       "    </tr>\n",
       "    <tr>\n",
       "      <th>50</th>\n",
       "      <td>MARSEILLE</td>\n",
       "      <td>MARSEILLE 14EME</td>\n",
       "      <td>2269</td>\n",
       "      <td>2</td>\n",
       "    </tr>\n",
       "  </tbody>\n",
       "</table>\n",
       "</div>"
      ],
      "text/plain": [
       "           CITY          COMMUNE  PRICE PER M²  CLUSTER\n",
       "0         PARIS         PARIS 06         13923        0\n",
       "1         PARIS         PARIS 07         13485        0\n",
       "2         PARIS         PARIS 04         12806        0\n",
       "3         PARIS         PARIS 01         12647        0\n",
       "4         PARIS         PARIS 05         11919        0\n",
       "5         PARIS         PARIS 08         11566        0\n",
       "6         PARIS         PARIS 03         11556        0\n",
       "7         PARIS         PARIS 02         10712        0\n",
       "8         PARIS         PARIS 16         10521        0\n",
       "9         PARIS         PARIS 09         10400        0\n",
       "10        PARIS         PARIS 14         10055        0\n",
       "11        PARIS         PARIS 17          9911        0\n",
       "12        PARIS         PARIS 10          9793        0\n",
       "13        PARIS         PARIS 11          9580        0\n",
       "14        PARIS         PARIS 15          9483        0\n",
       "15        PARIS         PARIS 18          9058        0\n",
       "16        PARIS         PARIS 12          8880        0\n",
       "17        PARIS         PARIS 13          8796        0\n",
       "18        PARIS         PARIS 20          8693        0\n",
       "19        PARIS         PARIS 19          8609        0\n",
       "20         LYON        LYON 2EME          4671        1\n",
       "21         LYON        LYON 6EME          4587        1\n",
       "22         LYON         LYON 1ER          4464        1\n",
       "23         LYON        LYON 4EME          4359        1\n",
       "24     BORDEAUX         BORDEAUX          4250        1\n",
       "25         NICE             NICE          4146        1\n",
       "26    MARSEILLE   MARSEILLE 7EME          3977        2\n",
       "27         LYON        LYON 7EME          3921        1\n",
       "28         LYON        LYON 3EME          3877        1\n",
       "29    MARSEILLE   MARSEILLE 8EME          3748        2\n",
       "30         LYON        LYON 8EME          3641        1\n",
       "31         LYON        LYON 5EME          3538        1\n",
       "32         LYON        LYON 9EME          3516        1\n",
       "33    MARSEILLE  MARSEILLE 12EME          3451        2\n",
       "34    MARSEILLE  MARSEILLE 16EME          3386        2\n",
       "35    MARSEILLE  MARSEILLE 11EME          3321        2\n",
       "36    MARSEILLE   MARSEILLE 6EME          3296        2\n",
       "37     TOULOUSE         TOULOUSE          3220        2\n",
       "38        LILLE            LILLE          3196        2\n",
       "39       NANTES           NANTES          3191        2\n",
       "40  MONTPELLIER      MONTPELLIER          3162        2\n",
       "41    MARSEILLE   MARSEILLE 9EME          3155        2\n",
       "42    MARSEILLE    MARSEILLE 1ER          3151        2\n",
       "43    MARSEILLE   MARSEILLE 2EME          3095        2\n",
       "44    MARSEILLE   MARSEILLE 5EME          2957        2\n",
       "45    MARSEILLE  MARSEILLE 13EME          2908        2\n",
       "46    MARSEILLE  MARSEILLE 10EME          2786        2\n",
       "47    MARSEILLE   MARSEILLE 4EME          2721        2\n",
       "48    MARSEILLE  MARSEILLE 15EME          2636        2\n",
       "49    MARSEILLE   MARSEILLE 3EME          2620        2\n",
       "50    MARSEILLE  MARSEILLE 14EME          2269        2"
      ]
     },
     "execution_count": 76,
     "metadata": {},
     "output_type": "execute_result"
    }
   ],
   "source": [
    "df_3 = spark.sql(\"SELECT CITY, COMMUNE, int(round(AVG(`Price per M²`))) \\\n",
    "          AS `PRICE PER M²`, CLUSTER \\\n",
    "          FROM estate \\\n",
    "          GROUP BY CITY, COMMUNE, CLUSTER \\\n",
    "          ORDER BY `PRICE PER M²` DESC\").toPandas()\n",
    "df_3"
   ]
  },
  {
   "cell_type": "code",
   "execution_count": 99,
   "metadata": {},
   "outputs": [
    {
     "data": {
      "text/plain": [
       "Text(0, 0.5, 'Average price per m² (€)')"
      ]
     },
     "execution_count": 99,
     "metadata": {},
     "output_type": "execute_result"
    },
    {
     "data": {
      "image/png": "[encoded data removed]",
      "text/plain": [
       "<Figure size 720x432 with 1 Axes>"
      ]
     },
     "metadata": {
      "needs_background": "light"
     },
     "output_type": "display_data"
    }
   ],
   "source": [
    "barplot_3 = df_3.plot.bar(x='COMMUNE', y='PRICE PER M²',\n",
    "                         color = df_3[\"CLUSTER\"].map(colors))\n",
    "plt.rcParams['figure.figsize'] = (10,8)\n",
    "\n",
    "barplot_3.set_ylabel(\"Average price per m² (€)\")\n",
    "\n",
    "#for p in barplot.patches:\n",
    "#    barplot.annotate(str(p.get_height()), (p.get_x() * 1.005, p.get_height() * 1.005))"
   ]
  },
  {
   "cell_type": "markdown",
   "metadata": {},
   "source": [
    "## Graph 4 - Transaction volume of the agency over 5 years by cluster and city"
   ]
  },
  {
   "cell_type": "code",
   "execution_count": 747,
   "metadata": {
    "scrolled": false
   },
   "outputs": [
    {
     "name": "stdout",
     "output_type": "stream",
     "text": [
      "+-----------+----------------------+-------+\n",
      "|       CITY|NUMBER OF TRANSACTIONS|CLUSTER|\n",
      "+-----------+----------------------+-------+\n",
      "|      PARIS|                153024|      0|\n",
      "|  MARSEILLE|                 61404|      2|\n",
      "|   TOULOUSE|                 45683|      2|\n",
      "|       NICE|                 35409|      1|\n",
      "|       LYON|                 32839|      1|\n",
      "|     NANTES|                 29106|      2|\n",
      "|   BORDEAUX|                 26852|      1|\n",
      "|MONTPELLIER|                 22821|      2|\n",
      "|      LILLE|                 21115|      2|\n",
      "+-----------+----------------------+-------+\n",
      "\n"
     ]
    }
   ],
   "source": [
    "spark.sql(\"SELECT CITY, count(*) \\\n",
    "          AS `NUMBER OF TRANSACTIONS`, CLUSTER \\\n",
    "          FROM estate \\\n",
    "          GROUP BY CITY, CLUSTER \\\n",
    "          ORDER BY `NUMBER OF TRANSACTIONS` DESC\").show()"
   ]
  },
  {
   "cell_type": "code",
   "execution_count": 42,
   "metadata": {},
   "outputs": [
    {
     "data": {
      "text/html": [
       "<div>\n",
       "<style scoped>\n",
       "    .dataframe tbody tr th:only-of-type {\n",
       "        vertical-align: middle;\n",
       "    }\n",
       "\n",
       "    .dataframe tbody tr th {\n",
       "        vertical-align: top;\n",
       "    }\n",
       "\n",
       "    .dataframe thead th {\n",
       "        text-align: right;\n",
       "    }\n",
       "</style>\n",
       "<table border=\"1\" class=\"dataframe\">\n",
       "  <thead>\n",
       "    <tr style=\"text-align: right;\">\n",
       "      <th></th>\n",
       "      <th>CITY</th>\n",
       "      <th>NUMBER OF TRANSACTIONS</th>\n",
       "      <th>CLUSTER</th>\n",
       "    </tr>\n",
       "  </thead>\n",
       "  <tbody>\n",
       "    <tr>\n",
       "      <th>0</th>\n",
       "      <td>PARIS</td>\n",
       "      <td>153024</td>\n",
       "      <td>0</td>\n",
       "    </tr>\n",
       "    <tr>\n",
       "      <th>1</th>\n",
       "      <td>MARSEILLE</td>\n",
       "      <td>61404</td>\n",
       "      <td>2</td>\n",
       "    </tr>\n",
       "    <tr>\n",
       "      <th>2</th>\n",
       "      <td>TOULOUSE</td>\n",
       "      <td>45683</td>\n",
       "      <td>2</td>\n",
       "    </tr>\n",
       "    <tr>\n",
       "      <th>3</th>\n",
       "      <td>NICE</td>\n",
       "      <td>35409</td>\n",
       "      <td>1</td>\n",
       "    </tr>\n",
       "    <tr>\n",
       "      <th>4</th>\n",
       "      <td>LYON</td>\n",
       "      <td>32839</td>\n",
       "      <td>1</td>\n",
       "    </tr>\n",
       "    <tr>\n",
       "      <th>5</th>\n",
       "      <td>NANTES</td>\n",
       "      <td>29106</td>\n",
       "      <td>2</td>\n",
       "    </tr>\n",
       "    <tr>\n",
       "      <th>6</th>\n",
       "      <td>BORDEAUX</td>\n",
       "      <td>26852</td>\n",
       "      <td>1</td>\n",
       "    </tr>\n",
       "    <tr>\n",
       "      <th>7</th>\n",
       "      <td>MONTPELLIER</td>\n",
       "      <td>22821</td>\n",
       "      <td>2</td>\n",
       "    </tr>\n",
       "    <tr>\n",
       "      <th>8</th>\n",
       "      <td>LILLE</td>\n",
       "      <td>21115</td>\n",
       "      <td>2</td>\n",
       "    </tr>\n",
       "  </tbody>\n",
       "</table>\n",
       "</div>"
      ],
      "text/plain": [
       "          CITY  NUMBER OF TRANSACTIONS  CLUSTER\n",
       "0        PARIS                  153024        0\n",
       "1    MARSEILLE                   61404        2\n",
       "2     TOULOUSE                   45683        2\n",
       "3         NICE                   35409        1\n",
       "4         LYON                   32839        1\n",
       "5       NANTES                   29106        2\n",
       "6     BORDEAUX                   26852        1\n",
       "7  MONTPELLIER                   22821        2\n",
       "8        LILLE                   21115        2"
      ]
     },
     "execution_count": 42,
     "metadata": {},
     "output_type": "execute_result"
    }
   ],
   "source": [
    "df_4 = spark.sql(\"SELECT CITY, count(*) \\\n",
    "          AS `NUMBER OF TRANSACTIONS`, CLUSTER \\\n",
    "          FROM estate \\\n",
    "          GROUP BY CITY, CLUSTER \\\n",
    "          ORDER BY `NUMBER OF TRANSACTIONS` DESC\").toPandas()\n",
    "\n",
    "df_4"
   ]
  },
  {
   "cell_type": "code",
   "execution_count": 43,
   "metadata": {
    "scrolled": true
   },
   "outputs": [
    {
     "data": {
      "image/png": "[encoded data removed]",
      "text/plain": [
       "<Figure size 432x288 with 1 Axes>"
      ]
     },
     "metadata": {
      "needs_background": "light"
     },
     "output_type": "display_data"
    }
   ],
   "source": [
    "barplot_4 = df_4.plot.bar(x='CITY', y='NUMBER OF TRANSACTIONS', color=df_4[\"CLUSTER\"].map(colors))\n",
    "\n",
    "barplot_4.set_ylabel(\"Number of transactions\")\n",
    "\n",
    "for p in barplot_4.patches:\n",
    "    barplot_4.annotate(str(p.get_height()), (p.get_x() * 1.005, p.get_height() * 1.005))"
   ]
  },
  {
   "cell_type": "code",
   "execution_count": 44,
   "metadata": {},
   "outputs": [
    {
     "data": {
      "image/png": "[encoded data removed]",
      "text/plain": [
       "<Figure size 432x288 with 1 Axes>"
      ]
     },
     "metadata": {
      "needs_background": "light"
     },
     "output_type": "display_data"
    }
   ],
   "source": [
    "df_4_bis = df_4.groupby(['CLUSTER'])['NUMBER OF TRANSACTIONS'].sum()\n",
    "\n",
    "df_4_bis_bis = pd.DataFrame({'CLUSTER':df_4_bis.index, 'NUMBER OF TRANSACTIONS':df_4_bis.values})\n",
    "\n",
    "#df_4_bis\n",
    "barplot_4_bis_bis = df_4_bis_bis.plot.bar(x='CLUSTER', y='NUMBER OF TRANSACTIONS', color=df_4_bis_bis[\"CLUSTER\"].map(colors))\n",
    "barplot_4_bis_bis\n",
    "\n",
    "for p in barplot_4_bis_bis.patches:\n",
    "    barplot_4_bis_bis.annotate(str(p.get_height()), (p.get_x() * 1.005, p.get_height() * 1.005))"
   ]
  },
  {
   "cell_type": "code",
   "execution_count": 45,
   "metadata": {
    "scrolled": true
   },
   "outputs": [
    {
     "data": {
      "text/html": [
       "<div>\n",
       "<style scoped>\n",
       "    .dataframe tbody tr th:only-of-type {\n",
       "        vertical-align: middle;\n",
       "    }\n",
       "\n",
       "    .dataframe tbody tr th {\n",
       "        vertical-align: top;\n",
       "    }\n",
       "\n",
       "    .dataframe thead th {\n",
       "        text-align: right;\n",
       "    }\n",
       "</style>\n",
       "<table border=\"1\" class=\"dataframe\">\n",
       "  <thead>\n",
       "    <tr style=\"text-align: right;\">\n",
       "      <th>CITY</th>\n",
       "      <th>BORDEAUX</th>\n",
       "      <th>LILLE</th>\n",
       "      <th>LYON</th>\n",
       "      <th>MARSEILLE</th>\n",
       "      <th>MONTPELLIER</th>\n",
       "      <th>NANTES</th>\n",
       "      <th>NICE</th>\n",
       "      <th>PARIS</th>\n",
       "      <th>TOULOUSE</th>\n",
       "    </tr>\n",
       "    <tr>\n",
       "      <th>CLUSTER</th>\n",
       "      <th></th>\n",
       "      <th></th>\n",
       "      <th></th>\n",
       "      <th></th>\n",
       "      <th></th>\n",
       "      <th></th>\n",
       "      <th></th>\n",
       "      <th></th>\n",
       "      <th></th>\n",
       "    </tr>\n",
       "  </thead>\n",
       "  <tbody>\n",
       "    <tr>\n",
       "      <th>0</th>\n",
       "      <td>0.0</td>\n",
       "      <td>0.0</td>\n",
       "      <td>0.0</td>\n",
       "      <td>0.0</td>\n",
       "      <td>0.0</td>\n",
       "      <td>0.0</td>\n",
       "      <td>0.0</td>\n",
       "      <td>153024.0</td>\n",
       "      <td>0.0</td>\n",
       "    </tr>\n",
       "    <tr>\n",
       "      <th>1</th>\n",
       "      <td>26852.0</td>\n",
       "      <td>0.0</td>\n",
       "      <td>32839.0</td>\n",
       "      <td>0.0</td>\n",
       "      <td>0.0</td>\n",
       "      <td>0.0</td>\n",
       "      <td>35409.0</td>\n",
       "      <td>0.0</td>\n",
       "      <td>0.0</td>\n",
       "    </tr>\n",
       "    <tr>\n",
       "      <th>2</th>\n",
       "      <td>0.0</td>\n",
       "      <td>21115.0</td>\n",
       "      <td>0.0</td>\n",
       "      <td>61404.0</td>\n",
       "      <td>22821.0</td>\n",
       "      <td>29106.0</td>\n",
       "      <td>0.0</td>\n",
       "      <td>0.0</td>\n",
       "      <td>45683.0</td>\n",
       "    </tr>\n",
       "  </tbody>\n",
       "</table>\n",
       "</div>"
      ],
      "text/plain": [
       "CITY     BORDEAUX    LILLE     LYON  MARSEILLE  MONTPELLIER   NANTES     NICE  \\\n",
       "CLUSTER                                                                         \n",
       "0             0.0      0.0      0.0        0.0          0.0      0.0      0.0   \n",
       "1         26852.0      0.0  32839.0        0.0          0.0      0.0  35409.0   \n",
       "2             0.0  21115.0      0.0    61404.0      22821.0  29106.0      0.0   \n",
       "\n",
       "CITY        PARIS  TOULOUSE  \n",
       "CLUSTER                      \n",
       "0        153024.0       0.0  \n",
       "1             0.0       0.0  \n",
       "2             0.0   45683.0  "
      ]
     },
     "execution_count": 45,
     "metadata": {},
     "output_type": "execute_result"
    }
   ],
   "source": [
    "df_bis = df_4.pivot(index='CLUSTER', columns='CITY', values='NUMBER OF TRANSACTIONS').fillna(0)\n",
    "df_bis"
   ]
  },
  {
   "cell_type": "code",
   "execution_count": 46,
   "metadata": {},
   "outputs": [
    {
     "data": {
      "image/png": "[encoded data removed]",
      "text/plain": [
       "<Figure size 432x288 with 1 Axes>"
      ]
     },
     "metadata": {
      "needs_background": "light"
     },
     "output_type": "display_data"
    }
   ],
   "source": [
    "barplot_4_bis = df_bis.plot(kind='bar', stacked=True)\n",
    "\n",
    "barplot_4_bis.set_ylabel(\"Number of Transactions\")\n",
    "\n",
    "#for p in barplot_4_bis.patches:\n",
    "#    barplot_4_bis.annotate(str(p.get_height()), (p.get_x() * 1.005, p.get_height() * 1.005))\n",
    "\n",
    "for p in barplot_4_bis.patches:\n",
    "    width, height = p.get_width(), p.get_height()\n",
    "    x, y = p.get_xy() \n",
    "    barplot_4_bis.text(x+width/2, \n",
    "            y+height/2, \n",
    "            '{:.0f}'.format(height), \n",
    "            horizontalalignment='center', \n",
    "            verticalalignment='center')\n"
   ]
  },
  {
   "cell_type": "markdown",
   "metadata": {},
   "source": [
    "## Graph 5 - (Forecast) Price per m² per city per year"
   ]
  },
  {
   "cell_type": "code",
   "execution_count": 758,
   "metadata": {},
   "outputs": [
    {
     "name": "stdout",
     "output_type": "stream",
     "text": [
      "+-------+-------+------------+\n",
      "|CLUSTER|   DATE|PRICE PER M²|\n",
      "+-------+-------+------------+\n",
      "|      0|01/2015|        8968|\n",
      "|      0|01/2016|        9251|\n",
      "|      0|01/2017|        9602|\n",
      "|      0|01/2018|       11342|\n",
      "|      0|01/2019|       11227|\n",
      "|      0|02/2015|        9354|\n",
      "|      0|02/2016|        8917|\n",
      "|      0|02/2017|        9631|\n",
      "|      0|02/2018|       10117|\n",
      "|      0|02/2019|       11407|\n",
      "|      0|03/2015|        8929|\n",
      "|      0|03/2016|        9609|\n",
      "|      0|03/2017|        9662|\n",
      "|      0|03/2018|       10077|\n",
      "|      0|03/2019|       11073|\n",
      "|      0|04/2015|        8656|\n",
      "|      0|04/2016|        9316|\n",
      "|      0|04/2017|        9687|\n",
      "|      0|04/2018|       10731|\n",
      "|      0|04/2019|       11215|\n",
      "+-------+-------+------------+\n",
      "only showing top 20 rows\n",
      "\n"
     ]
    }
   ],
   "source": [
    "spark.sql(\"SELECT CLUSTER, SUBSTRING(`Sale Date`, 4, 7) as `DATE`, \\\n",
    "          int(round(AVG(`Price per M²`))) \\\n",
    "          AS `PRICE PER M²` \\\n",
    "          FROM estate\\\n",
    "          GROUP BY CLUSTER, DATE\\\n",
    "          ORDER BY CLUSTER, DATE\\\n",
    "          \").show()"
   ]
  },
  {
   "cell_type": "code",
   "execution_count": 47,
   "metadata": {
    "scrolled": true
   },
   "outputs": [
    {
     "data": {
      "text/html": [
       "<div>\n",
       "<style scoped>\n",
       "    .dataframe tbody tr th:only-of-type {\n",
       "        vertical-align: middle;\n",
       "    }\n",
       "\n",
       "    .dataframe tbody tr th {\n",
       "        vertical-align: top;\n",
       "    }\n",
       "\n",
       "    .dataframe thead th {\n",
       "        text-align: right;\n",
       "    }\n",
       "</style>\n",
       "<table border=\"1\" class=\"dataframe\">\n",
       "  <thead>\n",
       "    <tr style=\"text-align: right;\">\n",
       "      <th></th>\n",
       "      <th>CLUSTER</th>\n",
       "      <th>DATE</th>\n",
       "      <th>PRICE PER M²</th>\n",
       "    </tr>\n",
       "  </thead>\n",
       "  <tbody>\n",
       "    <tr>\n",
       "      <th>0</th>\n",
       "      <td>0</td>\n",
       "      <td>01/2015</td>\n",
       "      <td>8968</td>\n",
       "    </tr>\n",
       "    <tr>\n",
       "      <th>1</th>\n",
       "      <td>0</td>\n",
       "      <td>01/2016</td>\n",
       "      <td>9251</td>\n",
       "    </tr>\n",
       "    <tr>\n",
       "      <th>2</th>\n",
       "      <td>0</td>\n",
       "      <td>01/2017</td>\n",
       "      <td>9602</td>\n",
       "    </tr>\n",
       "    <tr>\n",
       "      <th>3</th>\n",
       "      <td>0</td>\n",
       "      <td>01/2018</td>\n",
       "      <td>11342</td>\n",
       "    </tr>\n",
       "    <tr>\n",
       "      <th>4</th>\n",
       "      <td>0</td>\n",
       "      <td>01/2019</td>\n",
       "      <td>11227</td>\n",
       "    </tr>\n",
       "    <tr>\n",
       "      <th>...</th>\n",
       "      <td>...</td>\n",
       "      <td>...</td>\n",
       "      <td>...</td>\n",
       "    </tr>\n",
       "    <tr>\n",
       "      <th>157</th>\n",
       "      <td>2</td>\n",
       "      <td>11/2018</td>\n",
       "      <td>3243</td>\n",
       "    </tr>\n",
       "    <tr>\n",
       "      <th>158</th>\n",
       "      <td>2</td>\n",
       "      <td>12/2015</td>\n",
       "      <td>3171</td>\n",
       "    </tr>\n",
       "    <tr>\n",
       "      <th>159</th>\n",
       "      <td>2</td>\n",
       "      <td>12/2016</td>\n",
       "      <td>3288</td>\n",
       "    </tr>\n",
       "    <tr>\n",
       "      <th>160</th>\n",
       "      <td>2</td>\n",
       "      <td>12/2017</td>\n",
       "      <td>3431</td>\n",
       "    </tr>\n",
       "    <tr>\n",
       "      <th>161</th>\n",
       "      <td>2</td>\n",
       "      <td>12/2018</td>\n",
       "      <td>3355</td>\n",
       "    </tr>\n",
       "  </tbody>\n",
       "</table>\n",
       "<p>162 rows × 3 columns</p>\n",
       "</div>"
      ],
      "text/plain": [
       "     CLUSTER     DATE  PRICE PER M²\n",
       "0          0  01/2015          8968\n",
       "1          0  01/2016          9251\n",
       "2          0  01/2017          9602\n",
       "3          0  01/2018         11342\n",
       "4          0  01/2019         11227\n",
       "..       ...      ...           ...\n",
       "157        2  11/2018          3243\n",
       "158        2  12/2015          3171\n",
       "159        2  12/2016          3288\n",
       "160        2  12/2017          3431\n",
       "161        2  12/2018          3355\n",
       "\n",
       "[162 rows x 3 columns]"
      ]
     },
     "execution_count": 47,
     "metadata": {},
     "output_type": "execute_result"
    }
   ],
   "source": [
    "df_5 = spark.sql(\"SELECT CLUSTER, SUBSTRING(`Sale Date`, 4, 7) as `DATE`, \\\n",
    "          int(round(AVG(`Price per M²`))) \\\n",
    "          AS `PRICE PER M²` \\\n",
    "          FROM estate\\\n",
    "          GROUP BY CLUSTER, DATE\\\n",
    "          ORDER BY CLUSTER, DATE\\\n",
    "          \").toPandas()\n",
    "\n",
    "df_5"
   ]
  },
  {
   "cell_type": "code",
   "execution_count": 48,
   "metadata": {},
   "outputs": [],
   "source": [
    "df_5['DATE'] = pd.to_datetime(df_5['DATE'], format='%m/%Y')"
   ]
  },
  {
   "cell_type": "code",
   "execution_count": 52,
   "metadata": {
    "scrolled": false
   },
   "outputs": [
    {
     "data": {
      "image/png": "[encoded data removed]",
      "text/plain": [
       "<Figure size 432x288 with 1 Axes>"
      ]
     },
     "metadata": {
      "needs_background": "light"
     },
     "output_type": "display_data"
    }
   ],
   "source": [
    "df_cluster_0 = df_5[df_5['CLUSTER'] == 0]\n",
    "df_cluster_0 = df_cluster_0.sort_values(by='DATE')\n",
    "\n",
    "plt.plot(df_cluster_0['DATE'], df_cluster_0['PRICE PER M²'], color='r')\n",
    "plt.show()"
   ]
  },
  {
   "cell_type": "code",
   "execution_count": 53,
   "metadata": {},
   "outputs": [
    {
     "data": {
      "image/png": "[encoded data removed]",
      "text/plain": [
       "<Figure size 432x288 with 1 Axes>"
      ]
     },
     "metadata": {
      "needs_background": "light"
     },
     "output_type": "display_data"
    }
   ],
   "source": [
    "df_cluster_1 = df_5[df_5['CLUSTER'] == 1]\n",
    "df_cluster_1 = df_cluster_1.sort_values(by='DATE')\n",
    "\n",
    "plt.plot(df_cluster_1['DATE'], df_cluster_1['PRICE PER M²'], color='#E48619')\n",
    "plt.show()"
   ]
  },
  {
   "cell_type": "code",
   "execution_count": 54,
   "metadata": {
    "scrolled": true
   },
   "outputs": [
    {
     "data": {
      "image/png": "[encoded data removed]",
      "text/plain": [
       "<Figure size 432x288 with 1 Axes>"
      ]
     },
     "metadata": {
      "needs_background": "light"
     },
     "output_type": "display_data"
    }
   ],
   "source": [
    "df_cluster_2 = df_5[df_5['CLUSTER'] == 2]\n",
    "df_cluster_2 = df_cluster_2.sort_values(by='DATE')\n",
    "\n",
    "plt.plot(df_cluster_2['DATE'], df_cluster_2['PRICE PER M²'], color='#19DAE4')\n",
    "plt.show()"
   ]
  },
  {
   "cell_type": "code",
   "execution_count": 288,
   "metadata": {
    "scrolled": true
   },
   "outputs": [
    {
     "data": {
      "image/png": "[encoded data removed]",
      "text/plain": [
       "<Figure size 432x288 with 1 Axes>"
      ]
     },
     "metadata": {
      "needs_background": "light"
     },
     "output_type": "display_data"
    }
   ],
   "source": [
    "plt.plot(df_cluster_0['DATE'], df_cluster_0['PRICE PER M²'], color='r')\n",
    "plt.plot(df_cluster_1['DATE'], df_cluster_1['PRICE PER M²'], color='#E48619')\n",
    "plt.plot(df_cluster_2['DATE'], df_cluster_2['PRICE PER M²'], color='#19DAE4')\n",
    "\n",
    "plt.show()"
   ]
  },
  {
   "cell_type": "markdown",
   "metadata": {},
   "source": [
    "# Time Series Analysis"
   ]
  },
  {
   "cell_type": "code",
   "execution_count": 305,
   "metadata": {},
   "outputs": [],
   "source": [
    "import statsmodels.api as sm\n",
    "#from statsmodels.tsa.arima_model import ARIMA, ARIMAResults\n",
    "from statsmodels.tsa.arima.model import ARIMA\n",
    "from statsmodels.tsa.stattools import acf, pacf\n",
    "from statsmodels.graphics.tsaplots import plot_acf, plot_pacf\n",
    "from statsmodels.tsa.seasonal import seasonal_decompose"
   ]
  },
  {
   "cell_type": "code",
   "execution_count": 207,
   "metadata": {},
   "outputs": [],
   "source": [
    "ts = pd.Series(df_cluster_0['PRICE PER M²'].values, index = df_cluster_0['DATE'])"
   ]
  },
  {
   "cell_type": "code",
   "execution_count": 211,
   "metadata": {
    "scrolled": false
   },
   "outputs": [
    {
     "data": {
      "image/png": "[encoded data removed]",
      "text/plain": [
       "<Figure size 432x288 with 1 Axes>"
      ]
     },
     "metadata": {
      "needs_background": "light"
     },
     "output_type": "display_data"
    }
   ],
   "source": [
    "plt.plot(ts, color='r')\n",
    "plt.title('Time Series Plot for CLUSTER 0 - PRICE PER M² OVER 5 YEARS')\n",
    "plt.show()"
   ]
  },
  {
   "cell_type": "code",
   "execution_count": 291,
   "metadata": {},
   "outputs": [],
   "source": [
    "result = seasonal_decompose(ts, model='multiplicative')"
   ]
  },
  {
   "cell_type": "code",
   "execution_count": 367,
   "metadata": {
    "scrolled": true
   },
   "outputs": [
    {
     "data": {
      "image/png": "[encoded data removed]",
      "text/plain": [
       "<Figure size 432x288 with 4 Axes>"
      ]
     },
     "execution_count": 367,
     "metadata": {},
     "output_type": "execute_result"
    },
    {
     "data": {
      "image/png": "[encoded data removed]",
      "text/plain": [
       "<Figure size 432x288 with 4 Axes>"
      ]
     },
     "metadata": {
      "needs_background": "light"
     },
     "output_type": "display_data"
    }
   ],
   "source": [
    "result.plot()"
   ]
  },
  {
   "cell_type": "code",
   "execution_count": 239,
   "metadata": {
    "scrolled": true
   },
   "outputs": [
    {
     "name": "stdout",
     "output_type": "stream",
     "text": [
      "Collecting pmdarima\n",
      "  Downloading pmdarima-1.8.0-cp38-cp38-manylinux1_x86_64.whl (1.5 MB)\n",
      "\u001b[K     |████████████████████████████████| 1.5 MB 708 kB/s eta 0:00:01\n",
      "\u001b[?25hRequirement already satisfied: pandas>=0.19 in /opt/conda/lib/python3.8/site-packages (from pmdarima) (1.1.4)\n",
      "Requirement already satisfied: scikit-learn>=0.22 in /opt/conda/lib/python3.8/site-packages (from pmdarima) (0.23.2)\n",
      "Requirement already satisfied: urllib3 in /opt/conda/lib/python3.8/site-packages (from pmdarima) (1.25.11)\n",
      "Requirement already satisfied: setuptools!=50.0.0,>=38.6.0 in /opt/conda/lib/python3.8/site-packages (from pmdarima) (49.6.0.post20201009)\n",
      "Requirement already satisfied: numpy>=1.17.3 in /opt/conda/lib/python3.8/site-packages (from pmdarima) (1.19.4)\n",
      "Requirement already satisfied: joblib>=0.11 in /opt/conda/lib/python3.8/site-packages (from pmdarima) (0.17.0)\n",
      "Collecting Cython<0.29.18,>=0.29\n",
      "  Downloading Cython-0.29.17-cp38-cp38-manylinux1_x86_64.whl (2.0 MB)\n",
      "\u001b[K     |████████████████████████████████| 2.0 MB 437 kB/s eta 0:00:01\n",
      "\u001b[?25hRequirement already satisfied: statsmodels!=0.12.0,>=0.11 in /opt/conda/lib/python3.8/site-packages (from pmdarima) (0.12.1)\n",
      "Requirement already satisfied: scipy>=1.3.2 in /opt/conda/lib/python3.8/site-packages (from pmdarima) (1.5.3)\n",
      "Requirement already satisfied: python-dateutil>=2.7.3 in /opt/conda/lib/python3.8/site-packages (from pandas>=0.19->pmdarima) (2.8.1)\n",
      "Requirement already satisfied: pytz>=2017.2 in /opt/conda/lib/python3.8/site-packages (from pandas>=0.19->pmdarima) (2020.4)\n",
      "Requirement already satisfied: threadpoolctl>=2.0.0 in /opt/conda/lib/python3.8/site-packages (from scikit-learn>=0.22->pmdarima) (2.1.0)\n",
      "Requirement already satisfied: patsy>=0.5 in /opt/conda/lib/python3.8/site-packages (from statsmodels!=0.12.0,>=0.11->pmdarima) (0.5.1)\n",
      "Requirement already satisfied: six>=1.5 in /opt/conda/lib/python3.8/site-packages (from python-dateutil>=2.7.3->pandas>=0.19->pmdarima) (1.15.0)\n",
      "Installing collected packages: Cython, pmdarima\n",
      "  Attempting uninstall: Cython\n",
      "    Found existing installation: Cython 0.29.21\n",
      "    Uninstalling Cython-0.29.21:\n",
      "      Successfully uninstalled Cython-0.29.21\n",
      "Successfully installed Cython-0.29.17 pmdarima-1.8.0\n",
      "Note: you may need to restart the kernel to use updated packages.\n"
     ]
    }
   ],
   "source": [
    "pip install pmdarima"
   ]
  },
  {
   "cell_type": "code",
   "execution_count": 241,
   "metadata": {},
   "outputs": [],
   "source": [
    "import pmdarima as pm\n",
    "from pmdarima.model_selection import train_test_split\n",
    "import numpy as np\n",
    "import matplotlib.pyplot as plt"
   ]
  },
  {
   "cell_type": "code",
   "execution_count": 216,
   "metadata": {
    "scrolled": true
   },
   "outputs": [
    {
     "data": {
      "image/png": "[encoded data removed]",
      "text/plain": [
       "<Figure size 432x288 with 1 Axes>"
      ]
     },
     "metadata": {
      "needs_background": "light"
     },
     "output_type": "display_data"
    }
   ],
   "source": [
    "# DIAGNOSING PACF\n",
    "pacf = plot_pacf(ts, lags = 20)\n",
    "plt.title(\"PACF Plot\")\n",
    "pacf.show()"
   ]
  },
  {
   "cell_type": "code",
   "execution_count": 214,
   "metadata": {
    "scrolled": true
   },
   "outputs": [
    {
     "data": {
      "image/png": "[encoded data removed]",
      "text/plain": [
       "<Figure size 432x288 with 1 Axes>"
      ]
     },
     "metadata": {
      "needs_background": "light"
     },
     "output_type": "display_data"
    }
   ],
   "source": [
    "# DIAGNOSING ACF\n",
    "acf = plot_acf(ts, lags = 40)\n",
    "plt.title(\"ACF Plot\")\n",
    "acf.show()"
   ]
  },
  {
   "cell_type": "code",
   "execution_count": 217,
   "metadata": {},
   "outputs": [],
   "source": [
    "# TRANSFORMING OUR DATA TO ADJUST FOR NON-STATIONARITY\n",
    "ts_cluster0_diff = ts - ts.shift()\n",
    "diff = ts_cluster0_diff.dropna()"
   ]
  },
  {
   "cell_type": "code",
   "execution_count": 218,
   "metadata": {},
   "outputs": [
    {
     "data": {
      "image/png": "[encoded data removed]",
      "text/plain": [
       "<Figure size 432x288 with 1 Axes>"
      ]
     },
     "metadata": {
      "needs_background": "light"
     },
     "output_type": "display_data"
    }
   ],
   "source": [
    "plt.figure()\n",
    "plt.plot(diff)\n",
    "plt.title('First Difference Time Series Plot')\n",
    "plt.show()"
   ]
  },
  {
   "cell_type": "code",
   "execution_count": 221,
   "metadata": {},
   "outputs": [
    {
     "data": {
      "image/png": "[encoded data removed]",
      "text/plain": [
       "<Figure size 432x288 with 1 Axes>"
      ]
     },
     "metadata": {
      "needs_background": "light"
     },
     "output_type": "display_data"
    }
   ],
   "source": [
    "acfDiff = plot_acf(diff, lags = 20)\n",
    "plt.title(\"ACF Plot\")\n",
    "acfDiff.show()"
   ]
  },
  {
   "cell_type": "code",
   "execution_count": 222,
   "metadata": {
    "scrolled": true
   },
   "outputs": [
    {
     "name": "stderr",
     "output_type": "stream",
     "text": [
      "/opt/conda/lib/python3.8/site-packages/statsmodels/regression/linear_model.py:1434: RuntimeWarning: invalid value encountered in sqrt\n",
      "  return rho, np.sqrt(sigmasq)\n"
     ]
    },
    {
     "data": {
      "image/png": "[encoded data removed]",
      "text/plain": [
       "<Figure size 432x288 with 1 Axes>"
      ]
     },
     "metadata": {
      "needs_background": "light"
     },
     "output_type": "display_data"
    }
   ],
   "source": [
    "# edit this shit on the actual project !\n",
    "pacfDiff = plot_pacf(diff, lags = 20)\n",
    "plt.title(\"PACF Plot\")\n",
    "pacfDiff.show()"
   ]
  },
  {
   "cell_type": "code",
   "execution_count": 246,
   "metadata": {
    "scrolled": false
   },
   "outputs": [
    {
     "data": {
      "text/plain": [
       "ARIMA(order=(3, 1, 1), scoring_args={}, seasonal_order=(0, 0, 0, 12),\n",
       "      suppress_warnings=True)"
      ]
     },
     "execution_count": 246,
     "metadata": {},
     "output_type": "execute_result"
    }
   ],
   "source": [
    "model = pm.auto_arima(ts, seasonal=True, m=12)"
   ]
  },
  {
   "cell_type": "code",
   "execution_count": 300,
   "metadata": {},
   "outputs": [
    {
     "data": {
      "text/plain": [
       "44"
      ]
     },
     "execution_count": 300,
     "metadata": {},
     "output_type": "execute_result"
    }
   ],
   "source": [
    "ts.index.get_loc('2018-09-01')"
   ]
  },
  {
   "cell_type": "code",
   "execution_count": 294,
   "metadata": {
    "scrolled": true
   },
   "outputs": [
    {
     "data": {
      "text/plain": [
       "DatetimeIndex(['2015-01-01', '2015-02-01', '2015-03-01', '2015-04-01',\n",
       "               '2015-05-01', '2015-06-01', '2015-07-01', '2015-08-01',\n",
       "               '2015-09-01', '2015-10-01', '2015-11-01', '2015-12-01',\n",
       "               '2016-01-01', '2016-02-01', '2016-03-01', '2016-04-01',\n",
       "               '2016-05-01', '2016-06-01', '2016-07-01', '2016-08-01',\n",
       "               '2016-09-01', '2016-10-01', '2016-11-01', '2016-12-01',\n",
       "               '2017-01-01', '2017-02-01', '2017-03-01', '2017-04-01',\n",
       "               '2017-05-01', '2017-06-01', '2017-07-01', '2017-08-01',\n",
       "               '2017-09-01', '2017-10-01', '2017-11-01', '2017-12-01',\n",
       "               '2018-01-01', '2018-02-01', '2018-03-01', '2018-04-01',\n",
       "               '2018-05-01', '2018-06-01', '2018-07-01', '2018-08-01',\n",
       "               '2018-09-01', '2018-10-01', '2018-11-01', '2018-12-01',\n",
       "               '2019-01-01', '2019-02-01', '2019-03-01', '2019-04-01',\n",
       "               '2019-05-01', '2019-06-01'],\n",
       "              dtype='datetime64[ns]', name='DATE', freq=None)"
      ]
     },
     "execution_count": 294,
     "metadata": {},
     "output_type": "execute_result"
    }
   ],
   "source": [
    "ts.index"
   ]
  },
  {
   "cell_type": "code",
   "execution_count": 328,
   "metadata": {},
   "outputs": [
    {
     "name": "stderr",
     "output_type": "stream",
     "text": [
      "/opt/conda/lib/python3.8/site-packages/statsmodels/tsa/base/tsa_model.py:524: ValueWarning: No frequency information was provided, so inferred frequency MS will be used.\n",
      "  warnings.warn('No frequency information was'\n",
      "/opt/conda/lib/python3.8/site-packages/statsmodels/tsa/base/tsa_model.py:524: ValueWarning: No frequency information was provided, so inferred frequency MS will be used.\n",
      "  warnings.warn('No frequency information was'\n",
      "/opt/conda/lib/python3.8/site-packages/statsmodels/tsa/base/tsa_model.py:524: ValueWarning: No frequency information was provided, so inferred frequency MS will be used.\n",
      "  warnings.warn('No frequency information was'\n"
     ]
    }
   ],
   "source": [
    "mod = ARIMA(ts, order = (3, 1, 1), seasonal_order = (0,1,0,12))"
   ]
  },
  {
   "cell_type": "code",
   "execution_count": 329,
   "metadata": {
    "scrolled": true
   },
   "outputs": [
    {
     "name": "stdout",
     "output_type": "stream",
     "text": [
      "                                     SARIMAX Results                                     \n",
      "=========================================================================================\n",
      "Dep. Variable:                                 y   No. Observations:                   54\n",
      "Model:             ARIMA(3, 1, 1)x(0, 1, [], 12)   Log Likelihood                -319.829\n",
      "Date:                           Mon, 28 Dec 2020   AIC                            649.659\n",
      "Time:                                   20:15:01   BIC                            658.226\n",
      "Sample:                               01-01-2015   HQIC                           652.779\n",
      "                                    - 06-01-2019                                         \n",
      "Covariance Type:                             opg                                         \n",
      "==============================================================================\n",
      "                 coef    std err          z      P>|z|      [0.025      0.975]\n",
      "------------------------------------------------------------------------------\n",
      "ar.L1         -0.0976      0.144     -0.679      0.497      -0.379       0.184\n",
      "ar.L2         -0.1600      0.190     -0.844      0.399      -0.532       0.212\n",
      "ar.L3         -0.0711      0.211     -0.336      0.737      -0.485       0.343\n",
      "ma.L1         -0.9983      3.062     -0.326      0.744      -7.000       5.004\n",
      "sigma2      2.459e+05   7.32e+05      0.336      0.737   -1.19e+06    1.68e+06\n",
      "===================================================================================\n",
      "Ljung-Box (L1) (Q):                   0.49   Jarque-Bera (JB):                 8.84\n",
      "Prob(Q):                              0.49   Prob(JB):                         0.01\n",
      "Heteroskedasticity (H):               0.42   Skew:                            -0.60\n",
      "Prob(H) (two-sided):                  0.11   Kurtosis:                         4.93\n",
      "===================================================================================\n",
      "\n",
      "Warnings:\n",
      "[1] Covariance matrix calculated using the outer product of gradients (complex-step).\n"
     ]
    }
   ],
   "source": [
    "results = mod.fit()\n",
    "print(results.summary())"
   ]
  },
  {
   "cell_type": "code",
   "execution_count": 330,
   "metadata": {},
   "outputs": [
    {
     "name": "stdout",
     "output_type": "stream",
     "text": [
      "2019-06-01    11306.960111\n",
      "2019-07-01    11318.271234\n",
      "2019-08-01    11446.999038\n",
      "2019-09-01    11698.161152\n",
      "2019-10-01    11759.540850\n",
      "2019-11-01    11524.199313\n",
      "2019-12-01    12432.155605\n",
      "2020-01-01    11839.236603\n",
      "2020-02-01    12019.304454\n",
      "2020-03-01    11685.519071\n",
      "2020-04-01    11827.552561\n",
      "2020-05-01    11399.510123\n",
      "2020-06-01    11977.493656\n",
      "2020-07-01    11930.770910\n",
      "2020-08-01    12059.503777\n",
      "2020-09-01    12310.665603\n",
      "2020-10-01    12372.044091\n",
      "2020-11-01    12136.702358\n",
      "2020-12-01    13044.658884\n",
      "2021-01-01    12451.739977\n",
      "2021-02-01    12631.807794\n",
      "2021-03-01    12298.022383\n",
      "2021-04-01    12440.055875\n",
      "2021-05-01    12012.013443\n",
      "2021-06-01    12589.996978\n",
      "2021-07-01    12543.274230\n",
      "2021-08-01    12672.007096\n",
      "2021-09-01    12923.168923\n",
      "Freq: MS, Name: predicted_mean, dtype: float64\n"
     ]
    }
   ],
   "source": [
    "predVals = results.predict(53, 80, typ='levels')\n",
    "print(predVals)"
   ]
  },
  {
   "cell_type": "code",
   "execution_count": 331,
   "metadata": {},
   "outputs": [
    {
     "data": {
      "text/plain": [
       "Timestamp('2019-06-01 00:00:00', freq='MS')"
      ]
     },
     "execution_count": 331,
     "metadata": {},
     "output_type": "execute_result"
    }
   ],
   "source": [
    "predVals.index[0]"
   ]
  },
  {
   "cell_type": "code",
   "execution_count": 332,
   "metadata": {
    "scrolled": true
   },
   "outputs": [
    {
     "name": "stdout",
     "output_type": "stream",
     "text": [
      "2019-07-01    11318.271234\n",
      "2019-08-01    11446.999038\n",
      "2019-09-01    11698.161152\n",
      "2019-10-01    11759.540850\n",
      "2019-11-01    11524.199313\n",
      "2019-12-01    12432.155605\n",
      "2020-01-01    11839.236603\n",
      "2020-02-01    12019.304454\n",
      "2020-03-01    11685.519071\n",
      "2020-04-01    11827.552561\n",
      "2020-05-01    11399.510123\n",
      "2020-06-01    11977.493656\n",
      "2020-07-01    11930.770910\n",
      "2020-08-01    12059.503777\n",
      "2020-09-01    12310.665603\n",
      "2020-10-01    12372.044091\n",
      "2020-11-01    12136.702358\n",
      "2020-12-01    13044.658884\n",
      "2021-01-01    12451.739977\n",
      "2021-02-01    12631.807794\n",
      "2021-03-01    12298.022383\n",
      "2021-04-01    12440.055875\n",
      "2021-05-01    12012.013443\n",
      "2021-06-01    12589.996978\n",
      "2021-07-01    12543.274230\n",
      "2021-08-01    12672.007096\n",
      "2021-09-01    12923.168923\n",
      "Freq: MS, Name: predicted_mean, dtype: float64\n"
     ]
    }
   ],
   "source": [
    "predVals = predVals.drop(predVals.index[0])\n",
    "print(predVals)"
   ]
  },
  {
   "cell_type": "code",
   "execution_count": 333,
   "metadata": {
    "scrolled": true
   },
   "outputs": [
    {
     "name": "stdout",
     "output_type": "stream",
     "text": [
      "            original     predicted\n",
      "2015-01-01    8968.0           NaN\n",
      "2015-02-01    9354.0           NaN\n",
      "2015-03-01    8929.0           NaN\n",
      "2015-04-01    8656.0           NaN\n",
      "2015-05-01    8417.0           NaN\n",
      "...              ...           ...\n",
      "2021-05-01       NaN  12012.013443\n",
      "2021-06-01       NaN  12589.996978\n",
      "2021-07-01       NaN  12543.274230\n",
      "2021-08-01       NaN  12672.007096\n",
      "2021-09-01       NaN  12923.168923\n",
      "\n",
      "[81 rows x 2 columns]\n"
     ]
    }
   ],
   "source": [
    "ts_for = pd.concat([ts, predVals], axis = 1, keys=['original', 'predicted'])\n",
    "print(ts_for)"
   ]
  },
  {
   "cell_type": "code",
   "execution_count": 334,
   "metadata": {
    "scrolled": true
   },
   "outputs": [
    {
     "data": {
      "image/png": "[encoded data removed]",
      "text/plain": [
       "<Figure size 432x288 with 1 Axes>"
      ]
     },
     "metadata": {
      "needs_background": "light"
     },
     "output_type": "display_data"
    }
   ],
   "source": [
    "plt.figure()\n",
    "plt.plot(ts_for)\n",
    "plt.title(\"Actual Vs. Forecasted Values\")\n",
    "plt.show()"
   ]
  },
  {
   "cell_type": "code",
   "execution_count": 337,
   "metadata": {},
   "outputs": [],
   "source": [
    "def forecast(df_aux, index1, index2): \n",
    "    ts_aux = pd.Series(df_aux['PRICE PER M²'].values, index = df_aux['DATE'])    \n",
    "   \n",
    "    model_auto = pm.auto_arima(ts_aux, seasonal=True, m=12)\n",
    "    mod_aux = ARIMA(ts_aux, order = (model_auto.order[0], model_auto.order[1], model_auto.order[2]), seasonal_order = (0,1,0,12))\n",
    "    \n",
    "    results_aux = mod_aux.fit()\n",
    "    \n",
    "    predVals_aux = results_aux.predict(index1, index2, typ='levels')\n",
    "    ts_for = pd.concat([ts_aux, predVals_aux], axis = 1, keys=['original', 'predicted'])\n",
    "    \n",
    "    return ts_for"
   ]
  },
  {
   "cell_type": "code",
   "execution_count": 365,
   "metadata": {},
   "outputs": [
    {
     "name": "stderr",
     "output_type": "stream",
     "text": [
      "/opt/conda/lib/python3.8/site-packages/statsmodels/tsa/base/tsa_model.py:524: ValueWarning: No frequency information was provided, so inferred frequency MS will be used.\n",
      "  warnings.warn('No frequency information was'\n",
      "/opt/conda/lib/python3.8/site-packages/statsmodels/tsa/base/tsa_model.py:524: ValueWarning: No frequency information was provided, so inferred frequency MS will be used.\n",
      "  warnings.warn('No frequency information was'\n",
      "/opt/conda/lib/python3.8/site-packages/statsmodels/tsa/base/tsa_model.py:524: ValueWarning: No frequency information was provided, so inferred frequency MS will be used.\n",
      "  warnings.warn('No frequency information was'\n",
      "/opt/conda/lib/python3.8/site-packages/statsmodels/tsa/base/tsa_model.py:524: ValueWarning: No frequency information was provided, so inferred frequency MS will be used.\n",
      "  warnings.warn('No frequency information was'\n",
      "/opt/conda/lib/python3.8/site-packages/statsmodels/tsa/base/tsa_model.py:524: ValueWarning: No frequency information was provided, so inferred frequency MS will be used.\n",
      "  warnings.warn('No frequency information was'\n",
      "/opt/conda/lib/python3.8/site-packages/statsmodels/tsa/base/tsa_model.py:524: ValueWarning: No frequency information was provided, so inferred frequency MS will be used.\n",
      "  warnings.warn('No frequency information was'\n",
      "/opt/conda/lib/python3.8/site-packages/statsmodels/tsa/base/tsa_model.py:524: ValueWarning: No frequency information was provided, so inferred frequency MS will be used.\n",
      "  warnings.warn('No frequency information was'\n",
      "/opt/conda/lib/python3.8/site-packages/statsmodels/tsa/base/tsa_model.py:524: ValueWarning: No frequency information was provided, so inferred frequency MS will be used.\n",
      "  warnings.warn('No frequency information was'\n",
      "/opt/conda/lib/python3.8/site-packages/statsmodels/tsa/base/tsa_model.py:524: ValueWarning: No frequency information was provided, so inferred frequency MS will be used.\n",
      "  warnings.warn('No frequency information was'\n"
     ]
    },
    {
     "data": {
      "image/png": "[encoded data removed]",
      "text/plain": [
       "<Figure size 432x288 with 1 Axes>"
      ]
     },
     "metadata": {
      "needs_background": "light"
     },
     "output_type": "display_data"
    }
   ],
   "source": [
    "plt.figure()\n",
    "plt.plot(forecast(df_cluster_0, 54, 80))\n",
    "plt.title(\"Actual Vs. Forecasted Values\")\n",
    "\n",
    "plt.plot(forecast(df_cluster_1, 54, 80))\n",
    "plt.title(\"Actual Vs. Forecasted Values\")\n",
    "\n",
    "plt.plot(forecast(df_cluster_2, 54, 80))\n",
    "plt.title(\"Actual Vs. Forecasted Values\")\n",
    "\n",
    "#plt.legend \n",
    "\n",
    "plt.show()"
   ]
  },
  {
   "cell_type": "markdown",
   "metadata": {},
   "source": [
    "## Graph 6 : (Forecast) Price per m² per city per year"
   ]
  },
  {
   "cell_type": "code",
   "execution_count": 773,
   "metadata": {},
   "outputs": [
    {
     "name": "stdout",
     "output_type": "stream",
     "text": [
      "+----+----------+--------------------+------+-----------+-------+--------------+----------+-----------+---------------+---------+------------------+-------+\n",
      "|City| Sale Date|           Sale Type| Price|Postal Code|Commune|Number of lots|Local Type|Living Area|Number of rooms|Land Area|      Price per M²|Cluster|\n",
      "+----+----------+--------------------+------+-----------+-------+--------------+----------+-----------+---------------+---------+------------------+-------+\n",
      "|NICE|26/03/2015|                SALE|102000|       6000|   NICE|             1| APARTMENT|       29.0|              2|      0.0|3517.2413793103447|      1|\n",
      "|NICE|10/04/2015|                SALE|239000|       6200|   NICE|             1| APARTMENT|       51.0|              2|      0.0| 4686.274509803921|      1|\n",
      "|NICE|23/03/2015|                SALE|410000|       6200|   NICE|             2| APARTMENT|       60.0|              3|      0.0| 6833.333333333333|      1|\n",
      "|NICE|08/04/2015|                SALE|215000|       6200|   NICE|             1| APARTMENT|       67.0|              3|      0.0| 3208.955223880597|      1|\n",
      "|NICE|20/03/2015|                SALE|625000|       6200|   NICE|             0|     HOUSE|      160.0|              5|    500.0|           3906.25|      1|\n",
      "|NICE|20/03/2015|                SALE|625000|       6200|   NICE|             0|     HOUSE|      160.0|              5|   1267.0|           3906.25|      1|\n",
      "|NICE|02/04/2015|                SALE|130000|       6200|   NICE|             1| APARTMENT|       31.0|              1|      0.0| 4193.548387096775|      1|\n",
      "|NICE|24/03/2015|                SALE|115000|       6000|   NICE|             2| APARTMENT|       50.0|              2|      0.0|            2300.0|      1|\n",
      "|NICE|03/04/2015|                SALE|172500|       6100|   NICE|             2| APARTMENT|       63.0|              4|      0.0| 2738.095238095238|      1|\n",
      "|NICE|09/04/2015|                SALE|360000|       6200|   NICE|             0|     HOUSE|      109.0|              5|    502.0|3302.7522935779816|      1|\n",
      "|NICE|07/04/2015|                SALE|249000|       6200|   NICE|             1| APARTMENT|       66.0|              3|      0.0|3772.7272727272725|      1|\n",
      "|NICE|23/03/2015|                SALE|223000|       6000|   NICE|             2| APARTMENT|       73.0|              3|      0.0| 3054.794520547945|      1|\n",
      "|NICE|24/03/2015|                SALE|108000|       6200|   NICE|             1| APARTMENT|       22.0|              1|      0.0| 4909.090909090909|      1|\n",
      "|NICE|08/04/2015|                SALE|142000|       6200|   NICE|             1| APARTMENT|       75.0|              3|      0.0|1893.3333333333333|      1|\n",
      "|NICE|07/04/2015|                SALE|283000|       6000|   NICE|             1| APARTMENT|       76.0|              3|      0.0| 3723.684210526316|      1|\n",
      "|NICE|26/03/2015|                SALE|173000|       6200|   NICE|             2| APARTMENT|       74.0|              3|      0.0| 2337.837837837838|      1|\n",
      "|NICE|17/04/2015|                SALE|660000|       6200|   NICE|             2| APARTMENT|      125.0|              5|      0.0|            5280.0|      1|\n",
      "|NICE|12/03/2015|SALE BEFORE COMPL...|126000|       6200|   NICE|             1| APARTMENT|       28.0|              1|      0.0|            4500.0|      1|\n",
      "|NICE|31/03/2015|                SALE|252030|       6000|   NICE|             2| APARTMENT|       79.0|              3|      0.0| 3190.253164556962|      1|\n",
      "|NICE|23/03/2015|                SALE|151000|       6200|   NICE|             1| APARTMENT|       34.0|              1|      0.0| 4441.176470588235|      1|\n",
      "+----+----------+--------------------+------+-----------+-------+--------------+----------+-----------+---------------+---------+------------------+-------+\n",
      "only showing top 20 rows\n",
      "\n"
     ]
    }
   ],
   "source": [
    "spark.sql(\"SELECT *\\\n",
    "          FROM estate\\\n",
    "          \").show()"
   ]
  },
  {
   "cell_type": "code",
   "execution_count": 780,
   "metadata": {},
   "outputs": [
    {
     "name": "stdout",
     "output_type": "stream",
     "text": [
      "+----------+-------+------------+\n",
      "|LOCAL TYPE|   DATE|PRICE PER M²|\n",
      "+----------+-------+------------+\n",
      "| APARTMENT|01/2015|        5494|\n",
      "| APARTMENT|01/2016|        5017|\n",
      "| APARTMENT|01/2017|        5944|\n",
      "| APARTMENT|01/2018|        6645|\n",
      "| APARTMENT|01/2019|        6531|\n",
      "| APARTMENT|02/2015|        5488|\n",
      "| APARTMENT|02/2016|        5300|\n",
      "| APARTMENT|02/2017|        5853|\n",
      "| APARTMENT|02/2018|        6065|\n",
      "| APARTMENT|02/2019|        6700|\n",
      "| APARTMENT|03/2015|        5606|\n",
      "| APARTMENT|03/2016|        5793|\n",
      "| APARTMENT|03/2017|        5942|\n",
      "| APARTMENT|03/2018|        6212|\n",
      "| APARTMENT|03/2019|        6471|\n",
      "| APARTMENT|04/2015|        5347|\n",
      "| APARTMENT|04/2016|        5682|\n",
      "| APARTMENT|04/2017|        5832|\n",
      "| APARTMENT|04/2018|        6373|\n",
      "| APARTMENT|04/2019|        6604|\n",
      "+----------+-------+------------+\n",
      "only showing top 20 rows\n",
      "\n"
     ]
    }
   ],
   "source": [
    "spark.sql(\"SELECT `LOCAL TYPE`, SUBSTRING(`Sale Date`, 4, 7) as DATE, int(round(AVG(`Price per M²`))) \\\n",
    "          AS `PRICE PER M²` \\\n",
    "          FROM estate\\\n",
    "          GROUP BY `LOCAL TYPE`, DATE\\\n",
    "          ORDER BY `LOCAL TYPE`, DATE\\\n",
    "          \").show()"
   ]
  },
  {
   "cell_type": "code",
   "execution_count": 56,
   "metadata": {},
   "outputs": [
    {
     "data": {
      "text/html": [
       "<div>\n",
       "<style scoped>\n",
       "    .dataframe tbody tr th:only-of-type {\n",
       "        vertical-align: middle;\n",
       "    }\n",
       "\n",
       "    .dataframe tbody tr th {\n",
       "        vertical-align: top;\n",
       "    }\n",
       "\n",
       "    .dataframe thead th {\n",
       "        text-align: right;\n",
       "    }\n",
       "</style>\n",
       "<table border=\"1\" class=\"dataframe\">\n",
       "  <thead>\n",
       "    <tr style=\"text-align: right;\">\n",
       "      <th></th>\n",
       "      <th>LOCAL TYPE</th>\n",
       "      <th>DATE</th>\n",
       "      <th>PRICE PER M²</th>\n",
       "    </tr>\n",
       "  </thead>\n",
       "  <tbody>\n",
       "    <tr>\n",
       "      <th>0</th>\n",
       "      <td>APARTMENT</td>\n",
       "      <td>01/2015</td>\n",
       "      <td>5494</td>\n",
       "    </tr>\n",
       "    <tr>\n",
       "      <th>1</th>\n",
       "      <td>APARTMENT</td>\n",
       "      <td>01/2016</td>\n",
       "      <td>5017</td>\n",
       "    </tr>\n",
       "    <tr>\n",
       "      <th>2</th>\n",
       "      <td>APARTMENT</td>\n",
       "      <td>01/2017</td>\n",
       "      <td>5944</td>\n",
       "    </tr>\n",
       "    <tr>\n",
       "      <th>3</th>\n",
       "      <td>APARTMENT</td>\n",
       "      <td>01/2018</td>\n",
       "      <td>6645</td>\n",
       "    </tr>\n",
       "    <tr>\n",
       "      <th>4</th>\n",
       "      <td>APARTMENT</td>\n",
       "      <td>01/2019</td>\n",
       "      <td>6531</td>\n",
       "    </tr>\n",
       "    <tr>\n",
       "      <th>...</th>\n",
       "      <td>...</td>\n",
       "      <td>...</td>\n",
       "      <td>...</td>\n",
       "    </tr>\n",
       "    <tr>\n",
       "      <th>103</th>\n",
       "      <td>HOUSE</td>\n",
       "      <td>11/2018</td>\n",
       "      <td>4336</td>\n",
       "    </tr>\n",
       "    <tr>\n",
       "      <th>104</th>\n",
       "      <td>HOUSE</td>\n",
       "      <td>12/2015</td>\n",
       "      <td>3710</td>\n",
       "    </tr>\n",
       "    <tr>\n",
       "      <th>105</th>\n",
       "      <td>HOUSE</td>\n",
       "      <td>12/2016</td>\n",
       "      <td>3862</td>\n",
       "    </tr>\n",
       "    <tr>\n",
       "      <th>106</th>\n",
       "      <td>HOUSE</td>\n",
       "      <td>12/2017</td>\n",
       "      <td>4105</td>\n",
       "    </tr>\n",
       "    <tr>\n",
       "      <th>107</th>\n",
       "      <td>HOUSE</td>\n",
       "      <td>12/2018</td>\n",
       "      <td>4356</td>\n",
       "    </tr>\n",
       "  </tbody>\n",
       "</table>\n",
       "<p>108 rows × 3 columns</p>\n",
       "</div>"
      ],
      "text/plain": [
       "    LOCAL TYPE     DATE  PRICE PER M²\n",
       "0    APARTMENT  01/2015          5494\n",
       "1    APARTMENT  01/2016          5017\n",
       "2    APARTMENT  01/2017          5944\n",
       "3    APARTMENT  01/2018          6645\n",
       "4    APARTMENT  01/2019          6531\n",
       "..         ...      ...           ...\n",
       "103      HOUSE  11/2018          4336\n",
       "104      HOUSE  12/2015          3710\n",
       "105      HOUSE  12/2016          3862\n",
       "106      HOUSE  12/2017          4105\n",
       "107      HOUSE  12/2018          4356\n",
       "\n",
       "[108 rows x 3 columns]"
      ]
     },
     "execution_count": 56,
     "metadata": {},
     "output_type": "execute_result"
    }
   ],
   "source": [
    "df_6 = spark.sql(\"SELECT `LOCAL TYPE`, SUBSTRING(`Sale Date`, 4, 7) as DATE, int(round(AVG(`Price per M²`))) \\\n",
    "          AS `PRICE PER M²` \\\n",
    "          FROM estate\\\n",
    "          GROUP BY `LOCAL TYPE`, DATE\\\n",
    "          ORDER BY `LOCAL TYPE`, DATE\\\n",
    "          \").toPandas()\n",
    "\n",
    "df_6"
   ]
  },
  {
   "cell_type": "code",
   "execution_count": 57,
   "metadata": {},
   "outputs": [],
   "source": [
    "df_6['DATE'] = pd.to_datetime(df_6['DATE'], format='%m/%Y')"
   ]
  },
  {
   "cell_type": "code",
   "execution_count": 58,
   "metadata": {},
   "outputs": [
    {
     "data": {
      "image/png": "[encoded data removed]",
      "text/plain": [
       "<Figure size 432x288 with 1 Axes>"
      ]
     },
     "metadata": {
      "needs_background": "light"
     },
     "output_type": "display_data"
    }
   ],
   "source": [
    "df_HOUSE = df_6[df_6['LOCAL TYPE'] == 'HOUSE']\n",
    "df_HOUSE = df_HOUSE.sort_values(by='DATE')\n",
    "\n",
    "plt.plot(df_HOUSE['DATE'], df_HOUSE['PRICE PER M²'], color='#E48619')\n",
    "plt.show()"
   ]
  },
  {
   "cell_type": "code",
   "execution_count": 59,
   "metadata": {},
   "outputs": [
    {
     "data": {
      "image/png": "[encoded data removed]",
      "text/plain": [
       "<Figure size 432x288 with 1 Axes>"
      ]
     },
     "metadata": {
      "needs_background": "light"
     },
     "output_type": "display_data"
    }
   ],
   "source": [
    "df_APARTMENT = df_6[df_6['LOCAL TYPE'] == 'APARTMENT']\n",
    "df_APARTMENT = df_APARTMENT.sort_values(by='DATE')\n",
    "\n",
    "plt.plot(df_APARTMENT['DATE'], df_APARTMENT['PRICE PER M²'], color='b')\n",
    "plt.show()"
   ]
  },
  {
   "cell_type": "code",
   "execution_count": 60,
   "metadata": {},
   "outputs": [
    {
     "data": {
      "image/png": "[encoded data removed]",
      "text/plain": [
       "<Figure size 432x288 with 1 Axes>"
      ]
     },
     "metadata": {
      "needs_background": "light"
     },
     "output_type": "display_data"
    }
   ],
   "source": [
    "plt.plot(df_APARTMENT['DATE'], df_APARTMENT['PRICE PER M²'], color='b')\n",
    "plt.plot(df_HOUSE['DATE'], df_HOUSE['PRICE PER M²'], color='#E48619')\n",
    "plt.show()"
   ]
  },
  {
   "cell_type": "markdown",
   "metadata": {},
   "source": [
    "Time series Analysis"
   ]
  },
  {
   "cell_type": "code",
   "execution_count": 368,
   "metadata": {},
   "outputs": [],
   "source": [
    "def forecast(df_aux, index1, index2): \n",
    "    ts_aux = pd.Series(df_aux['PRICE PER M²'].values, index = df_aux['DATE'])    \n",
    "   \n",
    "    model_auto = pm.auto_arima(ts_aux, seasonal=True, m=12)\n",
    "    mod_aux = ARIMA(ts_aux, order = (model_auto.order[0], model_auto.order[1], model_auto.order[2]), seasonal_order = (0,1,0,12))\n",
    "    \n",
    "    results_aux = mod_aux.fit()\n",
    "    \n",
    "    predVals_aux = results_aux.predict(index1, index2, typ='levels')\n",
    "    ts_for = pd.concat([ts_aux, predVals_aux], axis = 1, keys=['original', 'predicted'])\n",
    "    \n",
    "    return ts_for"
   ]
  },
  {
   "cell_type": "code",
   "execution_count": 369,
   "metadata": {},
   "outputs": [
    {
     "name": "stderr",
     "output_type": "stream",
     "text": [
      "/opt/conda/lib/python3.8/site-packages/statsmodels/tsa/base/tsa_model.py:524: ValueWarning: No frequency information was provided, so inferred frequency MS will be used.\n",
      "  warnings.warn('No frequency information was'\n",
      "/opt/conda/lib/python3.8/site-packages/statsmodels/tsa/base/tsa_model.py:524: ValueWarning: No frequency information was provided, so inferred frequency MS will be used.\n",
      "  warnings.warn('No frequency information was'\n",
      "/opt/conda/lib/python3.8/site-packages/statsmodels/tsa/base/tsa_model.py:524: ValueWarning: No frequency information was provided, so inferred frequency MS will be used.\n",
      "  warnings.warn('No frequency information was'\n",
      "/opt/conda/lib/python3.8/site-packages/statsmodels/tsa/base/tsa_model.py:524: ValueWarning: No frequency information was provided, so inferred frequency MS will be used.\n",
      "  warnings.warn('No frequency information was'\n",
      "/opt/conda/lib/python3.8/site-packages/statsmodels/tsa/base/tsa_model.py:524: ValueWarning: No frequency information was provided, so inferred frequency MS will be used.\n",
      "  warnings.warn('No frequency information was'\n",
      "/opt/conda/lib/python3.8/site-packages/statsmodels/tsa/base/tsa_model.py:524: ValueWarning: No frequency information was provided, so inferred frequency MS will be used.\n",
      "  warnings.warn('No frequency information was'\n"
     ]
    },
    {
     "data": {
      "image/png": "[encoded data removed]",
      "text/plain": [
       "<Figure size 432x288 with 1 Axes>"
      ]
     },
     "metadata": {
      "needs_background": "light"
     },
     "output_type": "display_data"
    }
   ],
   "source": [
    "plt.figure()\n",
    "plt.plot(forecast(df_APARTMENT, 54, 80))\n",
    "plt.title(\"Actual Vs. Forecasted Values\")\n",
    "\n",
    "plt.plot(forecast(df_HOUSE, 54, 80))\n",
    "plt.title(\"Actual Vs. Forecasted Values\")\n",
    "\n",
    "#plt.legend \n",
    "\n",
    "plt.show()"
   ]
  },
  {
   "cell_type": "markdown",
   "metadata": {},
   "source": [
    "## Graph 7 - Price per m² vs nb of rooms per city"
   ]
  },
  {
   "cell_type": "code",
   "execution_count": 794,
   "metadata": {},
   "outputs": [
    {
     "name": "stdout",
     "output_type": "stream",
     "text": [
      "+----+----------+--------------------+------+-----------+-------+--------------+----------+-----------+---------------+---------+------------------+-------+\n",
      "|City| Sale Date|           Sale Type| Price|Postal Code|Commune|Number of lots|Local Type|Living Area|Number of rooms|Land Area|      Price per M²|Cluster|\n",
      "+----+----------+--------------------+------+-----------+-------+--------------+----------+-----------+---------------+---------+------------------+-------+\n",
      "|NICE|26/03/2015|                SALE|102000|       6000|   NICE|             1| APARTMENT|       29.0|              2|      0.0|3517.2413793103447|      1|\n",
      "|NICE|10/04/2015|                SALE|239000|       6200|   NICE|             1| APARTMENT|       51.0|              2|      0.0| 4686.274509803921|      1|\n",
      "|NICE|23/03/2015|                SALE|410000|       6200|   NICE|             2| APARTMENT|       60.0|              3|      0.0| 6833.333333333333|      1|\n",
      "|NICE|08/04/2015|                SALE|215000|       6200|   NICE|             1| APARTMENT|       67.0|              3|      0.0| 3208.955223880597|      1|\n",
      "|NICE|20/03/2015|                SALE|625000|       6200|   NICE|             0|     HOUSE|      160.0|              5|    500.0|           3906.25|      1|\n",
      "|NICE|20/03/2015|                SALE|625000|       6200|   NICE|             0|     HOUSE|      160.0|              5|   1267.0|           3906.25|      1|\n",
      "|NICE|02/04/2015|                SALE|130000|       6200|   NICE|             1| APARTMENT|       31.0|              1|      0.0| 4193.548387096775|      1|\n",
      "|NICE|24/03/2015|                SALE|115000|       6000|   NICE|             2| APARTMENT|       50.0|              2|      0.0|            2300.0|      1|\n",
      "|NICE|03/04/2015|                SALE|172500|       6100|   NICE|             2| APARTMENT|       63.0|              4|      0.0| 2738.095238095238|      1|\n",
      "|NICE|09/04/2015|                SALE|360000|       6200|   NICE|             0|     HOUSE|      109.0|              5|    502.0|3302.7522935779816|      1|\n",
      "|NICE|07/04/2015|                SALE|249000|       6200|   NICE|             1| APARTMENT|       66.0|              3|      0.0|3772.7272727272725|      1|\n",
      "|NICE|23/03/2015|                SALE|223000|       6000|   NICE|             2| APARTMENT|       73.0|              3|      0.0| 3054.794520547945|      1|\n",
      "|NICE|24/03/2015|                SALE|108000|       6200|   NICE|             1| APARTMENT|       22.0|              1|      0.0| 4909.090909090909|      1|\n",
      "|NICE|08/04/2015|                SALE|142000|       6200|   NICE|             1| APARTMENT|       75.0|              3|      0.0|1893.3333333333333|      1|\n",
      "|NICE|07/04/2015|                SALE|283000|       6000|   NICE|             1| APARTMENT|       76.0|              3|      0.0| 3723.684210526316|      1|\n",
      "|NICE|26/03/2015|                SALE|173000|       6200|   NICE|             2| APARTMENT|       74.0|              3|      0.0| 2337.837837837838|      1|\n",
      "|NICE|17/04/2015|                SALE|660000|       6200|   NICE|             2| APARTMENT|      125.0|              5|      0.0|            5280.0|      1|\n",
      "|NICE|12/03/2015|SALE BEFORE COMPL...|126000|       6200|   NICE|             1| APARTMENT|       28.0|              1|      0.0|            4500.0|      1|\n",
      "|NICE|31/03/2015|                SALE|252030|       6000|   NICE|             2| APARTMENT|       79.0|              3|      0.0| 3190.253164556962|      1|\n",
      "|NICE|23/03/2015|                SALE|151000|       6200|   NICE|             1| APARTMENT|       34.0|              1|      0.0| 4441.176470588235|      1|\n",
      "+----+----------+--------------------+------+-----------+-------+--------------+----------+-----------+---------------+---------+------------------+-------+\n",
      "only showing top 20 rows\n",
      "\n"
     ]
    }
   ],
   "source": [
    "spark.sql(\"SELECT *\\\n",
    "          FROM estate\\\n",
    "          \").show()"
   ]
  },
  {
   "cell_type": "code",
   "execution_count": 800,
   "metadata": {},
   "outputs": [
    {
     "name": "stdout",
     "output_type": "stream",
     "text": [
      "+---------------+------------+\n",
      "|NUMBER OF ROOMS|PRICE PER M²|\n",
      "+---------------+------------+\n",
      "|              0|        7035|\n",
      "|              1|        7096|\n",
      "|              2|        6148|\n",
      "|              3|        5172|\n",
      "|              4|        4752|\n",
      "|              5|        5191|\n",
      "|              6|        5880|\n",
      "|              7|        5996|\n",
      "|              8|        6073|\n",
      "|              9|        6227|\n",
      "|             10|        6709|\n",
      "|             11|        5548|\n",
      "|             12|        6131|\n",
      "|             13|        3044|\n",
      "|             14|        6347|\n",
      "|             15|        7028|\n",
      "|             16|        3509|\n",
      "|             17|        9290|\n",
      "|             18|       30273|\n",
      "|             19|       10538|\n",
      "+---------------+------------+\n",
      "only showing top 20 rows\n",
      "\n"
     ]
    }
   ],
   "source": [
    "spark.sql(\"SELECT `NUMBER OF ROOMS`, int(round(AVG(`Price per M²`)))\\\n",
    "          AS `PRICE PER M²`\\\n",
    "          FROM estate\\\n",
    "          GROUP BY  `NUMBER OF ROOMS`\\\n",
    "          ORDER BY `NUMBER OF ROOMS`\\\n",
    "          \").show()"
   ]
  },
  {
   "cell_type": "code",
   "execution_count": 61,
   "metadata": {},
   "outputs": [
    {
     "data": {
      "text/html": [
       "<div>\n",
       "<style scoped>\n",
       "    .dataframe tbody tr th:only-of-type {\n",
       "        vertical-align: middle;\n",
       "    }\n",
       "\n",
       "    .dataframe tbody tr th {\n",
       "        vertical-align: top;\n",
       "    }\n",
       "\n",
       "    .dataframe thead th {\n",
       "        text-align: right;\n",
       "    }\n",
       "</style>\n",
       "<table border=\"1\" class=\"dataframe\">\n",
       "  <thead>\n",
       "    <tr style=\"text-align: right;\">\n",
       "      <th></th>\n",
       "      <th>NUMBER OF ROOMS</th>\n",
       "      <th>PRICE PER M²</th>\n",
       "    </tr>\n",
       "  </thead>\n",
       "  <tbody>\n",
       "    <tr>\n",
       "      <th>0</th>\n",
       "      <td>0</td>\n",
       "      <td>7035</td>\n",
       "    </tr>\n",
       "    <tr>\n",
       "      <th>1</th>\n",
       "      <td>1</td>\n",
       "      <td>7096</td>\n",
       "    </tr>\n",
       "    <tr>\n",
       "      <th>2</th>\n",
       "      <td>2</td>\n",
       "      <td>6148</td>\n",
       "    </tr>\n",
       "    <tr>\n",
       "      <th>3</th>\n",
       "      <td>3</td>\n",
       "      <td>5172</td>\n",
       "    </tr>\n",
       "    <tr>\n",
       "      <th>4</th>\n",
       "      <td>4</td>\n",
       "      <td>4752</td>\n",
       "    </tr>\n",
       "    <tr>\n",
       "      <th>5</th>\n",
       "      <td>5</td>\n",
       "      <td>5191</td>\n",
       "    </tr>\n",
       "    <tr>\n",
       "      <th>6</th>\n",
       "      <td>6</td>\n",
       "      <td>5880</td>\n",
       "    </tr>\n",
       "    <tr>\n",
       "      <th>7</th>\n",
       "      <td>7</td>\n",
       "      <td>5996</td>\n",
       "    </tr>\n",
       "    <tr>\n",
       "      <th>8</th>\n",
       "      <td>8</td>\n",
       "      <td>6073</td>\n",
       "    </tr>\n",
       "    <tr>\n",
       "      <th>9</th>\n",
       "      <td>9</td>\n",
       "      <td>6227</td>\n",
       "    </tr>\n",
       "    <tr>\n",
       "      <th>10</th>\n",
       "      <td>10</td>\n",
       "      <td>6709</td>\n",
       "    </tr>\n",
       "    <tr>\n",
       "      <th>11</th>\n",
       "      <td>11</td>\n",
       "      <td>5548</td>\n",
       "    </tr>\n",
       "    <tr>\n",
       "      <th>12</th>\n",
       "      <td>12</td>\n",
       "      <td>6131</td>\n",
       "    </tr>\n",
       "    <tr>\n",
       "      <th>13</th>\n",
       "      <td>13</td>\n",
       "      <td>3044</td>\n",
       "    </tr>\n",
       "    <tr>\n",
       "      <th>14</th>\n",
       "      <td>14</td>\n",
       "      <td>6347</td>\n",
       "    </tr>\n",
       "    <tr>\n",
       "      <th>15</th>\n",
       "      <td>15</td>\n",
       "      <td>7028</td>\n",
       "    </tr>\n",
       "    <tr>\n",
       "      <th>16</th>\n",
       "      <td>16</td>\n",
       "      <td>3509</td>\n",
       "    </tr>\n",
       "    <tr>\n",
       "      <th>17</th>\n",
       "      <td>17</td>\n",
       "      <td>9290</td>\n",
       "    </tr>\n",
       "    <tr>\n",
       "      <th>18</th>\n",
       "      <td>18</td>\n",
       "      <td>30273</td>\n",
       "    </tr>\n",
       "    <tr>\n",
       "      <th>19</th>\n",
       "      <td>19</td>\n",
       "      <td>10538</td>\n",
       "    </tr>\n",
       "    <tr>\n",
       "      <th>20</th>\n",
       "      <td>20</td>\n",
       "      <td>10442</td>\n",
       "    </tr>\n",
       "    <tr>\n",
       "      <th>21</th>\n",
       "      <td>21</td>\n",
       "      <td>2414</td>\n",
       "    </tr>\n",
       "    <tr>\n",
       "      <th>22</th>\n",
       "      <td>22</td>\n",
       "      <td>4704</td>\n",
       "    </tr>\n",
       "    <tr>\n",
       "      <th>23</th>\n",
       "      <td>23</td>\n",
       "      <td>1129</td>\n",
       "    </tr>\n",
       "    <tr>\n",
       "      <th>24</th>\n",
       "      <td>24</td>\n",
       "      <td>3247</td>\n",
       "    </tr>\n",
       "    <tr>\n",
       "      <th>25</th>\n",
       "      <td>25</td>\n",
       "      <td>3007</td>\n",
       "    </tr>\n",
       "  </tbody>\n",
       "</table>\n",
       "</div>"
      ],
      "text/plain": [
       "    NUMBER OF ROOMS  PRICE PER M²\n",
       "0                 0          7035\n",
       "1                 1          7096\n",
       "2                 2          6148\n",
       "3                 3          5172\n",
       "4                 4          4752\n",
       "5                 5          5191\n",
       "6                 6          5880\n",
       "7                 7          5996\n",
       "8                 8          6073\n",
       "9                 9          6227\n",
       "10               10          6709\n",
       "11               11          5548\n",
       "12               12          6131\n",
       "13               13          3044\n",
       "14               14          6347\n",
       "15               15          7028\n",
       "16               16          3509\n",
       "17               17          9290\n",
       "18               18         30273\n",
       "19               19         10538\n",
       "20               20         10442\n",
       "21               21          2414\n",
       "22               22          4704\n",
       "23               23          1129\n",
       "24               24          3247\n",
       "25               25          3007"
      ]
     },
     "execution_count": 61,
     "metadata": {},
     "output_type": "execute_result"
    }
   ],
   "source": [
    "df_7 = spark.sql(\"SELECT `NUMBER OF ROOMS`, int(round(AVG(`Price per M²`)))\\\n",
    "          AS `PRICE PER M²`\\\n",
    "          FROM estate\\\n",
    "          GROUP BY  `NUMBER OF ROOMS`\\\n",
    "          ORDER BY `NUMBER OF ROOMS`\\\n",
    "          \").toPandas()\n",
    "df_7"
   ]
  },
  {
   "cell_type": "code",
   "execution_count": 129,
   "metadata": {},
   "outputs": [
    {
     "data": {
      "text/plain": [
       "Text(0, 0.5, 'Price per m² (€)')"
      ]
     },
     "execution_count": 129,
     "metadata": {},
     "output_type": "execute_result"
    },
    {
     "data": {
      "image/png": "[encoded data removed]",
      "text/plain": [
       "<Figure size 432x288 with 1 Axes>"
      ]
     },
     "metadata": {
      "needs_background": "light"
     },
     "output_type": "display_data"
    }
   ],
   "source": [
    "barplot_7 = df_7.plot.bar(x='NUMBER OF ROOMS', y='PRICE PER M²')\n",
    "\n",
    "barplot_7.set_ylabel(\"Price per m² (€)\")\n",
    "\n",
    "#for p in barplot.patches:\n",
    "#    barplot.annotate(str(p.get_height()), (p.get_x() * 1.005, p.get_height() * 1.005))"
   ]
  },
  {
   "cell_type": "markdown",
   "metadata": {},
   "source": [
    "## Graph 8 - Total number of sales per price"
   ]
  },
  {
   "cell_type": "code",
   "execution_count": 63,
   "metadata": {},
   "outputs": [
    {
     "name": "stdout",
     "output_type": "stream",
     "text": [
      "+----+----------+--------------------+------+-----------+-------+--------------+----------+-----------+---------------+---------+------------------+-------+\n",
      "|City| Sale Date|           Sale Type| Price|Postal Code|Commune|Number of lots|Local Type|Living Area|Number of rooms|Land Area|      Price per M²|Cluster|\n",
      "+----+----------+--------------------+------+-----------+-------+--------------+----------+-----------+---------------+---------+------------------+-------+\n",
      "|NICE|26/03/2015|                SALE|102000|       6000|   NICE|             1| APARTMENT|       29.0|              2|      0.0|3517.2413793103447|      1|\n",
      "|NICE|10/04/2015|                SALE|239000|       6200|   NICE|             1| APARTMENT|       51.0|              2|      0.0| 4686.274509803921|      1|\n",
      "|NICE|23/03/2015|                SALE|410000|       6200|   NICE|             2| APARTMENT|       60.0|              3|      0.0| 6833.333333333333|      1|\n",
      "|NICE|08/04/2015|                SALE|215000|       6200|   NICE|             1| APARTMENT|       67.0|              3|      0.0| 3208.955223880597|      1|\n",
      "|NICE|20/03/2015|                SALE|625000|       6200|   NICE|             0|     HOUSE|      160.0|              5|    500.0|           3906.25|      1|\n",
      "|NICE|20/03/2015|                SALE|625000|       6200|   NICE|             0|     HOUSE|      160.0|              5|   1267.0|           3906.25|      1|\n",
      "|NICE|02/04/2015|                SALE|130000|       6200|   NICE|             1| APARTMENT|       31.0|              1|      0.0| 4193.548387096775|      1|\n",
      "|NICE|24/03/2015|                SALE|115000|       6000|   NICE|             2| APARTMENT|       50.0|              2|      0.0|            2300.0|      1|\n",
      "|NICE|03/04/2015|                SALE|172500|       6100|   NICE|             2| APARTMENT|       63.0|              4|      0.0| 2738.095238095238|      1|\n",
      "|NICE|09/04/2015|                SALE|360000|       6200|   NICE|             0|     HOUSE|      109.0|              5|    502.0|3302.7522935779816|      1|\n",
      "|NICE|07/04/2015|                SALE|249000|       6200|   NICE|             1| APARTMENT|       66.0|              3|      0.0|3772.7272727272725|      1|\n",
      "|NICE|23/03/2015|                SALE|223000|       6000|   NICE|             2| APARTMENT|       73.0|              3|      0.0| 3054.794520547945|      1|\n",
      "|NICE|24/03/2015|                SALE|108000|       6200|   NICE|             1| APARTMENT|       22.0|              1|      0.0| 4909.090909090909|      1|\n",
      "|NICE|08/04/2015|                SALE|142000|       6200|   NICE|             1| APARTMENT|       75.0|              3|      0.0|1893.3333333333333|      1|\n",
      "|NICE|07/04/2015|                SALE|283000|       6000|   NICE|             1| APARTMENT|       76.0|              3|      0.0| 3723.684210526316|      1|\n",
      "|NICE|26/03/2015|                SALE|173000|       6200|   NICE|             2| APARTMENT|       74.0|              3|      0.0| 2337.837837837838|      1|\n",
      "|NICE|17/04/2015|                SALE|660000|       6200|   NICE|             2| APARTMENT|      125.0|              5|      0.0|            5280.0|      1|\n",
      "|NICE|12/03/2015|SALE BEFORE COMPL...|126000|       6200|   NICE|             1| APARTMENT|       28.0|              1|      0.0|            4500.0|      1|\n",
      "|NICE|31/03/2015|                SALE|252030|       6000|   NICE|             2| APARTMENT|       79.0|              3|      0.0| 3190.253164556962|      1|\n",
      "|NICE|23/03/2015|                SALE|151000|       6200|   NICE|             1| APARTMENT|       34.0|              1|      0.0| 4441.176470588235|      1|\n",
      "+----+----------+--------------------+------+-----------+-------+--------------+----------+-----------+---------------+---------+------------------+-------+\n",
      "only showing top 20 rows\n",
      "\n"
     ]
    }
   ],
   "source": [
    "spark.sql(\"SELECT *\\\n",
    "          FROM estate\\\n",
    "          \").show()"
   ]
  },
  {
   "cell_type": "code",
   "execution_count": 101,
   "metadata": {},
   "outputs": [
    {
     "name": "stdout",
     "output_type": "stream",
     "text": [
      "+-------+---------------+\n",
      "|  PRICE|NUMBER OF SALES|\n",
      "+-------+---------------+\n",
      "| 100000|         136510|\n",
      "| 200000|          87305|\n",
      "|      0|          55422|\n",
      "| 300000|          48655|\n",
      "| 400000|          29600|\n",
      "| 500000|          18829|\n",
      "| 600000|          12623|\n",
      "| 700000|           8675|\n",
      "| 800000|           6437|\n",
      "| 900000|           4396|\n",
      "|1000000|           3532|\n",
      "|1100000|           2657|\n",
      "|1200000|           2238|\n",
      "|1300000|           1734|\n",
      "|1400000|           1362|\n",
      "|1500000|           1194|\n",
      "|1600000|            882|\n",
      "|1700000|            842|\n",
      "|1800000|            679|\n",
      "|2000000|            500|\n",
      "+-------+---------------+\n",
      "only showing top 20 rows\n",
      "\n"
     ]
    }
   ],
   "source": [
    "spark.sql(\"SELECT FLOOR(PRICE/100000)*100000 AS PRICE, COUNT(*) AS `NUMBER OF SALES`\\\n",
    "                FROM ESTATE\\\n",
    "                GROUP BY FLOOR(PRICE/100000)*100000\\\n",
    "                ORDER BY COUNT(*) DESC\\\n",
    "          \").show()"
   ]
  },
  {
   "cell_type": "code",
   "execution_count": 102,
   "metadata": {},
   "outputs": [
    {
     "data": {
      "text/html": [
       "<div>\n",
       "<style scoped>\n",
       "    .dataframe tbody tr th:only-of-type {\n",
       "        vertical-align: middle;\n",
       "    }\n",
       "\n",
       "    .dataframe tbody tr th {\n",
       "        vertical-align: top;\n",
       "    }\n",
       "\n",
       "    .dataframe thead th {\n",
       "        text-align: right;\n",
       "    }\n",
       "</style>\n",
       "<table border=\"1\" class=\"dataframe\">\n",
       "  <thead>\n",
       "    <tr style=\"text-align: right;\">\n",
       "      <th></th>\n",
       "      <th>PRICE</th>\n",
       "      <th>CLUSTER</th>\n",
       "      <th>NUMBER OF SALES</th>\n",
       "    </tr>\n",
       "  </thead>\n",
       "  <tbody>\n",
       "    <tr>\n",
       "      <th>0</th>\n",
       "      <td>100000</td>\n",
       "      <td>2</td>\n",
       "      <td>77666</td>\n",
       "    </tr>\n",
       "    <tr>\n",
       "      <th>1</th>\n",
       "      <td>0</td>\n",
       "      <td>2</td>\n",
       "      <td>40154</td>\n",
       "    </tr>\n",
       "    <tr>\n",
       "      <th>2</th>\n",
       "      <td>100000</td>\n",
       "      <td>1</td>\n",
       "      <td>36171</td>\n",
       "    </tr>\n",
       "    <tr>\n",
       "      <th>3</th>\n",
       "      <td>200000</td>\n",
       "      <td>2</td>\n",
       "      <td>34838</td>\n",
       "    </tr>\n",
       "    <tr>\n",
       "      <th>4</th>\n",
       "      <td>200000</td>\n",
       "      <td>0</td>\n",
       "      <td>29461</td>\n",
       "    </tr>\n",
       "    <tr>\n",
       "      <th>...</th>\n",
       "      <td>...</td>\n",
       "      <td>...</td>\n",
       "      <td>...</td>\n",
       "    </tr>\n",
       "    <tr>\n",
       "      <th>173</th>\n",
       "      <td>3200000</td>\n",
       "      <td>1</td>\n",
       "      <td>1</td>\n",
       "    </tr>\n",
       "    <tr>\n",
       "      <th>174</th>\n",
       "      <td>2700000</td>\n",
       "      <td>2</td>\n",
       "      <td>1</td>\n",
       "    </tr>\n",
       "    <tr>\n",
       "      <th>175</th>\n",
       "      <td>3700000</td>\n",
       "      <td>2</td>\n",
       "      <td>1</td>\n",
       "    </tr>\n",
       "    <tr>\n",
       "      <th>176</th>\n",
       "      <td>2600000</td>\n",
       "      <td>2</td>\n",
       "      <td>1</td>\n",
       "    </tr>\n",
       "    <tr>\n",
       "      <th>177</th>\n",
       "      <td>2400000</td>\n",
       "      <td>2</td>\n",
       "      <td>1</td>\n",
       "    </tr>\n",
       "  </tbody>\n",
       "</table>\n",
       "<p>178 rows × 3 columns</p>\n",
       "</div>"
      ],
      "text/plain": [
       "       PRICE  CLUSTER  NUMBER OF SALES\n",
       "0     100000        2            77666\n",
       "1          0        2            40154\n",
       "2     100000        1            36171\n",
       "3     200000        2            34838\n",
       "4     200000        0            29461\n",
       "..       ...      ...              ...\n",
       "173  3200000        1                1\n",
       "174  2700000        2                1\n",
       "175  3700000        2                1\n",
       "176  2600000        2                1\n",
       "177  2400000        2                1\n",
       "\n",
       "[178 rows x 3 columns]"
      ]
     },
     "execution_count": 102,
     "metadata": {},
     "output_type": "execute_result"
    }
   ],
   "source": [
    "df_8 = spark.sql(\"SELECT FLOOR(PRICE/100000)*100000 AS PRICE, CLUSTER, COUNT(*) AS `NUMBER OF SALES`\\\n",
    "                FROM ESTATE\\\n",
    "                GROUP BY FLOOR(PRICE/100000)*100000, CLUSTER\\\n",
    "                ORDER BY COUNT(*) DESC, CLUSTER\\\n",
    "          \").toPandas()\n",
    "df_8"
   ]
  },
  {
   "cell_type": "code",
   "execution_count": 103,
   "metadata": {
    "scrolled": false
   },
   "outputs": [
    {
     "data": {
      "image/png": "[encoded data removed]",
      "text/plain": [
       "<Figure size 720x576 with 1 Axes>"
      ]
     },
     "metadata": {
      "needs_background": "light"
     },
     "output_type": "display_data"
    }
   ],
   "source": [
    "df_8_bis = df_8.groupby(['PRICE'])['NUMBER OF SALES'].sum()\n",
    "\n",
    "df_8_bis_bis = pd.DataFrame({'PRICE':df_8_bis.index, 'NUMBER OF SALES':df_8_bis.values}).sort_values(by=['NUMBER OF SALES'], ascending=False)\n",
    "df_8_bis_bis\n",
    "\n",
    "#df_8_bis_bis[df_8_bis_bis['PRICE']==100000].index.values.astype(int)[0]\n",
    "\n",
    "barplot_8_bis_bis = df_8_bis_bis[df_8_bis_bis['PRICE'] < 1000000].plot.bar(x='PRICE', y='NUMBER OF SALES')\n",
    "\n",
    "barplot_8_bis_bis.set_ylabel(\"Number of sales\")\n",
    "\n",
    "k=1\n",
    "for p in barplot_8_bis_bis.patches:\n",
    "    barplot_8_bis_bis.annotate(str(df_8_bis_bis[df_8_bis_bis['PRICE']==df_8_bis_bis.loc[k]['PRICE']].index.values.astype(int)[0]), (p.get_x() * 1.005, p.get_height() * 1.005))\n",
    "    k += 1"
   ]
  },
  {
   "cell_type": "code",
   "execution_count": 104,
   "metadata": {
    "scrolled": true
   },
   "outputs": [
    {
     "data": {
      "text/plain": [
       "[136510, 87305, 55422, 48655, 29600, 18829, 12623, 8675, 6437, 4396]"
      ]
     },
     "execution_count": 104,
     "metadata": {},
     "output_type": "execute_result"
    }
   ],
   "source": [
    "#df_8_temp = df_8[df_8_bis_bis['PRICE'] < 1000000]\n",
    "\n",
    "df_8_pivot = df_8[df_8['PRICE'] < 1000000].pivot(index='PRICE', columns='CLUSTER', values='NUMBER OF SALES').fillna(0)\n",
    "#df_8_pivot[0] \n",
    "\n",
    "df_8_pivot[\"sum_row\"] = df_8_pivot[0] + df_8_pivot[1] + df_8_pivot[2]\n",
    "df_8_pivot = df_8_pivot.sort_values(\"sum_row\", ascending=False)\n",
    "\n",
    "list_ranking = list(df_8_pivot[\"sum_row\"])\n",
    "\n",
    "df_8_pivot = df_8_pivot.drop(\"sum_row\", axis=1)\n",
    "\n",
    "df_8_pivot\n",
    "list_ranking"
   ]
  },
  {
   "cell_type": "code",
   "execution_count": 105,
   "metadata": {},
   "outputs": [
    {
     "data": {
      "image/png": "[encoded data removed]",
      "text/plain": [
       "<Figure size 720x576 with 1 Axes>"
      ]
     },
     "metadata": {
      "needs_background": "light"
     },
     "output_type": "display_data"
    }
   ],
   "source": [
    "barplot_8_pivot = df_8_pivot.plot(kind='bar', stacked=True, color = colors)\n",
    "\n",
    "barplot_8_pivot.set_ylabel(\"Number of Sales\")\n",
    "\n",
    "barplot_8_pivot.set_title('Top 10 number of sales per price and per cluster ')\n",
    "\n",
    "for p in barplot_8_pivot.patches:\n",
    "    width, height = p.get_width(), p.get_height()\n",
    "    x, y = p.get_xy() \n",
    "    barplot_8_pivot.text(x+width/2, \n",
    "            y+height/2, \n",
    "            '{:.0f}'.format(height), \n",
    "            horizontalalignment='center', \n",
    "            verticalalignment='center')\n",
    "    \n",
    "j=1 \n",
    "for p in barplot_8_pivot.patches:\n",
    "    if j<=10:\n",
    "        barplot_8_pivot.annotate(str(j), (p.get_x() * 1.01, list_ranking[j-1] * 1.005))\n",
    "        j += 1\n",
    "        \n",
    "plt.rcParams['figure.figsize'] = (20,8)"
   ]
  },
  {
   "cell_type": "markdown",
   "metadata": {},
   "source": [
    "## Graph 9 - Price per m² per city per year"
   ]
  },
  {
   "cell_type": "code",
   "execution_count": 70,
   "metadata": {
    "scrolled": false
   },
   "outputs": [
    {
     "name": "stdout",
     "output_type": "stream",
     "text": [
      "root\n",
      " |-- City: string (nullable = false)\n",
      " |-- Sale Date: string (nullable = false)\n",
      " |-- Sale Type: string (nullable = false)\n",
      " |-- Price: long (nullable = false)\n",
      " |-- Postal Code: string (nullable = false)\n",
      " |-- Commune: string (nullable = false)\n",
      " |-- Number of lots: long (nullable = false)\n",
      " |-- Local Type: string (nullable = false)\n",
      " |-- Living Area: double (nullable = false)\n",
      " |-- Number of rooms: long (nullable = false)\n",
      " |-- Land Area: double (nullable = false)\n",
      " |-- Price per M²: double (nullable = false)\n",
      " |-- Cluster: integer (nullable = false)\n",
      "\n"
     ]
    }
   ],
   "source": [
    "estate_clean_df_explicit.printSchema()"
   ]
  },
  {
   "cell_type": "code",
   "execution_count": 181,
   "metadata": {},
   "outputs": [
    {
     "name": "stdout",
     "output_type": "stream",
     "text": [
      "+--------+----+------------+-------+\n",
      "|    CITY|DATE|PRICE PER M²|CLUSTER|\n",
      "+--------+----+------------+-------+\n",
      "|   PARIS|2015|        9159|      0|\n",
      "|   PARIS|2016|        9602|      0|\n",
      "|   PARIS|2017|        9978|      0|\n",
      "|   PARIS|2018|       10810|      0|\n",
      "|   PARIS|2019|       11187|      0|\n",
      "|BORDEAUX|2015|        3828|      1|\n",
      "|BORDEAUX|2016|        3889|      1|\n",
      "|BORDEAUX|2017|        4324|      1|\n",
      "|BORDEAUX|2018|        4778|      1|\n",
      "|BORDEAUX|2019|        4864|      1|\n",
      "|    LYON|2015|        3787|      1|\n",
      "|    LYON|2016|        3850|      1|\n",
      "|    LYON|2017|        4045|      1|\n",
      "|    LYON|2018|        4255|      1|\n",
      "|    LYON|2019|        4340|      1|\n",
      "|    NICE|2015|        4069|      1|\n",
      "|    NICE|2016|        4058|      1|\n",
      "|    NICE|2017|        4155|      1|\n",
      "|    NICE|2018|        4230|      1|\n",
      "|    NICE|2019|        4267|      1|\n",
      "+--------+----+------------+-------+\n",
      "only showing top 20 rows\n",
      "\n"
     ]
    }
   ],
   "source": [
    "spark.sql(\"SELECT CITY, SUBSTRING(`Sale Date`, 7, 4) as DATE, int(round(AVG(`Price per M²`))) \\\n",
    "          AS `PRICE PER M²`, CLUSTER \\\n",
    "          FROM estate\\\n",
    "          GROUP BY CITY, DATE, CLUSTER\\\n",
    "          ORDER BY CLUSTER, CITY, DATE\\\n",
    "          \").show()"
   ]
  },
  {
   "cell_type": "code",
   "execution_count": 106,
   "metadata": {
    "scrolled": true
   },
   "outputs": [
    {
     "data": {
      "text/html": [
       "<div>\n",
       "<style scoped>\n",
       "    .dataframe tbody tr th:only-of-type {\n",
       "        vertical-align: middle;\n",
       "    }\n",
       "\n",
       "    .dataframe tbody tr th {\n",
       "        vertical-align: top;\n",
       "    }\n",
       "\n",
       "    .dataframe thead th {\n",
       "        text-align: right;\n",
       "    }\n",
       "</style>\n",
       "<table border=\"1\" class=\"dataframe\">\n",
       "  <thead>\n",
       "    <tr style=\"text-align: right;\">\n",
       "      <th></th>\n",
       "      <th>CITY</th>\n",
       "      <th>DATE</th>\n",
       "      <th>PRICE PER M²</th>\n",
       "      <th>CLUSTER</th>\n",
       "    </tr>\n",
       "  </thead>\n",
       "  <tbody>\n",
       "    <tr>\n",
       "      <th>0</th>\n",
       "      <td>PARIS</td>\n",
       "      <td>2015</td>\n",
       "      <td>9159</td>\n",
       "      <td>0</td>\n",
       "    </tr>\n",
       "    <tr>\n",
       "      <th>1</th>\n",
       "      <td>PARIS</td>\n",
       "      <td>2016</td>\n",
       "      <td>9602</td>\n",
       "      <td>0</td>\n",
       "    </tr>\n",
       "    <tr>\n",
       "      <th>2</th>\n",
       "      <td>PARIS</td>\n",
       "      <td>2017</td>\n",
       "      <td>9978</td>\n",
       "      <td>0</td>\n",
       "    </tr>\n",
       "    <tr>\n",
       "      <th>3</th>\n",
       "      <td>PARIS</td>\n",
       "      <td>2018</td>\n",
       "      <td>10810</td>\n",
       "      <td>0</td>\n",
       "    </tr>\n",
       "    <tr>\n",
       "      <th>4</th>\n",
       "      <td>PARIS</td>\n",
       "      <td>2019</td>\n",
       "      <td>11187</td>\n",
       "      <td>0</td>\n",
       "    </tr>\n",
       "    <tr>\n",
       "      <th>5</th>\n",
       "      <td>BORDEAUX</td>\n",
       "      <td>2015</td>\n",
       "      <td>3828</td>\n",
       "      <td>1</td>\n",
       "    </tr>\n",
       "    <tr>\n",
       "      <th>6</th>\n",
       "      <td>BORDEAUX</td>\n",
       "      <td>2016</td>\n",
       "      <td>3889</td>\n",
       "      <td>1</td>\n",
       "    </tr>\n",
       "    <tr>\n",
       "      <th>7</th>\n",
       "      <td>BORDEAUX</td>\n",
       "      <td>2017</td>\n",
       "      <td>4324</td>\n",
       "      <td>1</td>\n",
       "    </tr>\n",
       "    <tr>\n",
       "      <th>8</th>\n",
       "      <td>BORDEAUX</td>\n",
       "      <td>2018</td>\n",
       "      <td>4778</td>\n",
       "      <td>1</td>\n",
       "    </tr>\n",
       "    <tr>\n",
       "      <th>9</th>\n",
       "      <td>BORDEAUX</td>\n",
       "      <td>2019</td>\n",
       "      <td>4864</td>\n",
       "      <td>1</td>\n",
       "    </tr>\n",
       "    <tr>\n",
       "      <th>10</th>\n",
       "      <td>LYON</td>\n",
       "      <td>2015</td>\n",
       "      <td>3787</td>\n",
       "      <td>1</td>\n",
       "    </tr>\n",
       "    <tr>\n",
       "      <th>11</th>\n",
       "      <td>LYON</td>\n",
       "      <td>2016</td>\n",
       "      <td>3850</td>\n",
       "      <td>1</td>\n",
       "    </tr>\n",
       "    <tr>\n",
       "      <th>12</th>\n",
       "      <td>LYON</td>\n",
       "      <td>2017</td>\n",
       "      <td>4045</td>\n",
       "      <td>1</td>\n",
       "    </tr>\n",
       "    <tr>\n",
       "      <th>13</th>\n",
       "      <td>LYON</td>\n",
       "      <td>2018</td>\n",
       "      <td>4255</td>\n",
       "      <td>1</td>\n",
       "    </tr>\n",
       "    <tr>\n",
       "      <th>14</th>\n",
       "      <td>LYON</td>\n",
       "      <td>2019</td>\n",
       "      <td>4340</td>\n",
       "      <td>1</td>\n",
       "    </tr>\n",
       "    <tr>\n",
       "      <th>15</th>\n",
       "      <td>NICE</td>\n",
       "      <td>2015</td>\n",
       "      <td>4069</td>\n",
       "      <td>1</td>\n",
       "    </tr>\n",
       "    <tr>\n",
       "      <th>16</th>\n",
       "      <td>NICE</td>\n",
       "      <td>2016</td>\n",
       "      <td>4058</td>\n",
       "      <td>1</td>\n",
       "    </tr>\n",
       "    <tr>\n",
       "      <th>17</th>\n",
       "      <td>NICE</td>\n",
       "      <td>2017</td>\n",
       "      <td>4155</td>\n",
       "      <td>1</td>\n",
       "    </tr>\n",
       "    <tr>\n",
       "      <th>18</th>\n",
       "      <td>NICE</td>\n",
       "      <td>2018</td>\n",
       "      <td>4230</td>\n",
       "      <td>1</td>\n",
       "    </tr>\n",
       "    <tr>\n",
       "      <th>19</th>\n",
       "      <td>NICE</td>\n",
       "      <td>2019</td>\n",
       "      <td>4267</td>\n",
       "      <td>1</td>\n",
       "    </tr>\n",
       "    <tr>\n",
       "      <th>20</th>\n",
       "      <td>LILLE</td>\n",
       "      <td>2015</td>\n",
       "      <td>3065</td>\n",
       "      <td>2</td>\n",
       "    </tr>\n",
       "    <tr>\n",
       "      <th>21</th>\n",
       "      <td>LILLE</td>\n",
       "      <td>2016</td>\n",
       "      <td>3079</td>\n",
       "      <td>2</td>\n",
       "    </tr>\n",
       "    <tr>\n",
       "      <th>22</th>\n",
       "      <td>LILLE</td>\n",
       "      <td>2017</td>\n",
       "      <td>3225</td>\n",
       "      <td>2</td>\n",
       "    </tr>\n",
       "    <tr>\n",
       "      <th>23</th>\n",
       "      <td>LILLE</td>\n",
       "      <td>2018</td>\n",
       "      <td>3323</td>\n",
       "      <td>2</td>\n",
       "    </tr>\n",
       "    <tr>\n",
       "      <th>24</th>\n",
       "      <td>LILLE</td>\n",
       "      <td>2019</td>\n",
       "      <td>3359</td>\n",
       "      <td>2</td>\n",
       "    </tr>\n",
       "    <tr>\n",
       "      <th>25</th>\n",
       "      <td>MARSEILLE</td>\n",
       "      <td>2015</td>\n",
       "      <td>3130</td>\n",
       "      <td>2</td>\n",
       "    </tr>\n",
       "    <tr>\n",
       "      <th>26</th>\n",
       "      <td>MARSEILLE</td>\n",
       "      <td>2016</td>\n",
       "      <td>3066</td>\n",
       "      <td>2</td>\n",
       "    </tr>\n",
       "    <tr>\n",
       "      <th>27</th>\n",
       "      <td>MARSEILLE</td>\n",
       "      <td>2017</td>\n",
       "      <td>3151</td>\n",
       "      <td>2</td>\n",
       "    </tr>\n",
       "    <tr>\n",
       "      <th>28</th>\n",
       "      <td>MARSEILLE</td>\n",
       "      <td>2018</td>\n",
       "      <td>3134</td>\n",
       "      <td>2</td>\n",
       "    </tr>\n",
       "    <tr>\n",
       "      <th>29</th>\n",
       "      <td>MARSEILLE</td>\n",
       "      <td>2019</td>\n",
       "      <td>3136</td>\n",
       "      <td>2</td>\n",
       "    </tr>\n",
       "    <tr>\n",
       "      <th>30</th>\n",
       "      <td>MONTPELLIER</td>\n",
       "      <td>2015</td>\n",
       "      <td>3181</td>\n",
       "      <td>2</td>\n",
       "    </tr>\n",
       "    <tr>\n",
       "      <th>31</th>\n",
       "      <td>MONTPELLIER</td>\n",
       "      <td>2016</td>\n",
       "      <td>3099</td>\n",
       "      <td>2</td>\n",
       "    </tr>\n",
       "    <tr>\n",
       "      <th>32</th>\n",
       "      <td>MONTPELLIER</td>\n",
       "      <td>2017</td>\n",
       "      <td>3242</td>\n",
       "      <td>2</td>\n",
       "    </tr>\n",
       "    <tr>\n",
       "      <th>33</th>\n",
       "      <td>MONTPELLIER</td>\n",
       "      <td>2018</td>\n",
       "      <td>3094</td>\n",
       "      <td>2</td>\n",
       "    </tr>\n",
       "    <tr>\n",
       "      <th>34</th>\n",
       "      <td>MONTPELLIER</td>\n",
       "      <td>2019</td>\n",
       "      <td>4526</td>\n",
       "      <td>2</td>\n",
       "    </tr>\n",
       "    <tr>\n",
       "      <th>35</th>\n",
       "      <td>NANTES</td>\n",
       "      <td>2015</td>\n",
       "      <td>3060</td>\n",
       "      <td>2</td>\n",
       "    </tr>\n",
       "    <tr>\n",
       "      <th>36</th>\n",
       "      <td>NANTES</td>\n",
       "      <td>2016</td>\n",
       "      <td>3052</td>\n",
       "      <td>2</td>\n",
       "    </tr>\n",
       "    <tr>\n",
       "      <th>37</th>\n",
       "      <td>NANTES</td>\n",
       "      <td>2017</td>\n",
       "      <td>3174</td>\n",
       "      <td>2</td>\n",
       "    </tr>\n",
       "    <tr>\n",
       "      <th>38</th>\n",
       "      <td>NANTES</td>\n",
       "      <td>2018</td>\n",
       "      <td>3319</td>\n",
       "      <td>2</td>\n",
       "    </tr>\n",
       "    <tr>\n",
       "      <th>39</th>\n",
       "      <td>NANTES</td>\n",
       "      <td>2019</td>\n",
       "      <td>3501</td>\n",
       "      <td>2</td>\n",
       "    </tr>\n",
       "    <tr>\n",
       "      <th>40</th>\n",
       "      <td>TOULOUSE</td>\n",
       "      <td>2015</td>\n",
       "      <td>3120</td>\n",
       "      <td>2</td>\n",
       "    </tr>\n",
       "    <tr>\n",
       "      <th>41</th>\n",
       "      <td>TOULOUSE</td>\n",
       "      <td>2016</td>\n",
       "      <td>3214</td>\n",
       "      <td>2</td>\n",
       "    </tr>\n",
       "    <tr>\n",
       "      <th>42</th>\n",
       "      <td>TOULOUSE</td>\n",
       "      <td>2017</td>\n",
       "      <td>3263</td>\n",
       "      <td>2</td>\n",
       "    </tr>\n",
       "    <tr>\n",
       "      <th>43</th>\n",
       "      <td>TOULOUSE</td>\n",
       "      <td>2018</td>\n",
       "      <td>3266</td>\n",
       "      <td>2</td>\n",
       "    </tr>\n",
       "    <tr>\n",
       "      <th>44</th>\n",
       "      <td>TOULOUSE</td>\n",
       "      <td>2019</td>\n",
       "      <td>3268</td>\n",
       "      <td>2</td>\n",
       "    </tr>\n",
       "  </tbody>\n",
       "</table>\n",
       "</div>"
      ],
      "text/plain": [
       "           CITY  DATE  PRICE PER M²  CLUSTER\n",
       "0         PARIS  2015          9159        0\n",
       "1         PARIS  2016          9602        0\n",
       "2         PARIS  2017          9978        0\n",
       "3         PARIS  2018         10810        0\n",
       "4         PARIS  2019         11187        0\n",
       "5      BORDEAUX  2015          3828        1\n",
       "6      BORDEAUX  2016          3889        1\n",
       "7      BORDEAUX  2017          4324        1\n",
       "8      BORDEAUX  2018          4778        1\n",
       "9      BORDEAUX  2019          4864        1\n",
       "10         LYON  2015          3787        1\n",
       "11         LYON  2016          3850        1\n",
       "12         LYON  2017          4045        1\n",
       "13         LYON  2018          4255        1\n",
       "14         LYON  2019          4340        1\n",
       "15         NICE  2015          4069        1\n",
       "16         NICE  2016          4058        1\n",
       "17         NICE  2017          4155        1\n",
       "18         NICE  2018          4230        1\n",
       "19         NICE  2019          4267        1\n",
       "20        LILLE  2015          3065        2\n",
       "21        LILLE  2016          3079        2\n",
       "22        LILLE  2017          3225        2\n",
       "23        LILLE  2018          3323        2\n",
       "24        LILLE  2019          3359        2\n",
       "25    MARSEILLE  2015          3130        2\n",
       "26    MARSEILLE  2016          3066        2\n",
       "27    MARSEILLE  2017          3151        2\n",
       "28    MARSEILLE  2018          3134        2\n",
       "29    MARSEILLE  2019          3136        2\n",
       "30  MONTPELLIER  2015          3181        2\n",
       "31  MONTPELLIER  2016          3099        2\n",
       "32  MONTPELLIER  2017          3242        2\n",
       "33  MONTPELLIER  2018          3094        2\n",
       "34  MONTPELLIER  2019          4526        2\n",
       "35       NANTES  2015          3060        2\n",
       "36       NANTES  2016          3052        2\n",
       "37       NANTES  2017          3174        2\n",
       "38       NANTES  2018          3319        2\n",
       "39       NANTES  2019          3501        2\n",
       "40     TOULOUSE  2015          3120        2\n",
       "41     TOULOUSE  2016          3214        2\n",
       "42     TOULOUSE  2017          3263        2\n",
       "43     TOULOUSE  2018          3266        2\n",
       "44     TOULOUSE  2019          3268        2"
      ]
     },
     "execution_count": 106,
     "metadata": {},
     "output_type": "execute_result"
    }
   ],
   "source": [
    "df_9 = spark.sql(\"SELECT CITY, SUBSTRING(`Sale Date`, 7, 4) as DATE, int(round(AVG(`Price per M²`))) \\\n",
    "          AS `PRICE PER M²`, CLUSTER \\\n",
    "          FROM estate\\\n",
    "          GROUP BY CITY, DATE, CLUSTER\\\n",
    "          ORDER BY CLUSTER, CITY, DATE\\\n",
    "          \").toPandas()\n",
    "df_9"
   ]
  },
  {
   "cell_type": "code",
   "execution_count": 107,
   "metadata": {},
   "outputs": [],
   "source": [
    "colors_9 = {'2015' : '#1B06EC', '2016' : '#EC7906', '2017' : '#EC0D06', '2018' : '#06ECE5', '2019' : '#06EC3E'}"
   ]
  },
  {
   "cell_type": "code",
   "execution_count": 108,
   "metadata": {},
   "outputs": [
    {
     "data": {
      "image/png": "[encoded data removed]",
      "text/plain": [
       "<Figure size 1440x576 with 1 Axes>"
      ]
     },
     "metadata": {
      "needs_background": "light"
     },
     "output_type": "display_data"
    }
   ],
   "source": [
    "labels = list(colors_9.keys())\n",
    "handles = [plt.Rectangle((0,0),1,1, color=colors_9[label]) for label in labels]\n",
    "\n",
    "barplot_9 = df_9.plot.bar(x='CITY', y='PRICE PER M²', color = df_9['DATE'].map(colors_9))\n",
    "barplot_9.set_ylabel(\"Average price per m² (€)\")\n",
    "barplot_9.legend(handles, labels)\n",
    "barplot_9.set_title(\"Price per m² per city per year\")\n",
    "\n",
    "plt.rcParams['figure.figsize'] = (10,8)"
   ]
  }
 ],
 "metadata": {
  "kernelspec": {
   "display_name": "Python 3",
   "language": "python",
   "name": "python3"
  },
  "language_info": {
   "codemirror_mode": {
    "name": "ipython",
    "version": 3
   },
   "file_extension": ".py",
   "mimetype": "text/x-python",
   "name": "python",
   "nbconvert_exporter": "python",
   "pygments_lexer": "ipython3",
   "version": "3.8.6"
  }
 },
 "nbformat": 4,
 "nbformat_minor": 4
}
