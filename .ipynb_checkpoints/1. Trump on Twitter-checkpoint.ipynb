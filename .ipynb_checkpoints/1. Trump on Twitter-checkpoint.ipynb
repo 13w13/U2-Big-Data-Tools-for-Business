{
 "cells": [
  {
   "cell_type": "markdown",
   "metadata": {},
   "source": [
    "# Part 1: Donald Trump Communication Analysis on Twitter"
   ]
  },
  {
   "cell_type": "markdown",
   "metadata": {},
   "source": [
    "## Import packages"
   ]
  },
  {
   "cell_type": "code",
   "execution_count": 1,
   "metadata": {},
   "outputs": [],
   "source": [
    "import pyspark "
   ]
  },
  {
   "cell_type": "code",
   "execution_count": null,
   "metadata": {},
   "outputs": [],
   "source": [
    "pip install clean-text"
   ]
  },
  {
   "cell_type": "code",
   "execution_count": null,
   "metadata": {},
   "outputs": [],
   "source": [
    "pip install regex"
   ]
  },
  {
   "cell_type": "code",
   "execution_count": null,
   "metadata": {},
   "outputs": [],
   "source": [
    "pip install nltk"
   ]
  },
  {
   "cell_type": "code",
   "execution_count": 2,
   "metadata": {},
   "outputs": [],
   "source": [
    "import statistics"
   ]
  },
  {
   "cell_type": "code",
   "execution_count": 3,
   "metadata": {},
   "outputs": [],
   "source": [
    "import datetime\n",
    "import re\n",
    "import pandas as pd\n",
    "import emoji\n",
    "import regex"
   ]
  },
  {
   "cell_type": "code",
   "execution_count": 4,
   "metadata": {},
   "outputs": [
    {
     "name": "stderr",
     "output_type": "stream",
     "text": [
      "Since the GPL-licensed package `unidecode` is not installed, using Python's `unicodedata` package which yields worse results.\n"
     ]
    }
   ],
   "source": [
    "import nltk\n",
    "from cleantext import clean"
   ]
  },
  {
   "cell_type": "code",
   "execution_count": null,
   "metadata": {},
   "outputs": [],
   "source": [
    "nltk.download('vader_lexicon')\n",
    "nltk.download('stopwords')"
   ]
  },
  {
   "cell_type": "code",
   "execution_count": 5,
   "metadata": {},
   "outputs": [],
   "source": [
    "from nltk.sentiment.vader import SentimentIntensityAnalyzer as SIA_en"
   ]
  },
  {
   "cell_type": "code",
   "execution_count": 82,
   "metadata": {},
   "outputs": [],
   "source": [
    "vds_en = SIA_en()"
   ]
  },
  {
   "cell_type": "markdown",
   "metadata": {},
   "source": [
    "## Data preparation"
   ]
  },
  {
   "cell_type": "code",
   "execution_count": 6,
   "metadata": {
    "scrolled": true
   },
   "outputs": [],
   "source": [
    "sc = pyspark.SparkContext(appName=\"Spark RDD\")"
   ]
  },
  {
   "cell_type": "code",
   "execution_count": 47,
   "metadata": {},
   "outputs": [
    {
     "data": {
      "text/plain": [
       "['Republicans and Democrats have both created our economic problems.;02/08/2011 18:07:48',\n",
       " 'I was thrilled to be back in the Great city of Charlotte, North Carolina with thousands of hardworking American Patriots who love our Country, cherish our values, respect our laws, and always put AMERICA FIRST! Thank you for a wonderful evening!! #KAG2020 https://t.co/dNJZfRsl9y;03/03/2020 01:34:50',\n",
       " 'RT @CBS_Herridge: READ: Letter to surveillance court obtained by CBS News questions where there will be further disciplinary action and cho…;17/01/2020 03:22:47',\n",
       " 'The Unsolicited Mail In Ballot Scam is a major threat to our Democracy, &amp  the Democrats know it. Almost all recent elections using this system, even though much smaller &amp   with far fewer Ballots to count, have ended up being a disaster. Large numbers of missing Ballots &amp  Fraud!;12/09/2020 20:10:58',\n",
       " \"RT @MZHemingway: Very friendly telling of events here about Comey's apparent leaking to compliant media. If you read those articles and tho…;17/01/2020 13:13:59\",\n",
       " 'RT @WhiteHouse: President @realDonaldTrump announced historic steps to protect the Constitutional right to pray in public schools! https://…;17/01/2020 00:11:56',\n",
       " '“I’m running as a proud Democrat, for the Senate”. Sleepy Joe Biden today. It’s only going to get worse. It is not sustainable for our County - China will own us!!!!;12/10/2020 22:22:39',\n",
       " 'Getting a little exercise this morning! https://t.co/fyAAcbhbgk;01/02/2020 16:14:02',\n",
       " 'https://t.co/4qwCKQOiOw;23/10/2020 04:52:14',\n",
       " 'https://t.co/VlEu8yyovv;23/10/2020 04:46:53',\n",
       " 'https://t.co/z5CRqHO8vg;23/10/2020 04:46:49',\n",
       " 'https://t.co/TQCQiDrVOB;23/10/2020 04:46:45',\n",
       " 'RT @EricTrump: https://t.co/NcrNdOSfIV;23/10/2020 04:30:19',\n",
       " '\"RT @GOPChairwoman: The economic boom continues!',\n",
       " '',\n",
       " '273K jobs added in February ',\n",
       " '',\n",
       " '7M+ jobs added since @realDonaldTrump was elected',\n",
       " '',\n",
       " 'Unemploym…\";08/03/2020 04:01:46',\n",
       " \"RT @TomFitton: Vindman's behavior is a scandal. He should be removed from the @RealDonaldTrump White House ASAP to protect our foreign poli…;07/02/2020 17:35:20\",\n",
       " 'Thank you Elise! https://t.co/Y4Hb0zf5jk;09/01/2020 12:24:31',\n",
       " 'As per your request, Joe... https://t.co/78mzcfLEsF https://t.co/AalVkSfHFi;23/10/2020 04:09:59',\n",
       " \"RT @marklevinshow: President Trump was outstanding.\\xa0 I couldn't be prouder.\\xa0 Biden was making faces and was very dishonest about some of hi…;23/10/2020 03:58:38\",\n",
       " 'RT @RealRLimbaugh: Winning, winning, winning! @realDonaldTrump;23/10/2020 03:57:45',\n",
       " 'HUGE win today for the United States and for peace in the world. Sudan has agreed to a peace and normalization agreement with Israel! With the United Arab Emirates and Bahrain, that’s THREE Arab\\xa0countries to have done so in only a matter of weeks. More will follow! https://t.co/UHB8H6oaZc;23/10/2020 16:55:29',\n",
       " 'RT @TheRightMelissa: I guarantee it was the 1st time millions of Americans learned the “kids in cages” was Obama not Trump because the medi…;23/10/2020 15:06:21',\n",
       " 'Thank you Megyn! https://t.co/sC71EEWIOd;23/10/2020 15:04:10',\n",
       " '11 DAYS! #MAGA https://t.co/PuqeF1ctDs;23/10/2020 05:26:41',\n",
       " 'RT @megynkelly: Trump won this debate, handily. Biden wasn’t a force at all. Trump was substantive, on-point, well-tempered. Definitely hel…;23/10/2020 03:57:21',\n",
       " 'Nobody is showing up for Obama’s hate laced speeches. 47 people! No energy, but still better than Joe!;24/10/2020 20:11:38',\n",
       " 'Just landed in Ohio. See you in a little while!;24/10/2020 20:13:08',\n",
       " 'https://t.co/NX5zpbib3E;05/08/2020 17:20:01',\n",
       " '\"THANK YOU OHIO! #VOTE ',\n",
       " 'https://t.co/5EJjFZVLHZ\";24/10/2020 22:44:44',\n",
       " 'Great to be in Ohio, leaving now for Wisconsin. See you in a little while! https://t.co/jglAVPFzmR;24/10/2020 22:50:44',\n",
       " 'https://t.co/lw739qEfqr;24/10/2020 22:51:41',\n",
       " 'https://t.co/NBfIdXBEhp;24/10/2020 22:52:06',\n",
       " 'https://t.co/ATipOZ0jYG;24/10/2020 22:52:15',\n",
       " 'RT @DanScavino: President @realDonaldTrump on his way to a massive #MAGA🇺🇸🦅rally in Circleville, Ohio. Absolutely unbelievable—OHIO is TRUM…;24/10/2020 23:22:39',\n",
       " 'RT @chefjclark: People ask why the President fights so hard in court for ballot integrity?  Why we have such an extensive Election Day Oper…;24/10/2020 23:23:14',\n",
       " '\"RT @TeamTrump: TONIGHT: Watch President @realDonaldTrump\\'s Remarks from Waukesha, Wisconsin at 8:00 pm ET!',\n",
       " '',\n",
       " 'RSVP: https://t.co/5Fb0UaYEkN…\";24/10/2020 23:33:31',\n",
       " '\"RT @NRA: President @realDonaldTrump won the debate!',\n",
       " '',\n",
       " '\"\"Why didn\\'t you do that four years ago, @JoeBiden... I ran because of you because you…\";23/10/2020 04:25:57',\n",
       " '\"Thank you OHIO! #VOTE',\n",
       " 'https://t.co/gsFSghkmdM https://t.co/oOzmfm8vCo\";25/10/2020 00:37:07',\n",
       " 'What a terrible thing for Biden to say! Rigged Election? https://t.co/jQXxeQCZU9;25/10/2020 00:36:23',\n",
       " 'Landed in Wisconsin. BIG CROWD. On my way!;25/10/2020 00:40:17',\n",
       " 'RT @dbongino: THIS 👇🏻👇🏻;25/10/2020 00:46:57',\n",
       " '\"RT @dbongino: Amen to that!',\n",
       " 'https://t.co/yRr4OagnTO\";25/10/2020 00:48:11',\n",
       " '...And a great show by @JesseBWatters tonight. Watched it on way from Ohio to Wisconsin! https://t.co/6OIpWIBpop;25/10/2020 00:56:53',\n",
       " '\"RT @HeyTammyBruce: Crowd: We love you! We love you!',\n",
       " 'Trump: Thank you! ',\n",
       " 'Guy in Crowd: We really do! ',\n",
       " '😂❤️🇺🇸\";25/10/2020 00:59:15',\n",
       " 'RT @HeyTammyBruce: 😐;25/10/2020 01:00:03',\n",
       " 'Law Enforcement is watching and involved. So dishonest! https://t.co/DNtRroA92X;25/10/2020 01:02:49',\n",
       " '\"THANK YOU WISCONSIN!',\n",
       " 'https://t.co/nOcUhuuNoF\";25/10/2020 02:29:12',\n",
       " 'https://t.co/Zwgbeynhy3;25/10/2020 02:32:44',\n",
       " 'https://t.co/uF8BVW4WBV;25/10/2020 02:33:11',\n",
       " 'This is the most important election in the history of our Country. With your vote, we will continue to bring back your jobs, lower drug prices, support our police, protect the #2A, defend our borders, and ensure more products are proudly stamped with the phrase MADE IN THE USA! https://t.co/M0Ba8QR7Nl;25/10/2020 02:42:10',\n",
       " \"RT @LeeSmithDC: Joe Biden &amp  surrogates are lying. On 2/2/16, Ukrainian prosecutor seizes property of Burisma owner, so he's clearly under i…;25/10/2020 02:57:07\",\n",
       " 'As long as I am President, I will always stand with the HEROES of Law Enforcement! Joe Biden won’t. https://t.co/DfutxOeRaN;25/10/2020 02:58:35',\n",
       " '\"WISCONSIN! #VOTE #MAGA ',\n",
       " 'https://t.co/wk0tCalKZ6\";25/10/2020 03:07:59',\n",
       " 'https://t.co/gsFSghkmdM https://t.co/XB1XImsQlG;25/10/2020 03:11:43',\n",
       " 'RT @ArthurSchwartz: The metadata on the Biden family’s pitch materials to the Chinese Communist Party show that the doc was created on Jim…;25/10/2020 03:51:18',\n",
       " 'RT @thejtlewis: Joe Biden is campaigning with a conspiracy theorist who questioned the legitimacy of the Sandy Hook shooting - the shooting…;25/10/2020 04:44:46',\n",
       " 'RT @thejtlewis: With the utmost respect, I thank President @realDonaldTrump for his leadership on the Federal School Safety Report, and for…;25/10/2020 04:45:17',\n",
       " 'RT @thejtlewis: Yes, I can. I lost my brother in the Sandy Hook shooting and it was President @realDonaldTrump who met with me, heard my st…;25/10/2020 04:45:57',\n",
       " '\"RT @thejtlewis: Joe Biden: “We have put together the most extensive VOTER FRAUD organization in the history of American politics.”',\n",
       " ' https:/…\";25/10/2020 04:47:49',\n",
       " 'https://t.co/WuLi07jXaK;14/09/2020 05:47:03',\n",
       " '\"RT @mtaibbi: \"\"The least curious people in the country right now appear to be the credentialed news media, a situation normally unique to ti…\";25/10/2020 04:49:15',\n",
       " \"RT @SohrabAhmari: It's OK. The Post has weathered the vicissitudes of more than two centuries of American history. We will endure this, too…;25/10/2020 04:48:35\",\n",
       " '\"RT @SteveGuest: 👀👀 ',\n",
       " '',\n",
       " 'Joe Biden brags about having “the most extensive and inclusive VOTER FRAUD organization in the history of American pol…\";25/10/2020 04:50:42',\n",
       " 'RT @seanmdav: Murkowski had hoped to preemptively nuke the SCOTUS nomination by playing games early in the process. But once it became clea…;25/10/2020 04:51:29',\n",
       " '\"RT @JackPosobiec: Here is the Burisma email @TuckerCarlson referenced about \\'closing down any cases.\\'',\n",
       " '',\n",
       " 'We need to bring the focus back to t…\";25/10/2020 04:51:58',\n",
       " 'RT @GovernorPerry: .@JoeBiden &amp  Barack Obama killed the coal industry and if elected he will come after oil &amp  gas! @realDonaldTrump is a ch…;25/10/2020 04:52:28',\n",
       " 'RT @JoeShikhman: Incredible. The one public appearance Joe Biden does this weekend is a speech in Pennsylvania that immediately turns into…;25/10/2020 04:53:53',\n",
       " 'https://t.co/0q33fvaOS6;22/05/2020 00:14:34',\n",
       " '\"RT @RepMattGaetz: Joe Biden said he couldn’t get anything done during his last eight years because he had a Republican Congress.',\n",
       " '',\n",
       " '@realDona…\";25/10/2020 05:03:00',\n",
       " '\"RT @RepMattGaetz: We don\\'t build walls because we hate the people on the outside. ',\n",
       " '',\n",
       " 'We build walls because we love the people on the inside.\";25/10/2020 05:03:28',\n",
       " 'So true! https://t.co/obRV4tvaNo;25/10/2020 05:05:03',\n",
       " 'https://t.co/Dw4zuqXURT;24/10/2020 15:54:45',\n",
       " 'https://t.co/OBPF6cbxuc;24/10/2020 15:57:51',\n",
       " 'RT @GOPChairwoman: Joe Biden would put 19 million American jobs on the chopping block with his radical energy agenda! https://t.co/s4AyS9aB…;24/10/2020 15:56:53']"
      ]
     },
     "execution_count": 47,
     "metadata": {},
     "output_type": "execute_result"
    }
   ],
   "source": [
    "# first read the mbox.txt file into the RDD rdd_mbox\n",
    "\n",
    "rdd_mbox = sc.textFile('data/trump_tweets.txt')\n",
    "\n",
    "# print a sample of 10 lines of rdd_mox\n",
    "\n",
    "rdd_mbox.take(100)"
   ]
  },
  {
   "cell_type": "code",
   "execution_count": 8,
   "metadata": {},
   "outputs": [
    {
     "data": {
      "text/plain": [
       "57249"
      ]
     },
     "execution_count": 8,
     "metadata": {},
     "output_type": "execute_result"
    }
   ],
   "source": [
    "rdd_mbox.distinct().count()"
   ]
  },
  {
   "cell_type": "code",
   "execution_count": 127,
   "metadata": {},
   "outputs": [],
   "source": [
    "nb_tweet = rdd_mbox.count()"
   ]
  },
  {
   "cell_type": "markdown",
   "metadata": {},
   "source": [
    "### Data features extractions"
   ]
  },
  {
   "cell_type": "markdown",
   "metadata": {},
   "source": [
    "#### Function definition"
   ]
  },
  {
   "cell_type": "code",
   "execution_count": 55,
   "metadata": {},
   "outputs": [],
   "source": [
    "def check_startwith(tweet,start) :\n",
    "    if tweet.startswith(start) == True :\n",
    "        return True\n",
    "    else :\n",
    "        return False"
   ]
  },
  {
   "cell_type": "code",
   "execution_count": 11,
   "metadata": {},
   "outputs": [],
   "source": [
    "def find_time(tweet) :\n",
    "    match = re.search('\\d{2}:\\d{2}:\\d{2}', tweet)\n",
    "    if match :\n",
    "        time = datetime.datetime.strptime(match.group(), '%H:%M:%S').time()\n",
    "        return time"
   ]
  },
  {
   "cell_type": "code",
   "execution_count": 12,
   "metadata": {},
   "outputs": [],
   "source": [
    "def find_date(tweet) :\n",
    "    match = re.search('\\d{2}/\\d{2}/\\d{4}', tweet)\n",
    "    if match :\n",
    "        date = datetime.datetime.strptime(match.group(), '%d/%m/%Y').date()\n",
    "        return date"
   ]
  },
  {
   "cell_type": "code",
   "execution_count": 13,
   "metadata": {},
   "outputs": [],
   "source": [
    "def extract_url(tweet) :\n",
    "    url = re.findall(r'(https?://[^\\s]+)',str(tweet.split(';')[0]))\n",
    "    return url"
   ]
  },
  {
   "cell_type": "code",
   "execution_count": 14,
   "metadata": {},
   "outputs": [],
   "source": [
    "def extract_startwith(tweet,start) :\n",
    "    list_word = list()\n",
    "    for word in tweet.split(' ') :\n",
    "        if word.startswith(start) == True :\n",
    "            select_word = word[1:]\n",
    "            list_word.append(select_word)\n",
    "    return list_word"
   ]
  },
  {
   "cell_type": "code",
   "execution_count": 15,
   "metadata": {},
   "outputs": [],
   "source": [
    "def extract_emojis(s):\n",
    "    return ''.join(c for c in s if c in emoji.UNICODE_EMOJI)"
   ]
  },
  {
   "cell_type": "code",
   "execution_count": 53,
   "metadata": {},
   "outputs": [],
   "source": [
    "def verify_emojis(tweet):\n",
    "    for emoji_tweet in tweet :\n",
    "        if emoji_tweet  in emoji.UNICODE_EMOJI :\n",
    "            return True\n",
    "    return False"
   ]
  },
  {
   "cell_type": "code",
   "execution_count": 62,
   "metadata": {},
   "outputs": [],
   "source": [
    "def verify_startwith(tweet,start) :\n",
    "    list_word = list()\n",
    "    for word in tweet.split(' ') :\n",
    "        if word.startswith(start) == True :\n",
    "            return True \n",
    "    return False"
   ]
  },
  {
   "cell_type": "markdown",
   "metadata": {},
   "source": [
    "#### Data extraction"
   ]
  },
  {
   "cell_type": "markdown",
   "metadata": {},
   "source": [
    "We identitify if it is a retweet or not"
   ]
  },
  {
   "cell_type": "code",
   "execution_count": 16,
   "metadata": {},
   "outputs": [],
   "source": [
    "RT = rdd_mbox.map(lambda tweet : check_startwith(tweet, 'RT'))"
   ]
  },
  {
   "cell_type": "markdown",
   "metadata": {},
   "source": [
    "We extract the date"
   ]
  },
  {
   "cell_type": "code",
   "execution_count": 17,
   "metadata": {},
   "outputs": [],
   "source": [
    "Date = rdd_mbox.map(lambda tweet : find_date(tweet))"
   ]
  },
  {
   "cell_type": "markdown",
   "metadata": {},
   "source": [
    "We extract the time"
   ]
  },
  {
   "cell_type": "code",
   "execution_count": 18,
   "metadata": {},
   "outputs": [],
   "source": [
    "Time = rdd_mbox.map(lambda tweet : find_time(tweet))"
   ]
  },
  {
   "cell_type": "markdown",
   "metadata": {},
   "source": [
    "We extract urls"
   ]
  },
  {
   "cell_type": "code",
   "execution_count": 19,
   "metadata": {},
   "outputs": [],
   "source": [
    "URL = rdd_mbox.map(lambda tweet : extract_url(tweet))"
   ]
  },
  {
   "cell_type": "markdown",
   "metadata": {},
   "source": [
    "We extract hastags"
   ]
  },
  {
   "cell_type": "code",
   "execution_count": 112,
   "metadata": {},
   "outputs": [],
   "source": [
    "hastag = rdd_mbox.flatMap(lambda tweet : extract_startwith(tweet,'#'))"
   ]
  },
  {
   "cell_type": "markdown",
   "metadata": {},
   "source": [
    "We extract the user from who Trump retweet"
   ]
  },
  {
   "cell_type": "code",
   "execution_count": 113,
   "metadata": {},
   "outputs": [],
   "source": [
    "RT_from = rdd_mbox.flatMap(lambda tweet : extract_startwith(tweet,'@'))"
   ]
  },
  {
   "cell_type": "markdown",
   "metadata": {},
   "source": [
    "We extract emojis"
   ]
  },
  {
   "cell_type": "code",
   "execution_count": 120,
   "metadata": {},
   "outputs": [],
   "source": [
    "emoji_ = rdd_mbox.flatMap(lambda tweet : extract_emojis(tweet))"
   ]
  },
  {
   "cell_type": "code",
   "execution_count": 121,
   "metadata": {},
   "outputs": [
    {
     "data": {
      "text/plain": [
       "2683"
      ]
     },
     "execution_count": 121,
     "metadata": {},
     "output_type": "execute_result"
    }
   ],
   "source": [
    "emoji_.count()"
   ]
  },
  {
   "cell_type": "markdown",
   "metadata": {},
   "source": [
    "## Data transformartion"
   ]
  },
  {
   "cell_type": "code",
   "execution_count": 66,
   "metadata": {},
   "outputs": [],
   "source": [
    "def clean_tweet_(tweet) :\n",
    "    clean_tweet = tweet\n",
    "    List_emoji = extract_emojis(clean_tweet)\n",
    "    List_hastag = extract_startwith(clean_tweet,'#')\n",
    "    List_from =  extract_startwith(clean_tweet,'@')\n",
    "    \n",
    "    if check_startwith(clean_tweet, 'RT')== True :\n",
    "        for from_ in List_from :\n",
    "            clean_tweet = clean_tweet.replace(from_, '')\n",
    "            clean_tweet = clean_tweet.replace('RT', '')\n",
    "    \n",
    "    if verify_emojis(tweet)== True:\n",
    "        for emoji_ in List_emoji :\n",
    "            clean_tweet = clean_tweet.replace(emoji_,'')\n",
    "    \n",
    "    if verify_startwith(tweet,'#')== True :\n",
    "        for hastag_ in List_hastag :\n",
    "            clean_tweet = clean_tweet.replace(hastag_,'')\n",
    "    \n",
    "    clean_tweet = clean(clean_tweet,\n",
    "        to_ascii=True,                  # transliterate to closest ASCII representation\n",
    "        lower=True,                     # lowercase text\n",
    "        no_line_breaks=True,           # fully strip line breaks as opposed to only normalizing them\n",
    "        no_urls=True,                  # replace all URLs with a special token\n",
    "        no_numbers=True,               # replace all numbers with a special token\n",
    "        no_punct=True,                 # remove punctuations\n",
    "        replace_with_punct=\"\",          # instead of removing punctuations you may replace them\n",
    "        replace_with_url=\"<URL>\",\n",
    "        replace_with_number=\"\",\n",
    "        lang=\"en\"                       # set to 'de' for German special handling\n",
    ")\n",
    "    return clean_tweet"
   ]
  },
  {
   "cell_type": "code",
   "execution_count": 67,
   "metadata": {},
   "outputs": [],
   "source": [
    "rdd_clean_tweet = rdd_mbox.map(lambda tweet : clean_tweet_(tweet))"
   ]
  },
  {
   "cell_type": "code",
   "execution_count": 71,
   "metadata": {},
   "outputs": [],
   "source": [
    "rdd_clean_tweet_words = rdd_mbox.map(lambda tweet : clean_tweet_(tweet).split(' '))"
   ]
  },
  {
   "cell_type": "markdown",
   "metadata": {},
   "source": [
    "## Stopwords"
   ]
  },
  {
   "cell_type": "code",
   "execution_count": 72,
   "metadata": {},
   "outputs": [],
   "source": [
    "content = open(\"data/stop-words.txt\", \"r\").readlines()\n",
    "stop_words_ = []\n",
    "for element in content:\n",
    "    stop_words_.append(element.strip())"
   ]
  },
  {
   "cell_type": "code",
   "execution_count": 73,
   "metadata": {},
   "outputs": [],
   "source": [
    "def remove_stop_words(tweet_words) :\n",
    "    filtered_sent=[] \n",
    "    for w in tweet_words :\n",
    "        if w not in stop_words_ :\n",
    "            if w != '':\n",
    "                filtered_sent.append(w)\n",
    "    return  filtered_sent"
   ]
  },
  {
   "cell_type": "code",
   "execution_count": 74,
   "metadata": {},
   "outputs": [],
   "source": [
    "rdd_clean_tweet_stop_words = rdd_clean_tweet_words.map(lambda tweet_words : remove_stop_words(tweet_words))"
   ]
  },
  {
   "cell_type": "code",
   "execution_count": 75,
   "metadata": {},
   "outputs": [],
   "source": [
    "rdd_clean_tweet_stop_words_flat = rdd_clean_tweet_words.flatMap(lambda tweet_words : remove_stop_words(tweet_words))"
   ]
  },
  {
   "cell_type": "markdown",
   "metadata": {},
   "source": [
    "## Overall sentiment analysis"
   ]
  },
  {
   "cell_type": "code",
   "execution_count": 123,
   "metadata": {},
   "outputs": [],
   "source": [
    "def sentiment_analysis_(tweet) :\n",
    "    x = 0\n",
    "    score_list = list()\n",
    "    sentiment_output = \"\"\n",
    "    \n",
    "    score = vds_en.polarity_scores(tweet)\n",
    "    score_ = score['compound']\n",
    "       \n",
    "    if score_ >= 0.05 :\n",
    "        sentiment_output = 'positive'\n",
    "    elif score_ <=-0.05:\n",
    "        sentiment_output  = 'negative'\n",
    "    else :\n",
    "        sentiment_output  = 'neutral' \n",
    "        \n",
    "    return sentiment_output"
   ]
  },
  {
   "cell_type": "code",
   "execution_count": 124,
   "metadata": {},
   "outputs": [],
   "source": [
    "rdd_sentiment_analysis = rdd_clean_tweet.map(lambda tweet : sentiment_analysis_(tweet))"
   ]
  },
  {
   "cell_type": "code",
   "execution_count": 129,
   "metadata": {},
   "outputs": [
    {
     "data": {
      "text/plain": [
       "[('positive', 30179), ('negative', 14579), ('neutral', 13923)]"
      ]
     },
     "execution_count": 129,
     "metadata": {},
     "output_type": "execute_result"
    }
   ],
   "source": [
    "Sentiment_kv = rdd_sentiment_analysis.map(lambda word: (word, 1))\n",
    "Sentiment_kv = Sentiment_kv.mapValues(lambda tuple: 1)\n",
    "Sentiment_count_kv = Sentiment_kv.reduceByKey(lambda x,y : x+y)\n",
    "Sentiment_count_kv_ordered = Sentiment_count_kv.sortBy(lambda tuple: tuple[1], ascending=False)\n",
    "Top_sentiment = Sentiment_count_kv_ordered.take(3)\n",
    "Top_sentiment"
   ]
  },
  {
   "cell_type": "markdown",
   "metadata": {},
   "source": [
    "### words sentiment analysis"
   ]
  },
  {
   "cell_type": "code",
   "execution_count": 87,
   "metadata": {},
   "outputs": [
    {
     "data": {
      "text/plain": [
       "[('republicans', 1),\n",
       " ('democrats', 1),\n",
       " ('created', 1),\n",
       " ('economic', 1),\n",
       " ('problems', 1),\n",
       " ('thrilled', 1),\n",
       " ('great', 1),\n",
       " ('city', 1),\n",
       " ('charlotte', 1),\n",
       " ('north', 1)]"
      ]
     },
     "execution_count": 87,
     "metadata": {},
     "output_type": "execute_result"
    }
   ],
   "source": [
    "# initialize an rdd with key/value for counting each word in the file \n",
    "\n",
    "rdd_clean_tweet_stop_words_kv = rdd_clean_tweet_stop_words_flat.map(lambda word: (word, 1))\n",
    "\n",
    "rdd_clean_tweet_stop_words_kv.take(10)"
   ]
  },
  {
   "cell_type": "markdown",
   "metadata": {},
   "source": [
    "#### Positives words"
   ]
  },
  {
   "cell_type": "code",
   "execution_count": 88,
   "metadata": {},
   "outputs": [],
   "source": [
    "# we read the positive words\n",
    "rdd_positive_words = sc.textFile('data/positive-words.txt')"
   ]
  },
  {
   "cell_type": "code",
   "execution_count": 89,
   "metadata": {},
   "outputs": [],
   "source": [
    "# initialize an rdd with key/value for counting each positive word in the file \n",
    "rdd_positive_words_kv = rdd_positive_words.map(lambda word: (word, 1))"
   ]
  },
  {
   "cell_type": "code",
   "execution_count": 91,
   "metadata": {},
   "outputs": [
    {
     "data": {
      "text/plain": [
       "[('thrilled', (1, 1)),\n",
       " ('thrilled', (1, 1)),\n",
       " ('thrilled', (1, 1)),\n",
       " ('thrilled', (1, 1)),\n",
       " ('thrilled', (1, 1))]"
      ]
     },
     "execution_count": 91,
     "metadata": {},
     "output_type": "execute_result"
    }
   ],
   "source": [
    "# rdd_positive_words_product_kv RDD should contain positive words in the product review file\n",
    "rdd_positive_words_tweet_kv = rdd_clean_tweet_stop_words_kv.join(rdd_positive_words_kv)\n",
    "rdd_positive_words_tweet_kv.take(5)"
   ]
  },
  {
   "cell_type": "code",
   "execution_count": 92,
   "metadata": {},
   "outputs": [
    {
     "data": {
      "text/plain": [
       "[('thrilled', 1),\n",
       " ('thrilled', 1),\n",
       " ('thrilled', 1),\n",
       " ('thrilled', 1),\n",
       " ('thrilled', 1)]"
      ]
     },
     "execution_count": 92,
     "metadata": {},
     "output_type": "execute_result"
    }
   ],
   "source": [
    "# use the mapValues transformation to assign a default count of 1 for each positive word\n",
    "\n",
    "rdd_positive_words_tweet_kv = rdd_positive_words_tweet_kv.mapValues(lambda tuple: 1)\n",
    "\n",
    "rdd_positive_words_tweet_kv.take(5)"
   ]
  },
  {
   "cell_type": "code",
   "execution_count": 93,
   "metadata": {},
   "outputs": [
    {
     "data": {
      "text/plain": [
       "[('thrilled', 51),\n",
       " ('wonderful', 482),\n",
       " ('right', 936),\n",
       " ('sustainable', 3),\n",
       " ('best', 1256)]"
      ]
     },
     "execution_count": 93,
     "metadata": {},
     "output_type": "execute_result"
    }
   ],
   "source": [
    "# rdd_positive_words_product_count_kv should contain the number of occurences (count) of each positive word in product reviews\n",
    "\n",
    "rdd_positive_words_tweet_count_kv = rdd_positive_words_tweet_kv.reduceByKey(lambda x,y : x+y)\n",
    "\n",
    "rdd_positive_words_tweet_count_kv.take(5)"
   ]
  },
  {
   "cell_type": "code",
   "execution_count": 94,
   "metadata": {},
   "outputs": [
    {
     "data": {
      "text/plain": [
       "[('great', 7470),\n",
       " ('trump', 6168),\n",
       " ('thank', 3522),\n",
       " ('like', 2017),\n",
       " ('good', 1827),\n",
       " ('best', 1256),\n",
       " ('love', 1160),\n",
       " ('win', 1117),\n",
       " ('work', 1015),\n",
       " ('right', 936),\n",
       " ('better', 857),\n",
       " ('strong', 741),\n",
       " ('support', 670),\n",
       " ('amazing', 644),\n",
       " ('congratulations', 598),\n",
       " ('nice', 585),\n",
       " ('happy', 581),\n",
       " ('honor', 502),\n",
       " ('wow', 493),\n",
       " ('wonderful', 482),\n",
       " ('endorsement', 463),\n",
       " ('beautiful', 443),\n",
       " ('enjoy', 441),\n",
       " ('important', 418),\n",
       " ('fantastic', 416)]"
      ]
     },
     "execution_count": 94,
     "metadata": {},
     "output_type": "execute_result"
    }
   ],
   "source": [
    "# rdd_positive_words_product_count_kv_ordered should contain the previous RDD in descending order based on the count\n",
    "\n",
    "rdd_positive_words_tweet_count_kv_ordered = rdd_positive_words_tweet_count_kv.sortBy(lambda tuple: tuple[1], ascending=False)\n",
    "\n",
    "list_top_positives_words = rdd_positive_words_tweet_count_kv_ordered.take(25)\n",
    "\n",
    "list_top_positives_words"
   ]
  },
  {
   "cell_type": "markdown",
   "metadata": {},
   "source": [
    "#### Negatives words"
   ]
  },
  {
   "cell_type": "code",
   "execution_count": 95,
   "metadata": {},
   "outputs": [],
   "source": [
    "# we read the positive words\n",
    "rdd_negative_words = sc.textFile('data/negative-words.txt')"
   ]
  },
  {
   "cell_type": "code",
   "execution_count": 96,
   "metadata": {},
   "outputs": [],
   "source": [
    "# initialize an rdd with key/value for counting each positive word in the file \n",
    "rdd_negative_words_kv = rdd_negative_words.map(lambda word: (word, 1))"
   ]
  },
  {
   "cell_type": "code",
   "execution_count": 97,
   "metadata": {},
   "outputs": [
    {
     "data": {
      "text/plain": [
       "[('threat', (1, 1)),\n",
       " ('threat', (1, 1)),\n",
       " ('threat', (1, 1)),\n",
       " ('threat', (1, 1)),\n",
       " ('threat', (1, 1))]"
      ]
     },
     "execution_count": 97,
     "metadata": {},
     "output_type": "execute_result"
    }
   ],
   "source": [
    "# rdd_positive_words_product_kv RDD should contain positive words in the product review file\n",
    "rdd_negative_words_tweet_kv = rdd_clean_tweet_stop_words_kv.join(rdd_negative_words_kv)\n",
    "rdd_negative_words_tweet_kv.take(5)"
   ]
  },
  {
   "cell_type": "code",
   "execution_count": 98,
   "metadata": {},
   "outputs": [
    {
     "data": {
      "text/plain": [
       "[('threat', 1), ('threat', 1), ('threat', 1), ('threat', 1), ('threat', 1)]"
      ]
     },
     "execution_count": 98,
     "metadata": {},
     "output_type": "execute_result"
    }
   ],
   "source": [
    "# use the mapValues transformation to assign a default count of 1 for each positive word\n",
    "\n",
    "rdd_negative_words_tweet_kv = rdd_negative_words_tweet_kv.mapValues(lambda tuple: 1)\n",
    "rdd_negative_words_tweet_kv.take(5)"
   ]
  },
  {
   "cell_type": "code",
   "execution_count": 99,
   "metadata": {},
   "outputs": [
    {
     "data": {
      "text/plain": [
       "[('threat', 87),\n",
       " ('disaster', 314),\n",
       " ('fraud', 206),\n",
       " ('worse', 254),\n",
       " ('dishonest', 208)]"
      ]
     },
     "execution_count": 99,
     "metadata": {},
     "output_type": "execute_result"
    }
   ],
   "source": [
    "# rdd_positive_words_product_count_kv should contain the number of occurences (count) of each positive word in product reviews\n",
    "\n",
    "rdd_negative_words_tweet_count_kv = rdd_negative_words_tweet_kv.reduceByKey(lambda x,y : x+y)\n",
    "\n",
    "rdd_negative_words_tweet_count_kv.take(5)"
   ]
  },
  {
   "cell_type": "code",
   "execution_count": 100,
   "metadata": {},
   "outputs": [
    {
     "data": {
      "text/plain": [
       "[('fake', 1231),\n",
       " ('bad', 1006),\n",
       " ('hard', 754),\n",
       " ('crime', 558),\n",
       " ('wrong', 454),\n",
       " ('crooked', 450),\n",
       " ('illegal', 420),\n",
       " ('radical', 387),\n",
       " ('terrible', 386),\n",
       " ('lost', 373),\n",
       " ('collusion', 370),\n",
       " ('corrupt', 357),\n",
       " ('sad', 330),\n",
       " ('disaster', 314),\n",
       " ('problem', 301),\n",
       " ('crazy', 298),\n",
       " ('hoax', 298),\n",
       " ('attack', 281),\n",
       " ('miss', 279),\n",
       " ('failed', 269),\n",
       " ('badly', 264),\n",
       " ('worst', 259),\n",
       " ('failing', 257),\n",
       " ('worse', 254),\n",
       " ('phony', 239)]"
      ]
     },
     "execution_count": 100,
     "metadata": {},
     "output_type": "execute_result"
    }
   ],
   "source": [
    "# rdd_positive_words_product_count_kv_ordered should contain the previous RDD in descending order based on the count\n",
    "\n",
    "rdd_negative_words_tweet_count_kv_ordered = rdd_negative_words_tweet_count_kv.sortBy(lambda tuple: tuple[1], ascending=False)\n",
    "\n",
    "list_top_negatives_words = rdd_negative_words_tweet_count_kv_ordered.take(25)\n",
    "\n",
    "list_top_negatives_words"
   ]
  },
  {
   "cell_type": "markdown",
   "metadata": {},
   "source": [
    "## Visualizing polarized opinions from tweets"
   ]
  },
  {
   "cell_type": "code",
   "execution_count": 103,
   "metadata": {},
   "outputs": [],
   "source": [
    "from matplotlib import pyplot as plt\n",
    "import seaborn as sb\n",
    "\n",
    "import pandas as pd\n",
    "\n",
    "def plot_opinion(list_positives, list_negatives):\n",
    "    \n",
    "    list_1 = [(t[0], t[1], 'positive') for t in list_positives]\n",
    "    list_2 = [(t[0], t[1], 'negative') for t in list_negatives]\n",
    "    \n",
    "     \n",
    "    list_1.extend(list_2)\n",
    "    \n",
    "    \n",
    "    df_opinion = pd.DataFrame({\n",
    "     'Opinion': [ t[0] for t in list_1 ],\n",
    "     'Count': [ t[1] for t in list_1 ],\n",
    "     'polarity': [ t[2] for t in list_1 ]\n",
    "    }).sort_values('Count', ascending=False)\n",
    "    \n",
    "    df_opinion['color'] = df_opinion.polarity.apply(lambda polarity: 'green' if polarity=='positive' else 'red')\n",
    "    \n",
    "    plt.figure( figsize = (15, 8) )\n",
    "    chart=sb.barplot(data=df_opinion, x='Opinion', y='Count', hue='polarity', palette=[\"green\", \"red\"], order=df_opinion['Opinion'])\n",
    "    chart.set_xticklabels(\n",
    "    chart.get_xticklabels(), \n",
    "    rotation=80, \n",
    "    horizontalalignment='right',\n",
    "    fontweight='light',\n",
    "    fontsize='x-large',\n",
    "    )\n",
    "    \n",
    "    for tick, color in zip(chart.get_xticklabels(), df_opinion['color']): \n",
    "        tick.set_color(color)\n",
    "    \n",
    "    plt.show()"
   ]
  },
  {
   "cell_type": "code",
   "execution_count": 104,
   "metadata": {},
   "outputs": [
    {
     "data": {
      "image/png": "[encoded data removed]",
      "text/plain": [
       "<Figure size 1080x576 with 1 Axes>"
      ]
     },
     "metadata": {
      "needs_background": "light"
     },
     "output_type": "display_data"
    }
   ],
   "source": [
    "# call the plot_opinion function to plot our product reviews top positives and negatives opinions\n",
    "\n",
    "plot_opinion(list_top_positives_words, list_top_negatives_words)"
   ]
  },
  {
   "cell_type": "markdown",
   "metadata": {},
   "source": [
    "## Contextual words"
   ]
  },
  {
   "cell_type": "code",
   "execution_count": 106,
   "metadata": {},
   "outputs": [
    {
     "data": {
      "text/plain": [
       "['democrats',\n",
       " 'democrats',\n",
       " 'democrats',\n",
       " 'democrats',\n",
       " 'democrats',\n",
       " 'democrats',\n",
       " 'democrats',\n",
       " 'democrats',\n",
       " 'democrats',\n",
       " 'democrats',\n",
       " 'democrats',\n",
       " 'democrats',\n",
       " 'democrats',\n",
       " 'democrats',\n",
       " 'democrats',\n",
       " 'democrats',\n",
       " 'democrats',\n",
       " 'democrats',\n",
       " 'democrats',\n",
       " 'democrats']"
      ]
     },
     "execution_count": 106,
     "metadata": {},
     "output_type": "execute_result"
    }
   ],
   "source": [
    "contextual_words = rdd_clean_tweet_stop_words_flat.subtract(rdd_negative_words).subtract(rdd_positive_words)\n",
    "\n",
    "contextual_words.take(20)"
   ]
  },
  {
   "cell_type": "code",
   "execution_count": 107,
   "metadata": {},
   "outputs": [
    {
     "data": {
      "text/plain": [
       "[('<url>', 15681),\n",
       " ('realdonaldtrump', 8730),\n",
       " ('amp', 5460),\n",
       " ('president', 4549),\n",
       " ('people', 3376),\n",
       " ('just', 3295),\n",
       " ('new', 2490),\n",
       " ('country', 2250),\n",
       " ('america', 2175),\n",
       " ('thanks', 2149),\n",
       " ('big', 2065),\n",
       " ('rt', 2006),\n",
       " ('time', 1913),\n",
       " ('donald', 1866),\n",
       " ('make', 1836),\n",
       " ('democrats', 1795),\n",
       " ('news', 1789),\n",
       " ('dont', 1720),\n",
       " ('obama', 1656),\n",
       " ('vote', 1655),\n",
       " ('today', 1617),\n",
       " ('going', 1523),\n",
       " ('american', 1412),\n",
       " ('want', 1408),\n",
       " ('years', 1301),\n",
       " ('job', 1260),\n",
       " ('run', 1251),\n",
       " ('need', 1205),\n",
       " ('doing', 1174),\n",
       " ('media', 1144),\n",
       " ('think', 1135),\n",
       " ('china', 1134),\n",
       " ('way', 1099),\n",
       " ('really', 1096),\n",
       " ('did', 1089),\n",
       " ('day', 1083),\n",
       " ('know', 1079),\n",
       " ('house', 1055),\n",
       " ('jobs', 1033),\n",
       " ('said', 1005),\n",
       " ('states', 1000),\n",
       " ('true', 989),\n",
       " ('election', 979),\n",
       " ('border', 967),\n",
       " ('deal', 963),\n",
       " ('state', 950),\n",
       " ('world', 942),\n",
       " ('biden', 929),\n",
       " ('hillary', 911),\n",
       " ('tonight', 905)]"
      ]
     },
     "execution_count": 107,
     "metadata": {},
     "output_type": "execute_result"
    }
   ],
   "source": [
    "# use multiple transformations for counting each contextual word in the product review file, sorted in ascending order based \n",
    "# on the count\n",
    "\n",
    "contextual_words_count_ordered = contextual_words.map(lambda word: (word, 1))\\\n",
    "                                                 .reduceByKey(lambda x,y : x+y)\\\n",
    "                                                 .sortBy(lambda tuple: tuple[1], ascending=False)\n",
    "\n",
    "list_top_contextual_words = contextual_words_count_ordered.take(50)  \n",
    "\n",
    "list_top_contextual_words"
   ]
  },
  {
   "cell_type": "code",
   "execution_count": 109,
   "metadata": {},
   "outputs": [],
   "source": [
    "# the utility function plot_contextual_words plots a bar chart presenting top contextual words\n",
    "# the parameter are list of tuples containing counts from contextual words\n",
    "\n",
    "def plot_contextual_words(list_contextual_words):\n",
    "    \n",
    "    pd_df = pd.DataFrame({\n",
    "        'Word':  [ t[0] for t in list_contextual_words ],\n",
    "        'Count': [ t[1] for t in list_contextual_words ]\n",
    "    }).sort_values('Count', ascending=False)\n",
    "    \n",
    "    plt.figure( figsize = (15, 8) )\n",
    "    \n",
    "    chart=sb.barplot(data=pd_df, x='Word', y='Count', order=pd_df['Word'], color='blue')\n",
    "    \n",
    "    chart.set_xticklabels(\n",
    "        chart.get_xticklabels(), \n",
    "        rotation=80, \n",
    "        horizontalalignment='right',\n",
    "        fontweight='light',\n",
    "        fontsize='x-large',\n",
    "        )\n",
    "    \n",
    "    plt.show()"
   ]
  },
  {
   "cell_type": "code",
   "execution_count": 110,
   "metadata": {},
   "outputs": [
    {
     "data": {
      "image/png": "[encoded data removed]",
      "text/plain": [
       "<Figure size 1080x576 with 1 Axes>"
      ]
     },
     "metadata": {
      "needs_background": "light"
     },
     "output_type": "display_data"
    }
   ],
   "source": [
    "# call the plot_contextual_words function to plot our product reviews top contextual words\n",
    "\n",
    "plot_contextual_words(list_top_contextual_words)"
   ]
  },
  {
   "cell_type": "markdown",
   "metadata": {},
   "source": [
    "## Hastag analysis"
   ]
  },
  {
   "cell_type": "code",
   "execution_count": 118,
   "metadata": {},
   "outputs": [
    {
     "data": {
      "text/plain": [
       "[('Trump2016', 395),\n",
       " ('MAGA', 340),\n",
       " ('MakeAmericaGreatAgain', 258),\n",
       " ('1', 108),\n",
       " ('CelebApprentice', 95),\n",
       " ('CelebrityApprentice', 83),\n",
       " ('KAG2020', 61),\n",
       " ('AmericaFirst', 61),\n",
       " ('Trump2016\"\"\"\"', 59),\n",
       " ('Trump', 57),\n",
       " ('VoteTrump', 53),\n",
       " ('DrainTheSwamp', 49),\n",
       " ('COVID19', 42),\n",
       " ('ImWithYou', 38),\n",
       " ('BigLeagueTruth', 33),\n",
       " ('TBT', 31),\n",
       " ('FITN', 30),\n",
       " ('USMCA', 30),\n",
       " ('CrookedHillary', 29),\n",
       " ('MakeAmericaGreatAgain!', 29),\n",
       " ('TimeToGetTough', 29),\n",
       " ('MAGA🇺🇸', 26),\n",
       " ('trumpvlog', 23),\n",
       " ('TrumpTrain', 22),\n",
       " ('PaycheckProtectionProgram', 21)]"
      ]
     },
     "execution_count": 118,
     "metadata": {},
     "output_type": "execute_result"
    }
   ],
   "source": [
    "hastag_kv= hastag.map(lambda word: (word, 1))\n",
    "hastag_kv = hastag_kv.mapValues(lambda tuple: 1)\n",
    "hastag_count_kv = hastag_kv.reduceByKey(lambda x,y : x+y)\n",
    "hastag_count_kv_ordered = hastag_count_kv.sortBy(lambda tuple: tuple[1], ascending=False)\n",
    "list_top_hastag = hastag_count_kv_ordered.take(25)\n",
    "list_top_hastag"
   ]
  },
  {
   "cell_type": "markdown",
   "metadata": {},
   "source": [
    "## Retweet analysis"
   ]
  },
  {
   "cell_type": "code",
   "execution_count": 119,
   "metadata": {},
   "outputs": [
    {
     "data": {
      "text/plain": [
       "[('realDonaldTrump', 8553),\n",
       " ('realDonaldTrump:', 1087),\n",
       " ('WhiteHouse:', 658),\n",
       " ('FoxNews', 519),\n",
       " ('BarackObama', 474),\n",
       " ('foxandfriends', 449),\n",
       " ('ApprenticeNBC', 296),\n",
       " ('TeamTrump:', 276),\n",
       " ('CNN', 276),\n",
       " ('GOPChairwoman:', 212),\n",
       " ('MittRomney', 190),\n",
       " ('seanhannity', 171),\n",
       " ('DanScavino:', 160),\n",
       " ('nytimes', 147),\n",
       " ('IvankaTrump', 141),\n",
       " ('Jim_Jordan:', 139),\n",
       " ('GOP:', 138),\n",
       " ('realDonaldTrump.', 133),\n",
       " ('megynkelly', 129),\n",
       " (\"BarackObama's\", 117),\n",
       " ('DonaldJTrumpJr:', 115),\n",
       " ('Scavino45:', 114),\n",
       " ('POTUS', 113),\n",
       " ('GreggJarrett:', 111),\n",
       " ('IvankaTrump:', 107)]"
      ]
     },
     "execution_count": 119,
     "metadata": {},
     "output_type": "execute_result"
    }
   ],
   "source": [
    "RT_from_kv = RT_from.map(lambda word: (word, 1))\n",
    "RT_from_kv = RT_from_kv.mapValues(lambda tuple: 1)\n",
    "RT_from_count_kv = RT_from_kv.reduceByKey(lambda x,y : x+y)\n",
    "RT_from_count_kv_ordered = RT_from_count_kv.sortBy(lambda tuple: tuple[1], ascending=False)\n",
    "list_top_retweet_from = RT_from_count_kv_ordered.take(25)\n",
    "list_top_retweet_from"
   ]
  },
  {
   "cell_type": "markdown",
   "metadata": {},
   "source": [
    "## Emoji analyis"
   ]
  },
  {
   "cell_type": "code",
   "execution_count": 122,
   "metadata": {},
   "outputs": [
    {
     "data": {
      "text/plain": [
       "[('🇺', 557),\n",
       " ('🇸', 550),\n",
       " ('🚨', 133),\n",
       " ('✅', 89),\n",
       " ('👍', 73),\n",
       " ('➡', 71),\n",
       " ('👇', 66),\n",
       " ('🏻', 59),\n",
       " ('❤', 45),\n",
       " ('🔥', 37),\n",
       " ('🤣', 32),\n",
       " ('⬇', 32),\n",
       " ('❌', 31),\n",
       " ('😂', 29),\n",
       " ('👏', 28),\n",
       " ('🙏', 26),\n",
       " ('🙌', 23),\n",
       " ('🇵', 23),\n",
       " ('🏼', 20),\n",
       " ('🎥', 19),\n",
       " ('💯', 18),\n",
       " ('🇯', 16),\n",
       " ('🇷', 15),\n",
       " ('▶', 15),\n",
       " ('✔', 14)]"
      ]
     },
     "execution_count": 122,
     "metadata": {},
     "output_type": "execute_result"
    }
   ],
   "source": [
    "emoji_kv = emoji_.map(lambda word: (word, 1))\n",
    "emoji_kv = emoji_kv.mapValues(lambda tuple: 1)\n",
    "emoji_count_kv = emoji_kv.reduceByKey(lambda x,y : x+y)\n",
    "emoji_count_kv_ordered = emoji_count_kv.sortBy(lambda tuple: tuple[1], ascending=False)\n",
    "list_top_emoji = emoji_count_kv_ordered.take(25)\n",
    "list_top_emoji"
   ]
  },
  {
   "cell_type": "markdown",
   "metadata": {},
   "source": [
    "We read the positive words"
   ]
  },
  {
   "cell_type": "markdown",
   "metadata": {},
   "source": [
    "- Top positives and top negatives words used\n",
    "- Overall sentiment scores (from positives and negatives words) : 2 methods : label data or vador\n",
    "- Top contextual words or hot topics (e.g. covid-19, presidential elections) : clustering\n",
    "and associated opinions…\n",
    "- Top hashtags (#) cited : function with lambda\n",
    "- Top references (@) cited"
   ]
  }
 ],
 "metadata": {
  "kernelspec": {
   "display_name": "Python 3",
   "language": "python",
   "name": "python3"
  },
  "language_info": {
   "codemirror_mode": {
    "name": "ipython",
    "version": 3
   },
   "file_extension": ".py",
   "mimetype": "text/x-python",
   "name": "python",
   "nbconvert_exporter": "python",
   "pygments_lexer": "ipython3",
   "version": "3.8.6"
  }
 },
 "nbformat": 4,
 "nbformat_minor": 4
}
