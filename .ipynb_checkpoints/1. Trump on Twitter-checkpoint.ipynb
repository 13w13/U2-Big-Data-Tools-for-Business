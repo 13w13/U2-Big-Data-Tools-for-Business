{
 "cells": [
  {
   "cell_type": "markdown",
   "metadata": {},
   "source": [
    "# Part 1: Donald Trump Communication Analysis on Twitter"
   ]
  },
  {
   "cell_type": "code",
   "execution_count": 1,
   "metadata": {},
   "outputs": [],
   "source": [
    "import pyspark "
   ]
  },
  {
   "cell_type": "code",
   "execution_count": 159,
   "metadata": {},
   "outputs": [],
   "source": [
    "import datetime\n",
    "import re\n",
    "import pandas as pd"
   ]
  },
  {
   "cell_type": "code",
   "execution_count": 147,
   "metadata": {},
   "outputs": [],
   "source": [
    "import nltk\n",
    "from cleantext import clean"
   ]
  },
  {
   "cell_type": "code",
   "execution_count": 2,
   "metadata": {
    "scrolled": true
   },
   "outputs": [],
   "source": [
    "sc = pyspark.SparkContext(appName=\"Spark RDD\")"
   ]
  },
  {
   "cell_type": "code",
   "execution_count": 31,
   "metadata": {},
   "outputs": [
    {
     "data": {
      "text/plain": [
       "['Republicans and Democrats have both created our economic problems.;02/08/2011 18:07:48',\n",
       " 'I was thrilled to be back in the Great city of Charlotte, North Carolina with thousands of hardworking American Patriots who love our Country, cherish our values, respect our laws, and always put AMERICA FIRST! Thank you for a wonderful evening!! #KAG2020 https://t.co/dNJZfRsl9y;03/03/2020 01:34:50',\n",
       " 'RT @CBS_Herridge: READ: Letter to surveillance court obtained by CBS News questions where there will be further disciplinary action and cho…;17/01/2020 03:22:47',\n",
       " 'The Unsolicited Mail In Ballot Scam is a major threat to our Democracy, &amp  the Democrats know it. Almost all recent elections using this system, even though much smaller &amp   with far fewer Ballots to count, have ended up being a disaster. Large numbers of missing Ballots &amp  Fraud!;12/09/2020 20:10:58',\n",
       " \"RT @MZHemingway: Very friendly telling of events here about Comey's apparent leaking to compliant media. If you read those articles and tho…;17/01/2020 13:13:59\",\n",
       " 'RT @WhiteHouse: President @realDonaldTrump announced historic steps to protect the Constitutional right to pray in public schools! https://…;17/01/2020 00:11:56',\n",
       " '“I’m running as a proud Democrat, for the Senate”. Sleepy Joe Biden today. It’s only going to get worse. It is not sustainable for our County - China will own us!!!!;12/10/2020 22:22:39',\n",
       " 'Getting a little exercise this morning! https://t.co/fyAAcbhbgk;01/02/2020 16:14:02',\n",
       " 'https://t.co/4qwCKQOiOw;23/10/2020 04:52:14',\n",
       " 'https://t.co/VlEu8yyovv;23/10/2020 04:46:53',\n",
       " 'https://t.co/z5CRqHO8vg;23/10/2020 04:46:49',\n",
       " 'https://t.co/TQCQiDrVOB;23/10/2020 04:46:45',\n",
       " 'RT @EricTrump: https://t.co/NcrNdOSfIV;23/10/2020 04:30:19',\n",
       " '\"RT @GOPChairwoman: The economic boom continues!',\n",
       " '',\n",
       " '273K jobs added in February ',\n",
       " '',\n",
       " '7M+ jobs added since @realDonaldTrump was elected',\n",
       " '',\n",
       " 'Unemploym…\";08/03/2020 04:01:46',\n",
       " \"RT @TomFitton: Vindman's behavior is a scandal. He should be removed from the @RealDonaldTrump White House ASAP to protect our foreign poli…;07/02/2020 17:35:20\",\n",
       " 'Thank you Elise! https://t.co/Y4Hb0zf5jk;09/01/2020 12:24:31',\n",
       " 'As per your request, Joe... https://t.co/78mzcfLEsF https://t.co/AalVkSfHFi;23/10/2020 04:09:59',\n",
       " \"RT @marklevinshow: President Trump was outstanding.\\xa0 I couldn't be prouder.\\xa0 Biden was making faces and was very dishonest about some of hi…;23/10/2020 03:58:38\",\n",
       " 'RT @RealRLimbaugh: Winning, winning, winning! @realDonaldTrump;23/10/2020 03:57:45',\n",
       " 'HUGE win today for the United States and for peace in the world. Sudan has agreed to a peace and normalization agreement with Israel! With the United Arab Emirates and Bahrain, that’s THREE Arab\\xa0countries to have done so in only a matter of weeks. More will follow! https://t.co/UHB8H6oaZc;23/10/2020 16:55:29',\n",
       " 'RT @TheRightMelissa: I guarantee it was the 1st time millions of Americans learned the “kids in cages” was Obama not Trump because the medi…;23/10/2020 15:06:21',\n",
       " 'Thank you Megyn! https://t.co/sC71EEWIOd;23/10/2020 15:04:10',\n",
       " '11 DAYS! #MAGA https://t.co/PuqeF1ctDs;23/10/2020 05:26:41',\n",
       " 'RT @megynkelly: Trump won this debate, handily. Biden wasn’t a force at all. Trump was substantive, on-point, well-tempered. Definitely hel…;23/10/2020 03:57:21',\n",
       " 'Nobody is showing up for Obama’s hate laced speeches. 47 people! No energy, but still better than Joe!;24/10/2020 20:11:38',\n",
       " 'Just landed in Ohio. See you in a little while!;24/10/2020 20:13:08',\n",
       " 'https://t.co/NX5zpbib3E;05/08/2020 17:20:01',\n",
       " '\"THANK YOU OHIO! #VOTE ',\n",
       " 'https://t.co/5EJjFZVLHZ\";24/10/2020 22:44:44',\n",
       " 'Great to be in Ohio, leaving now for Wisconsin. See you in a little while! https://t.co/jglAVPFzmR;24/10/2020 22:50:44',\n",
       " 'https://t.co/lw739qEfqr;24/10/2020 22:51:41',\n",
       " 'https://t.co/NBfIdXBEhp;24/10/2020 22:52:06',\n",
       " 'https://t.co/ATipOZ0jYG;24/10/2020 22:52:15',\n",
       " 'RT @DanScavino: President @realDonaldTrump on his way to a massive #MAGA🇺🇸🦅rally in Circleville, Ohio. Absolutely unbelievable—OHIO is TRUM…;24/10/2020 23:22:39',\n",
       " 'RT @chefjclark: People ask why the President fights so hard in court for ballot integrity?  Why we have such an extensive Election Day Oper…;24/10/2020 23:23:14',\n",
       " '\"RT @TeamTrump: TONIGHT: Watch President @realDonaldTrump\\'s Remarks from Waukesha, Wisconsin at 8:00 pm ET!',\n",
       " '',\n",
       " 'RSVP: https://t.co/5Fb0UaYEkN…\";24/10/2020 23:33:31',\n",
       " '\"RT @NRA: President @realDonaldTrump won the debate!',\n",
       " '',\n",
       " '\"\"Why didn\\'t you do that four years ago, @JoeBiden... I ran because of you because you…\";23/10/2020 04:25:57',\n",
       " '\"Thank you OHIO! #VOTE',\n",
       " 'https://t.co/gsFSghkmdM https://t.co/oOzmfm8vCo\";25/10/2020 00:37:07',\n",
       " 'What a terrible thing for Biden to say! Rigged Election? https://t.co/jQXxeQCZU9;25/10/2020 00:36:23',\n",
       " 'Landed in Wisconsin. BIG CROWD. On my way!;25/10/2020 00:40:17',\n",
       " 'RT @dbongino: THIS 👇🏻👇🏻;25/10/2020 00:46:57',\n",
       " '\"RT @dbongino: Amen to that!',\n",
       " 'https://t.co/yRr4OagnTO\";25/10/2020 00:48:11',\n",
       " '...And a great show by @JesseBWatters tonight. Watched it on way from Ohio to Wisconsin! https://t.co/6OIpWIBpop;25/10/2020 00:56:53',\n",
       " '\"RT @HeyTammyBruce: Crowd: We love you! We love you!',\n",
       " 'Trump: Thank you! ',\n",
       " 'Guy in Crowd: We really do! ',\n",
       " '😂❤️🇺🇸\";25/10/2020 00:59:15',\n",
       " 'RT @HeyTammyBruce: 😐;25/10/2020 01:00:03',\n",
       " 'Law Enforcement is watching and involved. So dishonest! https://t.co/DNtRroA92X;25/10/2020 01:02:49',\n",
       " '\"THANK YOU WISCONSIN!',\n",
       " 'https://t.co/nOcUhuuNoF\";25/10/2020 02:29:12',\n",
       " 'https://t.co/Zwgbeynhy3;25/10/2020 02:32:44',\n",
       " 'https://t.co/uF8BVW4WBV;25/10/2020 02:33:11',\n",
       " 'This is the most important election in the history of our Country. With your vote, we will continue to bring back your jobs, lower drug prices, support our police, protect the #2A, defend our borders, and ensure more products are proudly stamped with the phrase MADE IN THE USA! https://t.co/M0Ba8QR7Nl;25/10/2020 02:42:10',\n",
       " \"RT @LeeSmithDC: Joe Biden &amp  surrogates are lying. On 2/2/16, Ukrainian prosecutor seizes property of Burisma owner, so he's clearly under i…;25/10/2020 02:57:07\",\n",
       " 'As long as I am President, I will always stand with the HEROES of Law Enforcement! Joe Biden won’t. https://t.co/DfutxOeRaN;25/10/2020 02:58:35',\n",
       " '\"WISCONSIN! #VOTE #MAGA ',\n",
       " 'https://t.co/wk0tCalKZ6\";25/10/2020 03:07:59',\n",
       " 'https://t.co/gsFSghkmdM https://t.co/XB1XImsQlG;25/10/2020 03:11:43',\n",
       " 'RT @ArthurSchwartz: The metadata on the Biden family’s pitch materials to the Chinese Communist Party show that the doc was created on Jim…;25/10/2020 03:51:18',\n",
       " 'RT @thejtlewis: Joe Biden is campaigning with a conspiracy theorist who questioned the legitimacy of the Sandy Hook shooting - the shooting…;25/10/2020 04:44:46',\n",
       " 'RT @thejtlewis: With the utmost respect, I thank President @realDonaldTrump for his leadership on the Federal School Safety Report, and for…;25/10/2020 04:45:17',\n",
       " 'RT @thejtlewis: Yes, I can. I lost my brother in the Sandy Hook shooting and it was President @realDonaldTrump who met with me, heard my st…;25/10/2020 04:45:57',\n",
       " '\"RT @thejtlewis: Joe Biden: “We have put together the most extensive VOTER FRAUD organization in the history of American politics.”',\n",
       " ' https:/…\";25/10/2020 04:47:49',\n",
       " 'https://t.co/WuLi07jXaK;14/09/2020 05:47:03',\n",
       " '\"RT @mtaibbi: \"\"The least curious people in the country right now appear to be the credentialed news media, a situation normally unique to ti…\";25/10/2020 04:49:15',\n",
       " \"RT @SohrabAhmari: It's OK. The Post has weathered the vicissitudes of more than two centuries of American history. We will endure this, too…;25/10/2020 04:48:35\",\n",
       " '\"RT @SteveGuest: 👀👀 ',\n",
       " '',\n",
       " 'Joe Biden brags about having “the most extensive and inclusive VOTER FRAUD organization in the history of American pol…\";25/10/2020 04:50:42',\n",
       " 'RT @seanmdav: Murkowski had hoped to preemptively nuke the SCOTUS nomination by playing games early in the process. But once it became clea…;25/10/2020 04:51:29',\n",
       " '\"RT @JackPosobiec: Here is the Burisma email @TuckerCarlson referenced about \\'closing down any cases.\\'',\n",
       " '',\n",
       " 'We need to bring the focus back to t…\";25/10/2020 04:51:58',\n",
       " 'RT @GovernorPerry: .@JoeBiden &amp  Barack Obama killed the coal industry and if elected he will come after oil &amp  gas! @realDonaldTrump is a ch…;25/10/2020 04:52:28',\n",
       " 'RT @JoeShikhman: Incredible. The one public appearance Joe Biden does this weekend is a speech in Pennsylvania that immediately turns into…;25/10/2020 04:53:53',\n",
       " 'https://t.co/0q33fvaOS6;22/05/2020 00:14:34',\n",
       " '\"RT @RepMattGaetz: Joe Biden said he couldn’t get anything done during his last eight years because he had a Republican Congress.',\n",
       " '',\n",
       " '@realDona…\";25/10/2020 05:03:00',\n",
       " '\"RT @RepMattGaetz: We don\\'t build walls because we hate the people on the outside. ',\n",
       " '',\n",
       " 'We build walls because we love the people on the inside.\";25/10/2020 05:03:28',\n",
       " 'So true! https://t.co/obRV4tvaNo;25/10/2020 05:05:03',\n",
       " 'https://t.co/Dw4zuqXURT;24/10/2020 15:54:45',\n",
       " 'https://t.co/OBPF6cbxuc;24/10/2020 15:57:51',\n",
       " 'RT @GOPChairwoman: Joe Biden would put 19 million American jobs on the chopping block with his radical energy agenda! https://t.co/s4AyS9aB…;24/10/2020 15:56:53']"
      ]
     },
     "execution_count": 31,
     "metadata": {},
     "output_type": "execute_result"
    }
   ],
   "source": [
    "# first read the mbox.txt file into the RDD rdd_mbox\n",
    "\n",
    "rdd_mbox = sc.textFile('data/trump_tweets.txt')\n",
    "\n",
    "# print a sample of 10 lines of rdd_mox\n",
    "\n",
    "rdd_mbox.take(100)"
   ]
  },
  {
   "cell_type": "code",
   "execution_count": null,
   "metadata": {},
   "outputs": [],
   "source": [
    "rdd_mbox.distinct().count()"
   ]
  },
  {
   "cell_type": "code",
   "execution_count": null,
   "metadata": {},
   "outputs": [],
   "source": [
    "rdd_mbox.count()"
   ]
  },
  {
   "cell_type": "code",
   "execution_count": 5,
   "metadata": {},
   "outputs": [],
   "source": [
    "def check_startwith(tweet,start) :\n",
    "    if tweet.startswith(start) == True :\n",
    "        return 1\n",
    "    else :\n",
    "        return 0"
   ]
  },
  {
   "cell_type": "code",
   "execution_count": 181,
   "metadata": {},
   "outputs": [],
   "source": [
    "def find_time(tweet) :\n",
    "    match = re.search('\\d{2}:\\d{2}:\\d{2}', tweet)\n",
    "    if match :\n",
    "        time = datetime.datetime.strptime(match.group(), '%H:%M:%S').time()\n",
    "        return time"
   ]
  },
  {
   "cell_type": "code",
   "execution_count": 179,
   "metadata": {},
   "outputs": [],
   "source": [
    "def find_date(tweet) :\n",
    "    match = re.search('\\d{2}/\\d{2}/\\d{4}', tweet)\n",
    "    if match :\n",
    "        date = datetime.datetime.strptime(match.group(), '%d/%m/%Y').date()\n",
    "        return date"
   ]
  },
  {
   "cell_type": "code",
   "execution_count": 87,
   "metadata": {},
   "outputs": [],
   "source": [
    "def extract_url(tweet) :\n",
    "    url = re.findall(r'(https?://[^\\s]+)',str(tweet.split(';')[0]))\n",
    "    return url.as"
   ]
  },
  {
   "cell_type": "code",
   "execution_count": 183,
   "metadata": {},
   "outputs": [],
   "source": [
    "def extract_startwith(tweet,start) :\n",
    "    list_word = list()\n",
    "    for word in tweet.split(' ') :\n",
    "        if word.startswith(start) == True :\n",
    "            select_word = word[1:]\n",
    "            list_word.append(select_word)\n",
    "    return list_word"
   ]
  },
  {
   "cell_type": "code",
   "execution_count": 88,
   "metadata": {},
   "outputs": [],
   "source": [
    "RT = rdd_mbox.map(lambda tweet : check_startwith(tweet, 'RT'))"
   ]
  },
  {
   "cell_type": "code",
   "execution_count": 180,
   "metadata": {},
   "outputs": [],
   "source": [
    "Date = rdd_mbox.map(lambda tweet : find_date(tweet))"
   ]
  },
  {
   "cell_type": "code",
   "execution_count": 182,
   "metadata": {},
   "outputs": [],
   "source": [
    "Time = rdd_mbox.map(lambda tweet : find_time(tweet))"
   ]
  },
  {
   "cell_type": "code",
   "execution_count": 90,
   "metadata": {},
   "outputs": [],
   "source": [
    "URL = rdd_mbox.map(lambda tweet : extract_url(tweet))"
   ]
  },
  {
   "cell_type": "code",
   "execution_count": 184,
   "metadata": {},
   "outputs": [],
   "source": [
    "hastag = rdd_mbox.map(lambda tweet : extract_startwith(tweet,'#'))"
   ]
  },
  {
   "cell_type": "code",
   "execution_count": 185,
   "metadata": {},
   "outputs": [],
   "source": [
    "RT_from = rdd_mbox.map(lambda tweet : extract_startwith(tweet,'@'))"
   ]
  },
  {
   "cell_type": "code",
   "execution_count": 167,
   "metadata": {},
   "outputs": [],
   "source": [
    "clean_tweet = rdd_mbox.map(lambda tweet : clean( str(tweet), \n",
    "    extra_spaces=True ,  # Remove extra white space \n",
    "    #stemming=True , # Stem the words\n",
    "    #stopwords=True ,# Remove stop words\n",
    "    lowercase=True ,# Convert to lowercase\n",
    "    numbers=True ,# Remove all digits \n",
    "    punct=True ,# Remove all punctuations\n",
    "    stp_lang='english'  # Language for stop words\n",
    "))"
   ]
  },
  {
   "cell_type": "code",
   "execution_count": 169,
   "metadata": {},
   "outputs": [],
   "source": [
    "clean_tweet_stop_words = rdd_mbox.map(lambda tweet : clean( str(tweet), \n",
    "    extra_spaces=True ,  # Remove extra white space \n",
    "    #stemming=True , # Stem the words\n",
    "    stopwords=True ,# Remove stop words\n",
    "    lowercase=True ,# Convert to lowercase\n",
    "    numbers=True ,# Remove all digits \n",
    "    punct=True ,# Remove all punctuations\n",
    "    stp_lang='english'  # Language for stop words\n",
    "))"
   ]
  },
  {
   "cell_type": "code",
   "execution_count": 170,
   "metadata": {},
   "outputs": [],
   "source": [
    "clean_tweet_stop_words_stemming = rdd_mbox.map(lambda tweet : clean( str(tweet), \n",
    "    extra_spaces=True ,  # Remove extra white space \n",
    "    stemming=True , # Stem the words\n",
    "    stopwords=True ,# Remove stop words\n",
    "    lowercase=True ,# Convert to lowercase\n",
    "    numbers=True ,# Remove all digits \n",
    "    punct=True ,# Remove all punctuations\n",
    "    stp_lang='english'  # Language for stop words\n",
    "))"
   ]
  },
  {
   "cell_type": "markdown",
   "metadata": {},
   "source": [
    "- Top positives and top negatives words used\n",
    "- Overall sentiment scores (from positives and negatives words) : 2 methods : label data or vador\n",
    "- Top contextual words or hot topics (e.g. covid-19, presidential elections) : clustering\n",
    "and associated opinions…\n",
    "- Top hashtags (#) cited : function with lambda\n",
    "- Top references (@) cited"
   ]
  }
 ],
 "metadata": {
  "kernelspec": {
   "display_name": "Python 3",
   "language": "python",
   "name": "python3"
  },
  "language_info": {
   "codemirror_mode": {
    "name": "ipython",
    "version": 3
   },
   "file_extension": ".py",
   "mimetype": "text/x-python",
   "name": "python",
   "nbconvert_exporter": "python",
   "pygments_lexer": "ipython3",
   "version": "3.8.6"
  }
 },
 "nbformat": 4,
 "nbformat_minor": 4
}
